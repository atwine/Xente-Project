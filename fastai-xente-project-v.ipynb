{
 "cells": [
  {
   "cell_type": "code",
   "execution_count": 1,
   "metadata": {},
   "outputs": [],
   "source": [
    "%load_ext autoreload\n",
    "%autoreload 2\n",
    "\n",
    "%matplotlib inline"
   ]
  },
  {
   "cell_type": "code",
   "execution_count": 2,
   "metadata": {
    "_kg_hide-output": true
   },
   "outputs": [],
   "source": [
    "#we are going to use fastai.\n",
    "#%pip install fastai==0.7.0"
   ]
  },
  {
   "cell_type": "markdown",
   "metadata": {},
   "source": [
    "## Fraud Detection Zindi Project\n",
    "\n",
    "By Atwine Mugume\n",
    "\n",
    "Some of the resources used here include these articles that educate on imbalanced data\n",
    "\n",
    "- [Dealing with Imbalanced Data](https://towardsdatascience.com/methods-for-dealing-with-imbalanced-data-5b761be45a18)\n",
    "- [Handling Imbalanced Datasets: Predicting Credit Card Fraud](https://medium.com/coinmonks/handling-imbalanced-datasets-predicting-credit-card-fraud-544f5e74e0fd)\n",
    "- [Tackling Class Imbalance](https://www.kaggle.com/shahules/tackling-class-imbalance)  thanks to Shahules786's kernel\n",
    "- [Great article on scaling data](https://www.kaggle.com/discdiver/guide-to-scaling-and-standardizing?source=post_page---------------------------)\n",
    "-[performance-metrics-for-classification-problems](https://medium.com/thalus-ai/performance-metrics-for-classification-problems-in-machine-learning-part-i-b085d432082b)\n"
   ]
  },
  {
   "cell_type": "code",
   "execution_count": 3,
   "metadata": {
    "_cell_guid": "b1076dfc-b9ad-4769-8c92-a6c4dae69d19",
    "_uuid": "8f2839f25d086af736a60e9eeb907d3b93b6e0e5"
   },
   "outputs": [
    {
     "name": "stdout",
     "output_type": "stream",
     "text": [
      "['training.csv', 'test.csv', '.ipynb_checkpoints', 'Xente_Variable_Definitions.csv', 'fastai-xente-project-v.ipynb']\n",
      "CPU times: user 0 ns, sys: 0 ns, total: 0 ns\n",
      "Wall time: 6.68 µs\n",
      "Importing fastai libraries\n",
      "Done!\n"
     ]
    }
   ],
   "source": [
    "# This Python 3 environment comes with many helpful analytics libraries installed\n",
    "# It is defined by the kaggle/python docker image: https://github.com/kaggle/docker-python\n",
    "# For example, here's several helpful packages to load in \n",
    "\n",
    "import numpy as np # linear algebra\n",
    "import pandas as pd # data processing, CSV file I/O (e.g. pd.read_csv)\n",
    "import matplotlib.pyplot as plt\n",
    "import seaborn as sns\n",
    "\n",
    "# Input data files are available in the \"../input/\" directory.\n",
    "# For example, running this (by clicking run or pressing Shift+Enter) will list the files in the input directory\n",
    "\n",
    "import os\n",
    "print(os.listdir(\"./\"))\n",
    "\n",
    "# Any results you write to the current directory are saved as output.\n",
    "\n",
    "%time\n",
    "print('Importing fastai libraries')\n",
    "from fastai.imports import *\n",
    "from fastai.structured import *\n",
    "\n",
    "from pandas_summary import DataFrameSummary\n",
    "from sklearn.ensemble import RandomForestRegressor, RandomForestClassifier\n",
    "from IPython.display import display\n",
    "\n",
    "from sklearn import metrics\n",
    "\n",
    "print('Done!')"
   ]
  },
  {
   "cell_type": "code",
   "execution_count": 4,
   "metadata": {},
   "outputs": [],
   "source": [
    "#%pip install --upgrade numpy"
   ]
  },
  {
   "cell_type": "code",
   "execution_count": 5,
   "metadata": {
    "_cell_guid": "79c7e3d0-c299-4dcb-8224-4455121ee9b0",
    "_uuid": "d629ff2d2480ee46fbb7e2d37f6b5fab8052498a"
   },
   "outputs": [
    {
     "name": "stdout",
     "output_type": "stream",
     "text": [
      "Done Readind the data!\n"
     ]
    }
   ],
   "source": [
    "#let's take a quick look at the data\n",
    "#since we have a time variable we have to parse the dates\n",
    "train = pd.read_csv('./training.csv', low_memory=True, \n",
    "                     parse_dates=[\"TransactionStartTime\"])\n",
    "test = pd.read_csv('./test.csv',low_memory=True, \n",
    "                     parse_dates=[\"TransactionStartTime\"])\n",
    "\n",
    "print('Done Readind the data!')"
   ]
  },
  {
   "cell_type": "code",
   "execution_count": 6,
   "metadata": {},
   "outputs": [
    {
     "data": {
      "text/html": [
       "<div>\n",
       "<style scoped>\n",
       "    .dataframe tbody tr th:only-of-type {\n",
       "        vertical-align: middle;\n",
       "    }\n",
       "\n",
       "    .dataframe tbody tr th {\n",
       "        vertical-align: top;\n",
       "    }\n",
       "\n",
       "    .dataframe thead th {\n",
       "        text-align: right;\n",
       "    }\n",
       "</style>\n",
       "<table border=\"1\" class=\"dataframe\">\n",
       "  <thead>\n",
       "    <tr style=\"text-align: right;\">\n",
       "      <th></th>\n",
       "      <th>Column Name</th>\n",
       "      <th>Definition</th>\n",
       "    </tr>\n",
       "  </thead>\n",
       "  <tbody>\n",
       "    <tr>\n",
       "      <th>0</th>\n",
       "      <td>TransactionId</td>\n",
       "      <td>Unique �transaction identifier on platform</td>\n",
       "    </tr>\n",
       "    <tr>\n",
       "      <th>1</th>\n",
       "      <td>BatchId</td>\n",
       "      <td>Unique number assigned to a batch of transacti...</td>\n",
       "    </tr>\n",
       "    <tr>\n",
       "      <th>2</th>\n",
       "      <td>AccountId</td>\n",
       "      <td>Unique number identifying the customer on plat...</td>\n",
       "    </tr>\n",
       "    <tr>\n",
       "      <th>3</th>\n",
       "      <td>SubscriptionId</td>\n",
       "      <td>Unique number identifying the customer subscri...</td>\n",
       "    </tr>\n",
       "    <tr>\n",
       "      <th>4</th>\n",
       "      <td>CustomerId</td>\n",
       "      <td>Unique identifier attached to Account</td>\n",
       "    </tr>\n",
       "    <tr>\n",
       "      <th>5</th>\n",
       "      <td>CurrencyCode</td>\n",
       "      <td>Country currency</td>\n",
       "    </tr>\n",
       "    <tr>\n",
       "      <th>6</th>\n",
       "      <td>CountryCode</td>\n",
       "      <td>Numerical geographical code of country</td>\n",
       "    </tr>\n",
       "    <tr>\n",
       "      <th>7</th>\n",
       "      <td>ProviderId</td>\n",
       "      <td>Source provider of Item �bought.</td>\n",
       "    </tr>\n",
       "    <tr>\n",
       "      <th>8</th>\n",
       "      <td>ProductId</td>\n",
       "      <td>Item name being bought.</td>\n",
       "    </tr>\n",
       "    <tr>\n",
       "      <th>9</th>\n",
       "      <td>ProductCategory</td>\n",
       "      <td>ProductIds are organized into these broader pr...</td>\n",
       "    </tr>\n",
       "    <tr>\n",
       "      <th>10</th>\n",
       "      <td>ChannelId</td>\n",
       "      <td>Identifies if customer used web,Android, IOS, ...</td>\n",
       "    </tr>\n",
       "    <tr>\n",
       "      <th>11</th>\n",
       "      <td>Amount</td>\n",
       "      <td>Value of the transaction. Positive for debits ...</td>\n",
       "    </tr>\n",
       "    <tr>\n",
       "      <th>12</th>\n",
       "      <td>Value</td>\n",
       "      <td>Absolute value of the amount</td>\n",
       "    </tr>\n",
       "    <tr>\n",
       "      <th>13</th>\n",
       "      <td>TransactionStartTime</td>\n",
       "      <td>Transaction start time</td>\n",
       "    </tr>\n",
       "    <tr>\n",
       "      <th>14</th>\n",
       "      <td>PricingStrategy</td>\n",
       "      <td>Category of Xente's pricing structure for merc...</td>\n",
       "    </tr>\n",
       "    <tr>\n",
       "      <th>15</th>\n",
       "      <td>FraudResult</td>\n",
       "      <td>Fraud status of transaction 1 -yes or 0-No</td>\n",
       "    </tr>\n",
       "  </tbody>\n",
       "</table>\n",
       "</div>"
      ],
      "text/plain": [
       "             Column Name                                         Definition\n",
       "0          TransactionId         Unique �transaction identifier on platform\n",
       "1                BatchId  Unique number assigned to a batch of transacti...\n",
       "2              AccountId  Unique number identifying the customer on plat...\n",
       "3         SubscriptionId  Unique number identifying the customer subscri...\n",
       "4             CustomerId              Unique identifier attached to Account\n",
       "5           CurrencyCode                                   Country currency\n",
       "6            CountryCode             Numerical geographical code of country\n",
       "7             ProviderId                   Source provider of Item �bought.\n",
       "8              ProductId                            Item name being bought.\n",
       "9        ProductCategory  ProductIds are organized into these broader pr...\n",
       "10             ChannelId  Identifies if customer used web,Android, IOS, ...\n",
       "11                Amount  Value of the transaction. Positive for debits ...\n",
       "12                 Value                       Absolute value of the amount\n",
       "13  TransactionStartTime                             Transaction start time\n",
       "14       PricingStrategy  Category of Xente's pricing structure for merc...\n",
       "15           FraudResult         Fraud status of transaction 1 -yes or 0-No"
      ]
     },
     "execution_count": 6,
     "metadata": {},
     "output_type": "execute_result"
    }
   ],
   "source": [
    "#let's have a description of the variables here to keep refering to them\n",
    "feature_desc = pd.read_csv('./Xente_Variable_Definitions.csv')\n",
    "feature_desc"
   ]
  },
  {
   "cell_type": "code",
   "execution_count": 7,
   "metadata": {},
   "outputs": [
    {
     "data": {
      "text/plain": [
       "((95662, 16), (45019, 15))"
      ]
     },
     "execution_count": 7,
     "metadata": {},
     "output_type": "execute_result"
    }
   ],
   "source": [
    "#what does the data look like\n",
    "train.shape,test.shape"
   ]
  },
  {
   "cell_type": "markdown",
   "metadata": {},
   "source": [
    "There are datasets which we have to look at carefully because they have a time variable. We have to make sure the time is progressive.\n",
    "That is we are having the first rows from a time before those at the end of the dataset\n",
    "\n",
    "For example if the first row is on the date 9/Jan/2019 the last row should not be the same date...it should be maybe 25/Oct/2021 so we can have a progression. \n",
    "\n",
    "Therefore our model will be used to tell the future."
   ]
  },
  {
   "cell_type": "code",
   "execution_count": 8,
   "metadata": {},
   "outputs": [
    {
     "data": {
      "text/html": [
       "<div>\n",
       "<style scoped>\n",
       "    .dataframe tbody tr th:only-of-type {\n",
       "        vertical-align: middle;\n",
       "    }\n",
       "\n",
       "    .dataframe tbody tr th {\n",
       "        vertical-align: top;\n",
       "    }\n",
       "\n",
       "    .dataframe thead th {\n",
       "        text-align: right;\n",
       "    }\n",
       "</style>\n",
       "<table border=\"1\" class=\"dataframe\">\n",
       "  <thead>\n",
       "    <tr style=\"text-align: right;\">\n",
       "      <th></th>\n",
       "      <th>TransactionId</th>\n",
       "      <th>BatchId</th>\n",
       "      <th>AccountId</th>\n",
       "      <th>SubscriptionId</th>\n",
       "      <th>CustomerId</th>\n",
       "      <th>CurrencyCode</th>\n",
       "      <th>CountryCode</th>\n",
       "      <th>ProviderId</th>\n",
       "      <th>ProductId</th>\n",
       "      <th>ProductCategory</th>\n",
       "      <th>ChannelId</th>\n",
       "      <th>Amount</th>\n",
       "      <th>Value</th>\n",
       "      <th>TransactionStartTime</th>\n",
       "      <th>PricingStrategy</th>\n",
       "      <th>FraudResult</th>\n",
       "    </tr>\n",
       "  </thead>\n",
       "  <tbody>\n",
       "    <tr>\n",
       "      <th>0</th>\n",
       "      <td>TransactionId_76871</td>\n",
       "      <td>BatchId_36123</td>\n",
       "      <td>AccountId_3957</td>\n",
       "      <td>SubscriptionId_887</td>\n",
       "      <td>CustomerId_4406</td>\n",
       "      <td>UGX</td>\n",
       "      <td>256</td>\n",
       "      <td>ProviderId_6</td>\n",
       "      <td>ProductId_10</td>\n",
       "      <td>airtime</td>\n",
       "      <td>ChannelId_3</td>\n",
       "      <td>1000.0</td>\n",
       "      <td>1000</td>\n",
       "      <td>2018-11-15 02:18:49+00:00</td>\n",
       "      <td>2</td>\n",
       "      <td>0</td>\n",
       "    </tr>\n",
       "    <tr>\n",
       "      <th>1</th>\n",
       "      <td>TransactionId_73770</td>\n",
       "      <td>BatchId_15642</td>\n",
       "      <td>AccountId_4841</td>\n",
       "      <td>SubscriptionId_3829</td>\n",
       "      <td>CustomerId_4406</td>\n",
       "      <td>UGX</td>\n",
       "      <td>256</td>\n",
       "      <td>ProviderId_4</td>\n",
       "      <td>ProductId_6</td>\n",
       "      <td>financial_services</td>\n",
       "      <td>ChannelId_2</td>\n",
       "      <td>-20.0</td>\n",
       "      <td>20</td>\n",
       "      <td>2018-11-15 02:19:08+00:00</td>\n",
       "      <td>2</td>\n",
       "      <td>0</td>\n",
       "    </tr>\n",
       "    <tr>\n",
       "      <th>2</th>\n",
       "      <td>TransactionId_26203</td>\n",
       "      <td>BatchId_53941</td>\n",
       "      <td>AccountId_4229</td>\n",
       "      <td>SubscriptionId_222</td>\n",
       "      <td>CustomerId_4683</td>\n",
       "      <td>UGX</td>\n",
       "      <td>256</td>\n",
       "      <td>ProviderId_6</td>\n",
       "      <td>ProductId_1</td>\n",
       "      <td>airtime</td>\n",
       "      <td>ChannelId_3</td>\n",
       "      <td>500.0</td>\n",
       "      <td>500</td>\n",
       "      <td>2018-11-15 02:44:21+00:00</td>\n",
       "      <td>2</td>\n",
       "      <td>0</td>\n",
       "    </tr>\n",
       "    <tr>\n",
       "      <th>3</th>\n",
       "      <td>TransactionId_380</td>\n",
       "      <td>BatchId_102363</td>\n",
       "      <td>AccountId_648</td>\n",
       "      <td>SubscriptionId_2185</td>\n",
       "      <td>CustomerId_988</td>\n",
       "      <td>UGX</td>\n",
       "      <td>256</td>\n",
       "      <td>ProviderId_1</td>\n",
       "      <td>ProductId_21</td>\n",
       "      <td>utility_bill</td>\n",
       "      <td>ChannelId_3</td>\n",
       "      <td>20000.0</td>\n",
       "      <td>21800</td>\n",
       "      <td>2018-11-15 03:32:55+00:00</td>\n",
       "      <td>2</td>\n",
       "      <td>0</td>\n",
       "    </tr>\n",
       "    <tr>\n",
       "      <th>4</th>\n",
       "      <td>TransactionId_28195</td>\n",
       "      <td>BatchId_38780</td>\n",
       "      <td>AccountId_4841</td>\n",
       "      <td>SubscriptionId_3829</td>\n",
       "      <td>CustomerId_988</td>\n",
       "      <td>UGX</td>\n",
       "      <td>256</td>\n",
       "      <td>ProviderId_4</td>\n",
       "      <td>ProductId_6</td>\n",
       "      <td>financial_services</td>\n",
       "      <td>ChannelId_2</td>\n",
       "      <td>-644.0</td>\n",
       "      <td>644</td>\n",
       "      <td>2018-11-15 03:34:21+00:00</td>\n",
       "      <td>2</td>\n",
       "      <td>0</td>\n",
       "    </tr>\n",
       "  </tbody>\n",
       "</table>\n",
       "</div>"
      ],
      "text/plain": [
       "         TransactionId         BatchId       AccountId       SubscriptionId  \\\n",
       "0  TransactionId_76871   BatchId_36123  AccountId_3957   SubscriptionId_887   \n",
       "1  TransactionId_73770   BatchId_15642  AccountId_4841  SubscriptionId_3829   \n",
       "2  TransactionId_26203   BatchId_53941  AccountId_4229   SubscriptionId_222   \n",
       "3    TransactionId_380  BatchId_102363   AccountId_648  SubscriptionId_2185   \n",
       "4  TransactionId_28195   BatchId_38780  AccountId_4841  SubscriptionId_3829   \n",
       "\n",
       "        CustomerId CurrencyCode  CountryCode    ProviderId     ProductId  \\\n",
       "0  CustomerId_4406          UGX          256  ProviderId_6  ProductId_10   \n",
       "1  CustomerId_4406          UGX          256  ProviderId_4   ProductId_6   \n",
       "2  CustomerId_4683          UGX          256  ProviderId_6   ProductId_1   \n",
       "3   CustomerId_988          UGX          256  ProviderId_1  ProductId_21   \n",
       "4   CustomerId_988          UGX          256  ProviderId_4   ProductId_6   \n",
       "\n",
       "      ProductCategory    ChannelId   Amount  Value      TransactionStartTime  \\\n",
       "0             airtime  ChannelId_3   1000.0   1000 2018-11-15 02:18:49+00:00   \n",
       "1  financial_services  ChannelId_2    -20.0     20 2018-11-15 02:19:08+00:00   \n",
       "2             airtime  ChannelId_3    500.0    500 2018-11-15 02:44:21+00:00   \n",
       "3        utility_bill  ChannelId_3  20000.0  21800 2018-11-15 03:32:55+00:00   \n",
       "4  financial_services  ChannelId_2   -644.0    644 2018-11-15 03:34:21+00:00   \n",
       "\n",
       "   PricingStrategy  FraudResult  \n",
       "0                2            0  \n",
       "1                2            0  \n",
       "2                2            0  \n",
       "3                2            0  \n",
       "4                2            0  "
      ]
     },
     "execution_count": 8,
     "metadata": {},
     "output_type": "execute_result"
    }
   ],
   "source": [
    "#let's have a snippet of the head of the two datasets\n",
    "train.head(5)"
   ]
  },
  {
   "cell_type": "code",
   "execution_count": 9,
   "metadata": {},
   "outputs": [
    {
     "data": {
      "text/html": [
       "<div>\n",
       "<style scoped>\n",
       "    .dataframe tbody tr th:only-of-type {\n",
       "        vertical-align: middle;\n",
       "    }\n",
       "\n",
       "    .dataframe tbody tr th {\n",
       "        vertical-align: top;\n",
       "    }\n",
       "\n",
       "    .dataframe thead th {\n",
       "        text-align: right;\n",
       "    }\n",
       "</style>\n",
       "<table border=\"1\" class=\"dataframe\">\n",
       "  <thead>\n",
       "    <tr style=\"text-align: right;\">\n",
       "      <th></th>\n",
       "      <th>TransactionId</th>\n",
       "      <th>BatchId</th>\n",
       "      <th>AccountId</th>\n",
       "      <th>SubscriptionId</th>\n",
       "      <th>CustomerId</th>\n",
       "      <th>CurrencyCode</th>\n",
       "      <th>CountryCode</th>\n",
       "      <th>ProviderId</th>\n",
       "      <th>ProductId</th>\n",
       "      <th>ProductCategory</th>\n",
       "      <th>ChannelId</th>\n",
       "      <th>Amount</th>\n",
       "      <th>Value</th>\n",
       "      <th>TransactionStartTime</th>\n",
       "      <th>PricingStrategy</th>\n",
       "      <th>FraudResult</th>\n",
       "    </tr>\n",
       "  </thead>\n",
       "  <tbody>\n",
       "    <tr>\n",
       "      <th>95657</th>\n",
       "      <td>TransactionId_89881</td>\n",
       "      <td>BatchId_96668</td>\n",
       "      <td>AccountId_4841</td>\n",
       "      <td>SubscriptionId_3829</td>\n",
       "      <td>CustomerId_3078</td>\n",
       "      <td>UGX</td>\n",
       "      <td>256</td>\n",
       "      <td>ProviderId_4</td>\n",
       "      <td>ProductId_6</td>\n",
       "      <td>financial_services</td>\n",
       "      <td>ChannelId_2</td>\n",
       "      <td>-1000.0</td>\n",
       "      <td>1000</td>\n",
       "      <td>2019-02-13 09:54:09+00:00</td>\n",
       "      <td>2</td>\n",
       "      <td>0</td>\n",
       "    </tr>\n",
       "    <tr>\n",
       "      <th>95658</th>\n",
       "      <td>TransactionId_91597</td>\n",
       "      <td>BatchId_3503</td>\n",
       "      <td>AccountId_3439</td>\n",
       "      <td>SubscriptionId_2643</td>\n",
       "      <td>CustomerId_3874</td>\n",
       "      <td>UGX</td>\n",
       "      <td>256</td>\n",
       "      <td>ProviderId_6</td>\n",
       "      <td>ProductId_10</td>\n",
       "      <td>airtime</td>\n",
       "      <td>ChannelId_3</td>\n",
       "      <td>1000.0</td>\n",
       "      <td>1000</td>\n",
       "      <td>2019-02-13 09:54:25+00:00</td>\n",
       "      <td>2</td>\n",
       "      <td>0</td>\n",
       "    </tr>\n",
       "    <tr>\n",
       "      <th>95659</th>\n",
       "      <td>TransactionId_82501</td>\n",
       "      <td>BatchId_118602</td>\n",
       "      <td>AccountId_4841</td>\n",
       "      <td>SubscriptionId_3829</td>\n",
       "      <td>CustomerId_3874</td>\n",
       "      <td>UGX</td>\n",
       "      <td>256</td>\n",
       "      <td>ProviderId_4</td>\n",
       "      <td>ProductId_6</td>\n",
       "      <td>financial_services</td>\n",
       "      <td>ChannelId_2</td>\n",
       "      <td>-20.0</td>\n",
       "      <td>20</td>\n",
       "      <td>2019-02-13 09:54:35+00:00</td>\n",
       "      <td>2</td>\n",
       "      <td>0</td>\n",
       "    </tr>\n",
       "    <tr>\n",
       "      <th>95660</th>\n",
       "      <td>TransactionId_136354</td>\n",
       "      <td>BatchId_70924</td>\n",
       "      <td>AccountId_1346</td>\n",
       "      <td>SubscriptionId_652</td>\n",
       "      <td>CustomerId_1709</td>\n",
       "      <td>UGX</td>\n",
       "      <td>256</td>\n",
       "      <td>ProviderId_6</td>\n",
       "      <td>ProductId_19</td>\n",
       "      <td>tv</td>\n",
       "      <td>ChannelId_3</td>\n",
       "      <td>3000.0</td>\n",
       "      <td>3000</td>\n",
       "      <td>2019-02-13 10:01:10+00:00</td>\n",
       "      <td>2</td>\n",
       "      <td>0</td>\n",
       "    </tr>\n",
       "    <tr>\n",
       "      <th>95661</th>\n",
       "      <td>TransactionId_35670</td>\n",
       "      <td>BatchId_29317</td>\n",
       "      <td>AccountId_4841</td>\n",
       "      <td>SubscriptionId_3829</td>\n",
       "      <td>CustomerId_1709</td>\n",
       "      <td>UGX</td>\n",
       "      <td>256</td>\n",
       "      <td>ProviderId_4</td>\n",
       "      <td>ProductId_6</td>\n",
       "      <td>financial_services</td>\n",
       "      <td>ChannelId_2</td>\n",
       "      <td>-60.0</td>\n",
       "      <td>60</td>\n",
       "      <td>2019-02-13 10:01:28+00:00</td>\n",
       "      <td>2</td>\n",
       "      <td>0</td>\n",
       "    </tr>\n",
       "  </tbody>\n",
       "</table>\n",
       "</div>"
      ],
      "text/plain": [
       "              TransactionId         BatchId       AccountId  \\\n",
       "95657   TransactionId_89881   BatchId_96668  AccountId_4841   \n",
       "95658   TransactionId_91597    BatchId_3503  AccountId_3439   \n",
       "95659   TransactionId_82501  BatchId_118602  AccountId_4841   \n",
       "95660  TransactionId_136354   BatchId_70924  AccountId_1346   \n",
       "95661   TransactionId_35670   BatchId_29317  AccountId_4841   \n",
       "\n",
       "            SubscriptionId       CustomerId CurrencyCode  CountryCode  \\\n",
       "95657  SubscriptionId_3829  CustomerId_3078          UGX          256   \n",
       "95658  SubscriptionId_2643  CustomerId_3874          UGX          256   \n",
       "95659  SubscriptionId_3829  CustomerId_3874          UGX          256   \n",
       "95660   SubscriptionId_652  CustomerId_1709          UGX          256   \n",
       "95661  SubscriptionId_3829  CustomerId_1709          UGX          256   \n",
       "\n",
       "         ProviderId     ProductId     ProductCategory    ChannelId  Amount  \\\n",
       "95657  ProviderId_4   ProductId_6  financial_services  ChannelId_2 -1000.0   \n",
       "95658  ProviderId_6  ProductId_10             airtime  ChannelId_3  1000.0   \n",
       "95659  ProviderId_4   ProductId_6  financial_services  ChannelId_2   -20.0   \n",
       "95660  ProviderId_6  ProductId_19                  tv  ChannelId_3  3000.0   \n",
       "95661  ProviderId_4   ProductId_6  financial_services  ChannelId_2   -60.0   \n",
       "\n",
       "       Value      TransactionStartTime  PricingStrategy  FraudResult  \n",
       "95657   1000 2019-02-13 09:54:09+00:00                2            0  \n",
       "95658   1000 2019-02-13 09:54:25+00:00                2            0  \n",
       "95659     20 2019-02-13 09:54:35+00:00                2            0  \n",
       "95660   3000 2019-02-13 10:01:10+00:00                2            0  \n",
       "95661     60 2019-02-13 10:01:28+00:00                2            0  "
      ]
     },
     "execution_count": 9,
     "metadata": {},
     "output_type": "execute_result"
    }
   ],
   "source": [
    "train.tail(5)"
   ]
  },
  {
   "cell_type": "code",
   "execution_count": 10,
   "metadata": {},
   "outputs": [
    {
     "data": {
      "text/html": [
       "<div>\n",
       "<style scoped>\n",
       "    .dataframe tbody tr th:only-of-type {\n",
       "        vertical-align: middle;\n",
       "    }\n",
       "\n",
       "    .dataframe tbody tr th {\n",
       "        vertical-align: top;\n",
       "    }\n",
       "\n",
       "    .dataframe thead th {\n",
       "        text-align: right;\n",
       "    }\n",
       "</style>\n",
       "<table border=\"1\" class=\"dataframe\">\n",
       "  <thead>\n",
       "    <tr style=\"text-align: right;\">\n",
       "      <th></th>\n",
       "      <th>TransactionId</th>\n",
       "      <th>BatchId</th>\n",
       "      <th>AccountId</th>\n",
       "      <th>SubscriptionId</th>\n",
       "      <th>CustomerId</th>\n",
       "      <th>CurrencyCode</th>\n",
       "      <th>CountryCode</th>\n",
       "      <th>ProviderId</th>\n",
       "      <th>ProductId</th>\n",
       "      <th>ProductCategory</th>\n",
       "      <th>ChannelId</th>\n",
       "      <th>Amount</th>\n",
       "      <th>Value</th>\n",
       "      <th>TransactionStartTime</th>\n",
       "      <th>PricingStrategy</th>\n",
       "    </tr>\n",
       "  </thead>\n",
       "  <tbody>\n",
       "    <tr>\n",
       "      <th>0</th>\n",
       "      <td>TransactionId_50600</td>\n",
       "      <td>BatchId_35028</td>\n",
       "      <td>AccountId_2441</td>\n",
       "      <td>SubscriptionId_4426</td>\n",
       "      <td>CustomerId_2857</td>\n",
       "      <td>UGX</td>\n",
       "      <td>256</td>\n",
       "      <td>ProviderId_5</td>\n",
       "      <td>ProductId_3</td>\n",
       "      <td>airtime</td>\n",
       "      <td>ChannelId_3</td>\n",
       "      <td>1000.0</td>\n",
       "      <td>1000</td>\n",
       "      <td>2019-02-13 10:01:40+00:00</td>\n",
       "      <td>4</td>\n",
       "    </tr>\n",
       "    <tr>\n",
       "      <th>1</th>\n",
       "      <td>TransactionId_95109</td>\n",
       "      <td>BatchId_45139</td>\n",
       "      <td>AccountId_3439</td>\n",
       "      <td>SubscriptionId_2643</td>\n",
       "      <td>CustomerId_3874</td>\n",
       "      <td>UGX</td>\n",
       "      <td>256</td>\n",
       "      <td>ProviderId_5</td>\n",
       "      <td>ProductId_15</td>\n",
       "      <td>financial_services</td>\n",
       "      <td>ChannelId_3</td>\n",
       "      <td>2000.0</td>\n",
       "      <td>2000</td>\n",
       "      <td>2019-02-13 10:02:12+00:00</td>\n",
       "      <td>2</td>\n",
       "    </tr>\n",
       "    <tr>\n",
       "      <th>2</th>\n",
       "      <td>TransactionId_47357</td>\n",
       "      <td>BatchId_74887</td>\n",
       "      <td>AccountId_4841</td>\n",
       "      <td>SubscriptionId_3829</td>\n",
       "      <td>CustomerId_2857</td>\n",
       "      <td>UGX</td>\n",
       "      <td>256</td>\n",
       "      <td>ProviderId_4</td>\n",
       "      <td>ProductId_6</td>\n",
       "      <td>financial_services</td>\n",
       "      <td>ChannelId_2</td>\n",
       "      <td>-50.0</td>\n",
       "      <td>50</td>\n",
       "      <td>2019-02-13 10:02:30+00:00</td>\n",
       "      <td>2</td>\n",
       "    </tr>\n",
       "    <tr>\n",
       "      <th>3</th>\n",
       "      <td>TransactionId_28185</td>\n",
       "      <td>BatchId_11025</td>\n",
       "      <td>AccountId_2685</td>\n",
       "      <td>SubscriptionId_4626</td>\n",
       "      <td>CustomerId_3105</td>\n",
       "      <td>UGX</td>\n",
       "      <td>256</td>\n",
       "      <td>ProviderId_5</td>\n",
       "      <td>ProductId_10</td>\n",
       "      <td>airtime</td>\n",
       "      <td>ChannelId_3</td>\n",
       "      <td>3000.0</td>\n",
       "      <td>3000</td>\n",
       "      <td>2019-02-13 10:02:38+00:00</td>\n",
       "      <td>4</td>\n",
       "    </tr>\n",
       "    <tr>\n",
       "      <th>4</th>\n",
       "      <td>TransactionId_22140</td>\n",
       "      <td>BatchId_29804</td>\n",
       "      <td>AccountId_4841</td>\n",
       "      <td>SubscriptionId_3829</td>\n",
       "      <td>CustomerId_3105</td>\n",
       "      <td>UGX</td>\n",
       "      <td>256</td>\n",
       "      <td>ProviderId_4</td>\n",
       "      <td>ProductId_6</td>\n",
       "      <td>financial_services</td>\n",
       "      <td>ChannelId_2</td>\n",
       "      <td>-60.0</td>\n",
       "      <td>60</td>\n",
       "      <td>2019-02-13 10:02:58+00:00</td>\n",
       "      <td>2</td>\n",
       "    </tr>\n",
       "  </tbody>\n",
       "</table>\n",
       "</div>"
      ],
      "text/plain": [
       "         TransactionId        BatchId       AccountId       SubscriptionId  \\\n",
       "0  TransactionId_50600  BatchId_35028  AccountId_2441  SubscriptionId_4426   \n",
       "1  TransactionId_95109  BatchId_45139  AccountId_3439  SubscriptionId_2643   \n",
       "2  TransactionId_47357  BatchId_74887  AccountId_4841  SubscriptionId_3829   \n",
       "3  TransactionId_28185  BatchId_11025  AccountId_2685  SubscriptionId_4626   \n",
       "4  TransactionId_22140  BatchId_29804  AccountId_4841  SubscriptionId_3829   \n",
       "\n",
       "        CustomerId CurrencyCode  CountryCode    ProviderId     ProductId  \\\n",
       "0  CustomerId_2857          UGX          256  ProviderId_5   ProductId_3   \n",
       "1  CustomerId_3874          UGX          256  ProviderId_5  ProductId_15   \n",
       "2  CustomerId_2857          UGX          256  ProviderId_4   ProductId_6   \n",
       "3  CustomerId_3105          UGX          256  ProviderId_5  ProductId_10   \n",
       "4  CustomerId_3105          UGX          256  ProviderId_4   ProductId_6   \n",
       "\n",
       "      ProductCategory    ChannelId  Amount  Value      TransactionStartTime  \\\n",
       "0             airtime  ChannelId_3  1000.0   1000 2019-02-13 10:01:40+00:00   \n",
       "1  financial_services  ChannelId_3  2000.0   2000 2019-02-13 10:02:12+00:00   \n",
       "2  financial_services  ChannelId_2   -50.0     50 2019-02-13 10:02:30+00:00   \n",
       "3             airtime  ChannelId_3  3000.0   3000 2019-02-13 10:02:38+00:00   \n",
       "4  financial_services  ChannelId_2   -60.0     60 2019-02-13 10:02:58+00:00   \n",
       "\n",
       "   PricingStrategy  \n",
       "0                4  \n",
       "1                2  \n",
       "2                2  \n",
       "3                4  \n",
       "4                2  "
      ]
     },
     "execution_count": 10,
     "metadata": {},
     "output_type": "execute_result"
    }
   ],
   "source": [
    "#let's get snippet of the test data\n",
    "test.head(5)"
   ]
  },
  {
   "cell_type": "code",
   "execution_count": 11,
   "metadata": {},
   "outputs": [
    {
     "data": {
      "text/html": [
       "<div>\n",
       "<style scoped>\n",
       "    .dataframe tbody tr th:only-of-type {\n",
       "        vertical-align: middle;\n",
       "    }\n",
       "\n",
       "    .dataframe tbody tr th {\n",
       "        vertical-align: top;\n",
       "    }\n",
       "\n",
       "    .dataframe thead th {\n",
       "        text-align: right;\n",
       "    }\n",
       "</style>\n",
       "<table border=\"1\" class=\"dataframe\">\n",
       "  <thead>\n",
       "    <tr style=\"text-align: right;\">\n",
       "      <th></th>\n",
       "      <th>TransactionId</th>\n",
       "      <th>BatchId</th>\n",
       "      <th>AccountId</th>\n",
       "      <th>SubscriptionId</th>\n",
       "      <th>CustomerId</th>\n",
       "      <th>CurrencyCode</th>\n",
       "      <th>CountryCode</th>\n",
       "      <th>ProviderId</th>\n",
       "      <th>ProductId</th>\n",
       "      <th>ProductCategory</th>\n",
       "      <th>ChannelId</th>\n",
       "      <th>Amount</th>\n",
       "      <th>Value</th>\n",
       "      <th>TransactionStartTime</th>\n",
       "      <th>PricingStrategy</th>\n",
       "    </tr>\n",
       "  </thead>\n",
       "  <tbody>\n",
       "    <tr>\n",
       "      <th>45014</th>\n",
       "      <td>TransactionId_116198</td>\n",
       "      <td>BatchId_117348</td>\n",
       "      <td>AccountId_4841</td>\n",
       "      <td>SubscriptionId_3829</td>\n",
       "      <td>CustomerId_5225</td>\n",
       "      <td>UGX</td>\n",
       "      <td>256</td>\n",
       "      <td>ProviderId_4</td>\n",
       "      <td>ProductId_6</td>\n",
       "      <td>financial_services</td>\n",
       "      <td>ChannelId_3</td>\n",
       "      <td>-5000.0</td>\n",
       "      <td>5000</td>\n",
       "      <td>2019-03-14 23:56:28+00:00</td>\n",
       "      <td>2</td>\n",
       "    </tr>\n",
       "    <tr>\n",
       "      <th>45015</th>\n",
       "      <td>TransactionId_24829</td>\n",
       "      <td>BatchId_53630</td>\n",
       "      <td>AccountId_4803</td>\n",
       "      <td>SubscriptionId_1738</td>\n",
       "      <td>CustomerId_5272</td>\n",
       "      <td>UGX</td>\n",
       "      <td>256</td>\n",
       "      <td>ProviderId_3</td>\n",
       "      <td>ProductId_10</td>\n",
       "      <td>airtime</td>\n",
       "      <td>ChannelId_3</td>\n",
       "      <td>10000.0</td>\n",
       "      <td>10000</td>\n",
       "      <td>2019-03-14 23:57:38+00:00</td>\n",
       "      <td>1</td>\n",
       "    </tr>\n",
       "    <tr>\n",
       "      <th>45016</th>\n",
       "      <td>TransactionId_102920</td>\n",
       "      <td>BatchId_112209</td>\n",
       "      <td>AccountId_4817</td>\n",
       "      <td>SubscriptionId_4613</td>\n",
       "      <td>CustomerId_5286</td>\n",
       "      <td>UGX</td>\n",
       "      <td>256</td>\n",
       "      <td>ProviderId_3</td>\n",
       "      <td>ProductId_10</td>\n",
       "      <td>airtime</td>\n",
       "      <td>ChannelId_3</td>\n",
       "      <td>10000.0</td>\n",
       "      <td>10000</td>\n",
       "      <td>2019-03-14 23:59:17+00:00</td>\n",
       "      <td>1</td>\n",
       "    </tr>\n",
       "    <tr>\n",
       "      <th>45017</th>\n",
       "      <td>TransactionId_128439</td>\n",
       "      <td>BatchId_58734</td>\n",
       "      <td>AccountId_4841</td>\n",
       "      <td>SubscriptionId_3829</td>\n",
       "      <td>CustomerId_5286</td>\n",
       "      <td>UGX</td>\n",
       "      <td>256</td>\n",
       "      <td>ProviderId_4</td>\n",
       "      <td>ProductId_6</td>\n",
       "      <td>financial_services</td>\n",
       "      <td>ChannelId_3</td>\n",
       "      <td>-5000.0</td>\n",
       "      <td>5000</td>\n",
       "      <td>2019-03-14 23:59:39+00:00</td>\n",
       "      <td>2</td>\n",
       "    </tr>\n",
       "    <tr>\n",
       "      <th>45018</th>\n",
       "      <td>TransactionId_45927</td>\n",
       "      <td>BatchId_98308</td>\n",
       "      <td>AccountId_4593</td>\n",
       "      <td>SubscriptionId_3866</td>\n",
       "      <td>CustomerId_5057</td>\n",
       "      <td>UGX</td>\n",
       "      <td>256</td>\n",
       "      <td>ProviderId_5</td>\n",
       "      <td>ProductId_3</td>\n",
       "      <td>airtime</td>\n",
       "      <td>ChannelId_3</td>\n",
       "      <td>3500.0</td>\n",
       "      <td>3500</td>\n",
       "      <td>2019-03-14 23:59:51+00:00</td>\n",
       "      <td>4</td>\n",
       "    </tr>\n",
       "  </tbody>\n",
       "</table>\n",
       "</div>"
      ],
      "text/plain": [
       "              TransactionId         BatchId       AccountId  \\\n",
       "45014  TransactionId_116198  BatchId_117348  AccountId_4841   \n",
       "45015   TransactionId_24829   BatchId_53630  AccountId_4803   \n",
       "45016  TransactionId_102920  BatchId_112209  AccountId_4817   \n",
       "45017  TransactionId_128439   BatchId_58734  AccountId_4841   \n",
       "45018   TransactionId_45927   BatchId_98308  AccountId_4593   \n",
       "\n",
       "            SubscriptionId       CustomerId CurrencyCode  CountryCode  \\\n",
       "45014  SubscriptionId_3829  CustomerId_5225          UGX          256   \n",
       "45015  SubscriptionId_1738  CustomerId_5272          UGX          256   \n",
       "45016  SubscriptionId_4613  CustomerId_5286          UGX          256   \n",
       "45017  SubscriptionId_3829  CustomerId_5286          UGX          256   \n",
       "45018  SubscriptionId_3866  CustomerId_5057          UGX          256   \n",
       "\n",
       "         ProviderId     ProductId     ProductCategory    ChannelId   Amount  \\\n",
       "45014  ProviderId_4   ProductId_6  financial_services  ChannelId_3  -5000.0   \n",
       "45015  ProviderId_3  ProductId_10             airtime  ChannelId_3  10000.0   \n",
       "45016  ProviderId_3  ProductId_10             airtime  ChannelId_3  10000.0   \n",
       "45017  ProviderId_4   ProductId_6  financial_services  ChannelId_3  -5000.0   \n",
       "45018  ProviderId_5   ProductId_3             airtime  ChannelId_3   3500.0   \n",
       "\n",
       "       Value      TransactionStartTime  PricingStrategy  \n",
       "45014   5000 2019-03-14 23:56:28+00:00                2  \n",
       "45015  10000 2019-03-14 23:57:38+00:00                1  \n",
       "45016  10000 2019-03-14 23:59:17+00:00                1  \n",
       "45017   5000 2019-03-14 23:59:39+00:00                2  \n",
       "45018   3500 2019-03-14 23:59:51+00:00                4  "
      ]
     },
     "execution_count": 11,
     "metadata": {},
     "output_type": "execute_result"
    }
   ],
   "source": [
    "test.tail(5)"
   ]
  },
  {
   "cell_type": "code",
   "execution_count": 12,
   "metadata": {},
   "outputs": [
    {
     "name": "stdout",
     "output_type": "stream",
     "text": [
      "<class 'pandas.core.frame.DataFrame'>\n",
      "RangeIndex: 95662 entries, 0 to 95661\n",
      "Data columns (total 16 columns):\n",
      "TransactionId           95662 non-null object\n",
      "BatchId                 95662 non-null object\n",
      "AccountId               95662 non-null object\n",
      "SubscriptionId          95662 non-null object\n",
      "CustomerId              95662 non-null object\n",
      "CurrencyCode            95662 non-null object\n",
      "CountryCode             95662 non-null int64\n",
      "ProviderId              95662 non-null object\n",
      "ProductId               95662 non-null object\n",
      "ProductCategory         95662 non-null object\n",
      "ChannelId               95662 non-null object\n",
      "Amount                  95662 non-null float64\n",
      "Value                   95662 non-null int64\n",
      "TransactionStartTime    95662 non-null datetime64[ns, UTC]\n",
      "PricingStrategy         95662 non-null int64\n",
      "FraudResult             95662 non-null int64\n",
      "dtypes: datetime64[ns, UTC](1), float64(1), int64(4), object(10)\n",
      "memory usage: 11.7+ MB\n"
     ]
    }
   ],
   "source": [
    "#Let's take a peek at the data into\n",
    "train.info()"
   ]
  },
  {
   "cell_type": "code",
   "execution_count": 13,
   "metadata": {},
   "outputs": [
    {
     "data": {
      "text/plain": [
       "((95662, 16), (45019, 15))"
      ]
     },
     "execution_count": 13,
     "metadata": {},
     "output_type": "execute_result"
    }
   ],
   "source": [
    "#Let's look at the shapes of the data\n",
    "train.shape, test.shape"
   ]
  },
  {
   "cell_type": "markdown",
   "metadata": {},
   "source": [
    "## Initial Data Analysis\n",
    "\n",
    "### Encoding\n",
    "\n",
    "I have only discovered that the way you encode the data you have can affect how well your model will function. I have found some great resources here in these [article](https://medium.com/data-design/visiting-categorical-features-and-encoding-in-decision-trees-53400fa65931)\n",
    "\n",
    "-This article is also a [good one](https://towardsdatascience.com/smarter-ways-to-encode-categorical-data-for-machine-learning-part-1-of-3-6dca2f71b159)\n",
    "\n",
    "What stands out the most is these two points:\n",
    "\n",
    "- Categorical features with large cardinalities/features (over 1000): `Binary Encoding` is ideal\n",
    "- Categorical features with small cardinalities/features (less than 1000): `Numeric Encoding` is ideal\n",
    "\n",
    "As an esample here is a code below from the library: binaryencoder\n",
    "\n",
    "```python \n",
    "from category_encoders import *\n",
    "import pandas as pd\n",
    "from sklearn.datasets import load_boston\n",
    "\n",
    "# prepare some data\n",
    "bunch = load_boston()\n",
    "y = bunch.target\n",
    "X = pd.DataFrame(bunch.data, columns=bunch.feature_names)\n",
    "\n",
    "# use binary encoding to encode two categorical features\n",
    "enc = BinaryEncoder(cols=['CHAS', 'RAD']).fit(X)\n",
    "\n",
    "# transform the dataset\n",
    "numeric_dataset = enc.transform(X)\n",
    "\n",
    "\n",
    "## A supervised example\n",
    "\n",
    "from category_encoders import *\n",
    "import pandas as pd\n",
    "from sklearn.datasets import load_boston\n",
    "\n",
    "# prepare some data\n",
    "bunch = load_boston()\n",
    "y_train = bunch.target[0:250]\n",
    "y_test = bunch.target[250:506]\n",
    "X_train = pd.DataFrame(bunch.data[0:250], columns=bunch.feature_names)\n",
    "X_test = pd.DataFrame(bunch.data[250:506], columns=bunch.feature_names)\n",
    "\n",
    "# use target encoding to encode two categorical features\n",
    "enc = TargetEncoder(cols=['CHAS', 'RAD']).fit(X_train, y_train)\n",
    "\n",
    "# transform the datasets\n",
    "training_numeric_dataset = enc.transform(X_train, y_train)\n",
    "testing_numeric_dataset = enc.transform(X_test)\n",
    "\n",
    "\n",
    "```"
   ]
  },
  {
   "cell_type": "code",
   "execution_count": 14,
   "metadata": {},
   "outputs": [
    {
     "name": "stdout",
     "output_type": "stream",
     "text": [
      "TransactionId has 95662\n",
      "BatchId has 94809\n",
      "AccountId has 3633\n",
      "SubscriptionId has 3627\n",
      "CustomerId has 3742\n",
      "CurrencyCode has 1\n",
      "CountryCode has 1\n",
      "ProviderId has 6\n",
      "ProductId has 23\n",
      "ProductCategory has 9\n",
      "ChannelId has 4\n",
      "Amount has 1676\n",
      "Value has 1517\n",
      "TransactionStartTime has 94556\n",
      "PricingStrategy has 4\n",
      "FraudResult has 2\n"
     ]
    }
   ],
   "source": [
    "#how unique is the batchId?\n",
    "#i need to know if I should leave it in the conversation\n",
    "for col in train.columns:\n",
    "    print(col,'has', train[col].nunique())"
   ]
  },
  {
   "cell_type": "code",
   "execution_count": 14,
   "metadata": {},
   "outputs": [],
   "source": [
    "#let's install the package with the encoders that make sense for this kind of data with only 10+ features\n",
    "#%pip install category_encoders"
   ]
  },
  {
   "cell_type": "markdown",
   "metadata": {},
   "source": [
    "## Lil Function\n",
    "\n",
    "One fo the things I have learnt is to make code reusable, so I am going to write a function that will help us encode without having to repeat the code so much.\n",
    "\n",
    "`Why is this function so important?`\n",
    "\n",
    "I have been having memory issues wen I use the pd.getdummies. \n",
    "I normally have memory limited to 13Gb and as a result this method of replacing the categorical values with simple codes keeps the memory usage under 200Mbs. Which is quite phenomenal"
   ]
  },
  {
   "cell_type": "code",
   "execution_count": 15,
   "metadata": {},
   "outputs": [],
   "source": [
    "#little function to help us encode data\n",
    "def lil_encoder(df,col):\n",
    "    df[col] = train[col].astype('category')\n",
    "    \n",
    "    #let's create a new column of the categorical features\n",
    "    #df[col] = df[col].cat.codes\n",
    "    \n",
    "    return df.head(4)"
   ]
  },
  {
   "cell_type": "code",
   "execution_count": 16,
   "metadata": {},
   "outputs": [],
   "source": [
    "#we need to keep the ids of the test data\n",
    "fin_Id = test['TransactionId']\n",
    "y = train['FraudResult']\n",
    "\n",
    "#let's now drop them from their original datasets\n",
    "test = test.drop(columns=['TransactionId'])\n",
    "train = train.drop(columns=['FraudResult','TransactionId'])"
   ]
  },
  {
   "cell_type": "code",
   "execution_count": 17,
   "metadata": {},
   "outputs": [
    {
     "data": {
      "text/plain": [
       "((95662, 14), (45019, 14))"
      ]
     },
     "execution_count": 17,
     "metadata": {},
     "output_type": "execute_result"
    }
   ],
   "source": [
    "#i want to see if the datasets are aligned, when they are not aligned one gets problems in fitting the data\n",
    "train.shape, test.shape"
   ]
  },
  {
   "cell_type": "code",
   "execution_count": 18,
   "metadata": {},
   "outputs": [
    {
     "data": {
      "text/html": [
       "<div>\n",
       "<style scoped>\n",
       "    .dataframe tbody tr th:only-of-type {\n",
       "        vertical-align: middle;\n",
       "    }\n",
       "\n",
       "    .dataframe tbody tr th {\n",
       "        vertical-align: top;\n",
       "    }\n",
       "\n",
       "    .dataframe thead th {\n",
       "        text-align: right;\n",
       "    }\n",
       "</style>\n",
       "<table border=\"1\" class=\"dataframe\">\n",
       "  <thead>\n",
       "    <tr style=\"text-align: right;\">\n",
       "      <th></th>\n",
       "      <th>BatchId</th>\n",
       "      <th>AccountId</th>\n",
       "      <th>SubscriptionId</th>\n",
       "      <th>CustomerId</th>\n",
       "      <th>CurrencyCode</th>\n",
       "      <th>CountryCode</th>\n",
       "      <th>ProviderId</th>\n",
       "      <th>ProductId</th>\n",
       "      <th>ProductCategory</th>\n",
       "      <th>ChannelId</th>\n",
       "      <th>Amount</th>\n",
       "      <th>Value</th>\n",
       "      <th>TransactionStartTime</th>\n",
       "      <th>PricingStrategy</th>\n",
       "    </tr>\n",
       "  </thead>\n",
       "  <tbody>\n",
       "    <tr>\n",
       "      <th>0</th>\n",
       "      <td>BatchId_35028</td>\n",
       "      <td>AccountId_2441</td>\n",
       "      <td>SubscriptionId_4426</td>\n",
       "      <td>CustomerId_2857</td>\n",
       "      <td>UGX</td>\n",
       "      <td>256</td>\n",
       "      <td>ProviderId_5</td>\n",
       "      <td>ProductId_3</td>\n",
       "      <td>airtime</td>\n",
       "      <td>ChannelId_3</td>\n",
       "      <td>1000.0</td>\n",
       "      <td>1000</td>\n",
       "      <td>2019-02-13 10:01:40+00:00</td>\n",
       "      <td>4</td>\n",
       "    </tr>\n",
       "    <tr>\n",
       "      <th>1</th>\n",
       "      <td>BatchId_45139</td>\n",
       "      <td>AccountId_3439</td>\n",
       "      <td>SubscriptionId_2643</td>\n",
       "      <td>CustomerId_3874</td>\n",
       "      <td>UGX</td>\n",
       "      <td>256</td>\n",
       "      <td>ProviderId_5</td>\n",
       "      <td>ProductId_15</td>\n",
       "      <td>financial_services</td>\n",
       "      <td>ChannelId_3</td>\n",
       "      <td>2000.0</td>\n",
       "      <td>2000</td>\n",
       "      <td>2019-02-13 10:02:12+00:00</td>\n",
       "      <td>2</td>\n",
       "    </tr>\n",
       "    <tr>\n",
       "      <th>2</th>\n",
       "      <td>BatchId_74887</td>\n",
       "      <td>AccountId_4841</td>\n",
       "      <td>SubscriptionId_3829</td>\n",
       "      <td>CustomerId_2857</td>\n",
       "      <td>UGX</td>\n",
       "      <td>256</td>\n",
       "      <td>ProviderId_4</td>\n",
       "      <td>ProductId_6</td>\n",
       "      <td>financial_services</td>\n",
       "      <td>ChannelId_2</td>\n",
       "      <td>-50.0</td>\n",
       "      <td>50</td>\n",
       "      <td>2019-02-13 10:02:30+00:00</td>\n",
       "      <td>2</td>\n",
       "    </tr>\n",
       "    <tr>\n",
       "      <th>3</th>\n",
       "      <td>BatchId_11025</td>\n",
       "      <td>AccountId_2685</td>\n",
       "      <td>SubscriptionId_4626</td>\n",
       "      <td>CustomerId_3105</td>\n",
       "      <td>UGX</td>\n",
       "      <td>256</td>\n",
       "      <td>ProviderId_5</td>\n",
       "      <td>ProductId_10</td>\n",
       "      <td>airtime</td>\n",
       "      <td>ChannelId_3</td>\n",
       "      <td>3000.0</td>\n",
       "      <td>3000</td>\n",
       "      <td>2019-02-13 10:02:38+00:00</td>\n",
       "      <td>4</td>\n",
       "    </tr>\n",
       "  </tbody>\n",
       "</table>\n",
       "</div>"
      ],
      "text/plain": [
       "         BatchId       AccountId       SubscriptionId       CustomerId  \\\n",
       "0  BatchId_35028  AccountId_2441  SubscriptionId_4426  CustomerId_2857   \n",
       "1  BatchId_45139  AccountId_3439  SubscriptionId_2643  CustomerId_3874   \n",
       "2  BatchId_74887  AccountId_4841  SubscriptionId_3829  CustomerId_2857   \n",
       "3  BatchId_11025  AccountId_2685  SubscriptionId_4626  CustomerId_3105   \n",
       "\n",
       "  CurrencyCode  CountryCode    ProviderId     ProductId     ProductCategory  \\\n",
       "0          UGX          256  ProviderId_5   ProductId_3             airtime   \n",
       "1          UGX          256  ProviderId_5  ProductId_15  financial_services   \n",
       "2          UGX          256  ProviderId_4   ProductId_6  financial_services   \n",
       "3          UGX          256  ProviderId_5  ProductId_10             airtime   \n",
       "\n",
       "     ChannelId  Amount  Value      TransactionStartTime  PricingStrategy  \n",
       "0  ChannelId_3  1000.0   1000 2019-02-13 10:01:40+00:00                4  \n",
       "1  ChannelId_3  2000.0   2000 2019-02-13 10:02:12+00:00                2  \n",
       "2  ChannelId_2   -50.0     50 2019-02-13 10:02:30+00:00                2  \n",
       "3  ChannelId_3  3000.0   3000 2019-02-13 10:02:38+00:00                4  "
      ]
     },
     "execution_count": 18,
     "metadata": {},
     "output_type": "execute_result"
    }
   ],
   "source": [
    "test.head(4)"
   ]
  },
  {
   "cell_type": "code",
   "execution_count": 19,
   "metadata": {},
   "outputs": [
    {
     "data": {
      "text/html": [
       "<div>\n",
       "<style scoped>\n",
       "    .dataframe tbody tr th:only-of-type {\n",
       "        vertical-align: middle;\n",
       "    }\n",
       "\n",
       "    .dataframe tbody tr th {\n",
       "        vertical-align: top;\n",
       "    }\n",
       "\n",
       "    .dataframe thead th {\n",
       "        text-align: right;\n",
       "    }\n",
       "</style>\n",
       "<table border=\"1\" class=\"dataframe\">\n",
       "  <thead>\n",
       "    <tr style=\"text-align: right;\">\n",
       "      <th></th>\n",
       "      <th>BatchId</th>\n",
       "      <th>AccountId</th>\n",
       "      <th>SubscriptionId</th>\n",
       "      <th>CustomerId</th>\n",
       "      <th>CurrencyCode</th>\n",
       "      <th>CountryCode</th>\n",
       "      <th>ProviderId</th>\n",
       "      <th>ProductId</th>\n",
       "      <th>ProductCategory</th>\n",
       "      <th>ChannelId</th>\n",
       "      <th>Amount</th>\n",
       "      <th>Value</th>\n",
       "      <th>TransactionStartTime</th>\n",
       "      <th>PricingStrategy</th>\n",
       "      <th>Identifier</th>\n",
       "    </tr>\n",
       "  </thead>\n",
       "  <tbody>\n",
       "    <tr>\n",
       "      <th>0</th>\n",
       "      <td>BatchId_36123</td>\n",
       "      <td>AccountId_3957</td>\n",
       "      <td>SubscriptionId_887</td>\n",
       "      <td>CustomerId_4406</td>\n",
       "      <td>UGX</td>\n",
       "      <td>256</td>\n",
       "      <td>ProviderId_6</td>\n",
       "      <td>ProductId_10</td>\n",
       "      <td>airtime</td>\n",
       "      <td>ChannelId_3</td>\n",
       "      <td>1000.0</td>\n",
       "      <td>1000</td>\n",
       "      <td>2018-11-15 02:18:49+00:00</td>\n",
       "      <td>2</td>\n",
       "      <td>Train</td>\n",
       "    </tr>\n",
       "    <tr>\n",
       "      <th>1</th>\n",
       "      <td>BatchId_15642</td>\n",
       "      <td>AccountId_4841</td>\n",
       "      <td>SubscriptionId_3829</td>\n",
       "      <td>CustomerId_4406</td>\n",
       "      <td>UGX</td>\n",
       "      <td>256</td>\n",
       "      <td>ProviderId_4</td>\n",
       "      <td>ProductId_6</td>\n",
       "      <td>financial_services</td>\n",
       "      <td>ChannelId_2</td>\n",
       "      <td>-20.0</td>\n",
       "      <td>20</td>\n",
       "      <td>2018-11-15 02:19:08+00:00</td>\n",
       "      <td>2</td>\n",
       "      <td>Train</td>\n",
       "    </tr>\n",
       "    <tr>\n",
       "      <th>2</th>\n",
       "      <td>BatchId_53941</td>\n",
       "      <td>AccountId_4229</td>\n",
       "      <td>SubscriptionId_222</td>\n",
       "      <td>CustomerId_4683</td>\n",
       "      <td>UGX</td>\n",
       "      <td>256</td>\n",
       "      <td>ProviderId_6</td>\n",
       "      <td>ProductId_1</td>\n",
       "      <td>airtime</td>\n",
       "      <td>ChannelId_3</td>\n",
       "      <td>500.0</td>\n",
       "      <td>500</td>\n",
       "      <td>2018-11-15 02:44:21+00:00</td>\n",
       "      <td>2</td>\n",
       "      <td>Train</td>\n",
       "    </tr>\n",
       "    <tr>\n",
       "      <th>3</th>\n",
       "      <td>BatchId_102363</td>\n",
       "      <td>AccountId_648</td>\n",
       "      <td>SubscriptionId_2185</td>\n",
       "      <td>CustomerId_988</td>\n",
       "      <td>UGX</td>\n",
       "      <td>256</td>\n",
       "      <td>ProviderId_1</td>\n",
       "      <td>ProductId_21</td>\n",
       "      <td>utility_bill</td>\n",
       "      <td>ChannelId_3</td>\n",
       "      <td>20000.0</td>\n",
       "      <td>21800</td>\n",
       "      <td>2018-11-15 03:32:55+00:00</td>\n",
       "      <td>2</td>\n",
       "      <td>Train</td>\n",
       "    </tr>\n",
       "    <tr>\n",
       "      <th>4</th>\n",
       "      <td>BatchId_38780</td>\n",
       "      <td>AccountId_4841</td>\n",
       "      <td>SubscriptionId_3829</td>\n",
       "      <td>CustomerId_988</td>\n",
       "      <td>UGX</td>\n",
       "      <td>256</td>\n",
       "      <td>ProviderId_4</td>\n",
       "      <td>ProductId_6</td>\n",
       "      <td>financial_services</td>\n",
       "      <td>ChannelId_2</td>\n",
       "      <td>-644.0</td>\n",
       "      <td>644</td>\n",
       "      <td>2018-11-15 03:34:21+00:00</td>\n",
       "      <td>2</td>\n",
       "      <td>Train</td>\n",
       "    </tr>\n",
       "  </tbody>\n",
       "</table>\n",
       "</div>"
      ],
      "text/plain": [
       "          BatchId       AccountId       SubscriptionId       CustomerId  \\\n",
       "0   BatchId_36123  AccountId_3957   SubscriptionId_887  CustomerId_4406   \n",
       "1   BatchId_15642  AccountId_4841  SubscriptionId_3829  CustomerId_4406   \n",
       "2   BatchId_53941  AccountId_4229   SubscriptionId_222  CustomerId_4683   \n",
       "3  BatchId_102363   AccountId_648  SubscriptionId_2185   CustomerId_988   \n",
       "4   BatchId_38780  AccountId_4841  SubscriptionId_3829   CustomerId_988   \n",
       "\n",
       "  CurrencyCode  CountryCode    ProviderId     ProductId     ProductCategory  \\\n",
       "0          UGX          256  ProviderId_6  ProductId_10             airtime   \n",
       "1          UGX          256  ProviderId_4   ProductId_6  financial_services   \n",
       "2          UGX          256  ProviderId_6   ProductId_1             airtime   \n",
       "3          UGX          256  ProviderId_1  ProductId_21        utility_bill   \n",
       "4          UGX          256  ProviderId_4   ProductId_6  financial_services   \n",
       "\n",
       "     ChannelId   Amount  Value      TransactionStartTime  PricingStrategy  \\\n",
       "0  ChannelId_3   1000.0   1000 2018-11-15 02:18:49+00:00                2   \n",
       "1  ChannelId_2    -20.0     20 2018-11-15 02:19:08+00:00                2   \n",
       "2  ChannelId_3    500.0    500 2018-11-15 02:44:21+00:00                2   \n",
       "3  ChannelId_3  20000.0  21800 2018-11-15 03:32:55+00:00                2   \n",
       "4  ChannelId_2   -644.0    644 2018-11-15 03:34:21+00:00                2   \n",
       "\n",
       "  Identifier  \n",
       "0      Train  \n",
       "1      Train  \n",
       "2      Train  \n",
       "3      Train  \n",
       "4      Train  "
      ]
     },
     "execution_count": 19,
     "metadata": {},
     "output_type": "execute_result"
    }
   ],
   "source": [
    "#let me put the datasets together so that I can work on them at the same time\n",
    "train['Identifier']='Train'\n",
    "test['Identifier']='Test'\n",
    "\n",
    "ls = [train, test]\n",
    "data = pd.concat(ls)\n",
    "data.head(5)"
   ]
  },
  {
   "cell_type": "code",
   "execution_count": 20,
   "metadata": {},
   "outputs": [],
   "source": [
    "#let's encode all the data\n",
    "ls_ = ['AccountId','CustomerId','ProviderId','ProductId','ProductCategory','ChannelId','BatchId','SubscriptionId']\n",
    "\n",
    "#this is the for loop that calls the function and makes the lil_function work\n",
    "for col in ls_:\n",
    "    lil_encoder(data,col)"
   ]
  },
  {
   "cell_type": "markdown",
   "metadata": {},
   "source": [
    "We now have all the columns in the list above transformed from object to categorical, now we are going to encode them with a categorical encoder. I have chosen to update my encoding method because of some of the articles I have read on this topic, they insist that we shd use Binary encoders for small datasets"
   ]
  },
  {
   "cell_type": "code",
   "execution_count": 21,
   "metadata": {},
   "outputs": [],
   "source": [
    "from category_encoders import *\n",
    "\n",
    "# use binary encoding to encode two categorical features\n",
    "enc = BinaryEncoder(cols=['AccountId','CustomerId','ProviderId','ProductId','ProductCategory','ChannelId','BatchId','SubscriptionId']).fit(data)\n",
    "\n",
    "data = enc.transform(data)\n"
   ]
  },
  {
   "cell_type": "code",
   "execution_count": 22,
   "metadata": {},
   "outputs": [
    {
     "data": {
      "text/html": [
       "<div>\n",
       "<style scoped>\n",
       "    .dataframe tbody tr th:only-of-type {\n",
       "        vertical-align: middle;\n",
       "    }\n",
       "\n",
       "    .dataframe tbody tr th {\n",
       "        vertical-align: top;\n",
       "    }\n",
       "\n",
       "    .dataframe thead th {\n",
       "        text-align: right;\n",
       "    }\n",
       "</style>\n",
       "<table border=\"1\" class=\"dataframe\">\n",
       "  <thead>\n",
       "    <tr style=\"text-align: right;\">\n",
       "      <th></th>\n",
       "      <th>BatchId_0</th>\n",
       "      <th>BatchId_1</th>\n",
       "      <th>BatchId_2</th>\n",
       "      <th>BatchId_3</th>\n",
       "      <th>BatchId_4</th>\n",
       "      <th>BatchId_5</th>\n",
       "      <th>BatchId_6</th>\n",
       "      <th>BatchId_7</th>\n",
       "      <th>BatchId_8</th>\n",
       "      <th>BatchId_9</th>\n",
       "      <th>...</th>\n",
       "      <th>ProductCategory_3</th>\n",
       "      <th>ProductCategory_4</th>\n",
       "      <th>ChannelId_0</th>\n",
       "      <th>ChannelId_1</th>\n",
       "      <th>ChannelId_2</th>\n",
       "      <th>Amount</th>\n",
       "      <th>Value</th>\n",
       "      <th>TransactionStartTime</th>\n",
       "      <th>PricingStrategy</th>\n",
       "      <th>Identifier</th>\n",
       "    </tr>\n",
       "  </thead>\n",
       "  <tbody>\n",
       "    <tr>\n",
       "      <th>0</th>\n",
       "      <td>0</td>\n",
       "      <td>0</td>\n",
       "      <td>1</td>\n",
       "      <td>0</td>\n",
       "      <td>1</td>\n",
       "      <td>1</td>\n",
       "      <td>0</td>\n",
       "      <td>1</td>\n",
       "      <td>1</td>\n",
       "      <td>1</td>\n",
       "      <td>...</td>\n",
       "      <td>0</td>\n",
       "      <td>1</td>\n",
       "      <td>0</td>\n",
       "      <td>1</td>\n",
       "      <td>1</td>\n",
       "      <td>1000.0</td>\n",
       "      <td>1000</td>\n",
       "      <td>2018-11-15 02:18:49+00:00</td>\n",
       "      <td>2</td>\n",
       "      <td>Train</td>\n",
       "    </tr>\n",
       "    <tr>\n",
       "      <th>1</th>\n",
       "      <td>0</td>\n",
       "      <td>0</td>\n",
       "      <td>0</td>\n",
       "      <td>1</td>\n",
       "      <td>1</td>\n",
       "      <td>1</td>\n",
       "      <td>1</td>\n",
       "      <td>1</td>\n",
       "      <td>0</td>\n",
       "      <td>0</td>\n",
       "      <td>...</td>\n",
       "      <td>1</td>\n",
       "      <td>1</td>\n",
       "      <td>0</td>\n",
       "      <td>1</td>\n",
       "      <td>0</td>\n",
       "      <td>-20.0</td>\n",
       "      <td>20</td>\n",
       "      <td>2018-11-15 02:19:08+00:00</td>\n",
       "      <td>2</td>\n",
       "      <td>Train</td>\n",
       "    </tr>\n",
       "    <tr>\n",
       "      <th>2</th>\n",
       "      <td>0</td>\n",
       "      <td>0</td>\n",
       "      <td>1</td>\n",
       "      <td>1</td>\n",
       "      <td>1</td>\n",
       "      <td>0</td>\n",
       "      <td>1</td>\n",
       "      <td>0</td>\n",
       "      <td>1</td>\n",
       "      <td>1</td>\n",
       "      <td>...</td>\n",
       "      <td>0</td>\n",
       "      <td>1</td>\n",
       "      <td>0</td>\n",
       "      <td>1</td>\n",
       "      <td>1</td>\n",
       "      <td>500.0</td>\n",
       "      <td>500</td>\n",
       "      <td>2018-11-15 02:44:21+00:00</td>\n",
       "      <td>2</td>\n",
       "      <td>Train</td>\n",
       "    </tr>\n",
       "    <tr>\n",
       "      <th>3</th>\n",
       "      <td>0</td>\n",
       "      <td>0</td>\n",
       "      <td>0</td>\n",
       "      <td>0</td>\n",
       "      <td>0</td>\n",
       "      <td>0</td>\n",
       "      <td>0</td>\n",
       "      <td>1</td>\n",
       "      <td>1</td>\n",
       "      <td>1</td>\n",
       "      <td>...</td>\n",
       "      <td>0</td>\n",
       "      <td>1</td>\n",
       "      <td>0</td>\n",
       "      <td>1</td>\n",
       "      <td>1</td>\n",
       "      <td>20000.0</td>\n",
       "      <td>21800</td>\n",
       "      <td>2018-11-15 03:32:55+00:00</td>\n",
       "      <td>2</td>\n",
       "      <td>Train</td>\n",
       "    </tr>\n",
       "    <tr>\n",
       "      <th>4</th>\n",
       "      <td>0</td>\n",
       "      <td>0</td>\n",
       "      <td>1</td>\n",
       "      <td>0</td>\n",
       "      <td>1</td>\n",
       "      <td>1</td>\n",
       "      <td>1</td>\n",
       "      <td>1</td>\n",
       "      <td>1</td>\n",
       "      <td>1</td>\n",
       "      <td>...</td>\n",
       "      <td>1</td>\n",
       "      <td>1</td>\n",
       "      <td>0</td>\n",
       "      <td>1</td>\n",
       "      <td>0</td>\n",
       "      <td>-644.0</td>\n",
       "      <td>644</td>\n",
       "      <td>2018-11-15 03:34:21+00:00</td>\n",
       "      <td>2</td>\n",
       "      <td>Train</td>\n",
       "    </tr>\n",
       "  </tbody>\n",
       "</table>\n",
       "<p>5 rows × 82 columns</p>\n",
       "</div>"
      ],
      "text/plain": [
       "   BatchId_0  BatchId_1  BatchId_2  BatchId_3  BatchId_4  BatchId_5  \\\n",
       "0          0          0          1          0          1          1   \n",
       "1          0          0          0          1          1          1   \n",
       "2          0          0          1          1          1          0   \n",
       "3          0          0          0          0          0          0   \n",
       "4          0          0          1          0          1          1   \n",
       "\n",
       "   BatchId_6  BatchId_7  BatchId_8  BatchId_9  ...  ProductCategory_3  \\\n",
       "0          0          1          1          1  ...                  0   \n",
       "1          1          1          0          0  ...                  1   \n",
       "2          1          0          1          1  ...                  0   \n",
       "3          0          1          1          1  ...                  0   \n",
       "4          1          1          1          1  ...                  1   \n",
       "\n",
       "   ProductCategory_4  ChannelId_0  ChannelId_1  ChannelId_2   Amount  Value  \\\n",
       "0                  1            0            1            1   1000.0   1000   \n",
       "1                  1            0            1            0    -20.0     20   \n",
       "2                  1            0            1            1    500.0    500   \n",
       "3                  1            0            1            1  20000.0  21800   \n",
       "4                  1            0            1            0   -644.0    644   \n",
       "\n",
       "       TransactionStartTime  PricingStrategy  Identifier  \n",
       "0 2018-11-15 02:18:49+00:00                2       Train  \n",
       "1 2018-11-15 02:19:08+00:00                2       Train  \n",
       "2 2018-11-15 02:44:21+00:00                2       Train  \n",
       "3 2018-11-15 03:32:55+00:00                2       Train  \n",
       "4 2018-11-15 03:34:21+00:00                2       Train  \n",
       "\n",
       "[5 rows x 82 columns]"
      ]
     },
     "execution_count": 22,
     "metadata": {},
     "output_type": "execute_result"
    }
   ],
   "source": [
    "data.head(5)"
   ]
  },
  {
   "cell_type": "code",
   "execution_count": 23,
   "metadata": {},
   "outputs": [
    {
     "data": {
      "text/plain": [
       "((95662, 79), (45019, 79))"
      ]
     },
     "execution_count": 23,
     "metadata": {},
     "output_type": "execute_result"
    }
   ],
   "source": [
    "#dropping some features: there are some features we can see that will not contribute to the ML process\n",
    "\n",
    "#let's split the data\n",
    "train = data[data['Identifier']=='Train']\n",
    "test = data[data['Identifier']=='Test']\n",
    "\n",
    "#now let's drop the useless columns from the datasets\n",
    "train = train.drop(columns=['CurrencyCode','CountryCode','Amount'])\n",
    "test = test.drop(columns=['CurrencyCode','CountryCode','Amount'])\n",
    "\n",
    "#let's see the new shapes\n",
    "train.shape, test.shape"
   ]
  },
  {
   "cell_type": "code",
   "execution_count": 24,
   "metadata": {},
   "outputs": [
    {
     "data": {
      "text/html": [
       "<div>\n",
       "<style scoped>\n",
       "    .dataframe tbody tr th:only-of-type {\n",
       "        vertical-align: middle;\n",
       "    }\n",
       "\n",
       "    .dataframe tbody tr th {\n",
       "        vertical-align: top;\n",
       "    }\n",
       "\n",
       "    .dataframe thead th {\n",
       "        text-align: right;\n",
       "    }\n",
       "</style>\n",
       "<table border=\"1\" class=\"dataframe\">\n",
       "  <thead>\n",
       "    <tr style=\"text-align: right;\">\n",
       "      <th></th>\n",
       "      <th>BatchId_0</th>\n",
       "      <th>BatchId_1</th>\n",
       "      <th>BatchId_2</th>\n",
       "      <th>BatchId_3</th>\n",
       "      <th>BatchId_4</th>\n",
       "      <th>BatchId_5</th>\n",
       "      <th>BatchId_6</th>\n",
       "      <th>BatchId_7</th>\n",
       "      <th>BatchId_8</th>\n",
       "      <th>BatchId_9</th>\n",
       "      <th>...</th>\n",
       "      <th>ProductCategory_2</th>\n",
       "      <th>ProductCategory_3</th>\n",
       "      <th>ProductCategory_4</th>\n",
       "      <th>ChannelId_0</th>\n",
       "      <th>ChannelId_1</th>\n",
       "      <th>ChannelId_2</th>\n",
       "      <th>Value</th>\n",
       "      <th>TransactionStartTime</th>\n",
       "      <th>PricingStrategy</th>\n",
       "      <th>Identifier</th>\n",
       "    </tr>\n",
       "  </thead>\n",
       "  <tbody>\n",
       "    <tr>\n",
       "      <th>0</th>\n",
       "      <td>0</td>\n",
       "      <td>0</td>\n",
       "      <td>1</td>\n",
       "      <td>0</td>\n",
       "      <td>1</td>\n",
       "      <td>1</td>\n",
       "      <td>0</td>\n",
       "      <td>1</td>\n",
       "      <td>1</td>\n",
       "      <td>1</td>\n",
       "      <td>...</td>\n",
       "      <td>0</td>\n",
       "      <td>0</td>\n",
       "      <td>1</td>\n",
       "      <td>0</td>\n",
       "      <td>1</td>\n",
       "      <td>1</td>\n",
       "      <td>1000</td>\n",
       "      <td>2019-02-13 10:01:40+00:00</td>\n",
       "      <td>4</td>\n",
       "      <td>Test</td>\n",
       "    </tr>\n",
       "    <tr>\n",
       "      <th>1</th>\n",
       "      <td>0</td>\n",
       "      <td>0</td>\n",
       "      <td>0</td>\n",
       "      <td>1</td>\n",
       "      <td>1</td>\n",
       "      <td>1</td>\n",
       "      <td>1</td>\n",
       "      <td>1</td>\n",
       "      <td>0</td>\n",
       "      <td>0</td>\n",
       "      <td>...</td>\n",
       "      <td>0</td>\n",
       "      <td>1</td>\n",
       "      <td>1</td>\n",
       "      <td>0</td>\n",
       "      <td>1</td>\n",
       "      <td>0</td>\n",
       "      <td>2000</td>\n",
       "      <td>2019-02-13 10:02:12+00:00</td>\n",
       "      <td>2</td>\n",
       "      <td>Test</td>\n",
       "    </tr>\n",
       "    <tr>\n",
       "      <th>2</th>\n",
       "      <td>0</td>\n",
       "      <td>0</td>\n",
       "      <td>1</td>\n",
       "      <td>1</td>\n",
       "      <td>1</td>\n",
       "      <td>0</td>\n",
       "      <td>1</td>\n",
       "      <td>0</td>\n",
       "      <td>1</td>\n",
       "      <td>1</td>\n",
       "      <td>...</td>\n",
       "      <td>0</td>\n",
       "      <td>0</td>\n",
       "      <td>1</td>\n",
       "      <td>0</td>\n",
       "      <td>1</td>\n",
       "      <td>1</td>\n",
       "      <td>50</td>\n",
       "      <td>2019-02-13 10:02:30+00:00</td>\n",
       "      <td>2</td>\n",
       "      <td>Test</td>\n",
       "    </tr>\n",
       "  </tbody>\n",
       "</table>\n",
       "<p>3 rows × 79 columns</p>\n",
       "</div>"
      ],
      "text/plain": [
       "   BatchId_0  BatchId_1  BatchId_2  BatchId_3  BatchId_4  BatchId_5  \\\n",
       "0          0          0          1          0          1          1   \n",
       "1          0          0          0          1          1          1   \n",
       "2          0          0          1          1          1          0   \n",
       "\n",
       "   BatchId_6  BatchId_7  BatchId_8  BatchId_9  ...  ProductCategory_2  \\\n",
       "0          0          1          1          1  ...                  0   \n",
       "1          1          1          0          0  ...                  0   \n",
       "2          1          0          1          1  ...                  0   \n",
       "\n",
       "   ProductCategory_3  ProductCategory_4  ChannelId_0  ChannelId_1  \\\n",
       "0                  0                  1            0            1   \n",
       "1                  1                  1            0            1   \n",
       "2                  0                  1            0            1   \n",
       "\n",
       "   ChannelId_2  Value      TransactionStartTime  PricingStrategy  Identifier  \n",
       "0            1   1000 2019-02-13 10:01:40+00:00                4        Test  \n",
       "1            0   2000 2019-02-13 10:02:12+00:00                2        Test  \n",
       "2            1     50 2019-02-13 10:02:30+00:00                2        Test  \n",
       "\n",
       "[3 rows x 79 columns]"
      ]
     },
     "execution_count": 24,
     "metadata": {},
     "output_type": "execute_result"
    }
   ],
   "source": [
    "test.head(3)"
   ]
  },
  {
   "cell_type": "markdown",
   "metadata": {},
   "source": [
    "I have tried to load the date time function from fastai but it has failed so i am going to copy it manually and use it here."
   ]
  },
  {
   "cell_type": "code",
   "execution_count": 25,
   "metadata": {},
   "outputs": [],
   "source": [
    "def add_datepart(df, fldname, drop=True, time=False):\n",
    "    \"\"\"add_datepart converts a column of df from a datetime64 to many columns containing\n",
    "    the information from the date. This applies changes inplace.\n",
    "\n",
    "    Parameters:\n",
    "    -----------\n",
    "    df: A pandas data frame. df gain several new columns.\n",
    "    fldname: A string that is the name of the date column you wish to expand.\n",
    "        If it is not a datetime64 series, it will be converted to one with pd.to_datetime.\n",
    "    drop: If true then the original date column will be removed.\n",
    "    time: If true time features: Hour, Minute, Second will be added.\n",
    "\n",
    "    Examples:\n",
    "    ---------\n",
    "\n",
    "    >>> df = pd.DataFrame({ 'A' : pd.to_datetime(['3/11/2000', '3/12/2000', '3/13/2000'], infer_datetime_format=False) })\n",
    "    >>> df\n",
    "\n",
    "        A\n",
    "    0   2000-03-11\n",
    "    1   2000-03-12\n",
    "    2   2000-03-13\n",
    "\n",
    "    >>> add_datepart(df, 'A')\n",
    "    >>> df\n",
    "\n",
    "        AYear AMonth AWeek ADay ADayofweek ADayofyear AIs_month_end AIs_month_start AIs_quarter_end AIs_quarter_start AIs_year_end AIs_year_start AElapsed\n",
    "    0   2000  3      10    11   5          71         False         False           False           False             False        False          952732800\n",
    "    1   2000  3      10    12   6          72         False         False           False           False             False        False          952819200\n",
    "    2   2000  3      11    13   0          73         False         False           False           False             False        False          952905600\n",
    "    \"\"\"\n",
    "    fld = df[fldname]\n",
    "    fld_dtype = fld.dtype\n",
    "    if isinstance(fld_dtype, pd.core.dtypes.dtypes.DatetimeTZDtype):\n",
    "        fld_dtype = np.datetime64\n",
    "\n",
    "    if not np.issubdtype(fld_dtype, np.datetime64):\n",
    "        df[fldname] = fld = pd.to_datetime(fld, infer_datetime_format=True)\n",
    "    targ_pre = re.sub('[Dd]ate$', '', fldname)\n",
    "    attr = ['Year', 'Month', 'Week', 'Day', 'Dayofweek', 'Dayofyear',\n",
    "            'Is_month_end', 'Is_month_start', 'Is_quarter_end', 'Is_quarter_start', 'Is_year_end', 'Is_year_start']\n",
    "    if time: attr = attr + ['Hour', 'Minute', 'Second']\n",
    "    for n in attr: df[targ_pre + n] = getattr(fld.dt, n.lower())\n",
    "    df[targ_pre + 'Elapsed'] = fld.astype(np.int64) // 10 ** 9\n",
    "    if drop: df.drop(fldname, axis=1, inplace=True)"
   ]
  },
  {
   "cell_type": "code",
   "execution_count": 26,
   "metadata": {},
   "outputs": [],
   "source": [
    "#let's add the datetime variables\n",
    "#this is a function in the fastai lib that deals with all variables of time, ie it converts the datatime column into many others\n",
    "add_datepart(test,'TransactionStartTime')\n",
    "add_datepart(train,'TransactionStartTime')"
   ]
  },
  {
   "cell_type": "code",
   "execution_count": null,
   "metadata": {},
   "outputs": [],
   "source": []
  },
  {
   "cell_type": "code",
   "execution_count": 27,
   "metadata": {},
   "outputs": [
    {
     "data": {
      "text/html": [
       "<div>\n",
       "<style scoped>\n",
       "    .dataframe tbody tr th:only-of-type {\n",
       "        vertical-align: middle;\n",
       "    }\n",
       "\n",
       "    .dataframe tbody tr th {\n",
       "        vertical-align: top;\n",
       "    }\n",
       "\n",
       "    .dataframe thead th {\n",
       "        text-align: right;\n",
       "    }\n",
       "</style>\n",
       "<table border=\"1\" class=\"dataframe\">\n",
       "  <thead>\n",
       "    <tr style=\"text-align: right;\">\n",
       "      <th></th>\n",
       "      <th>BatchId_0</th>\n",
       "      <th>BatchId_1</th>\n",
       "      <th>BatchId_2</th>\n",
       "      <th>BatchId_3</th>\n",
       "      <th>BatchId_4</th>\n",
       "      <th>BatchId_5</th>\n",
       "      <th>BatchId_6</th>\n",
       "      <th>BatchId_7</th>\n",
       "      <th>BatchId_8</th>\n",
       "      <th>BatchId_9</th>\n",
       "      <th>...</th>\n",
       "      <th>TransactionStartTimeDay</th>\n",
       "      <th>TransactionStartTimeDayofweek</th>\n",
       "      <th>TransactionStartTimeDayofyear</th>\n",
       "      <th>TransactionStartTimeIs_month_end</th>\n",
       "      <th>TransactionStartTimeIs_month_start</th>\n",
       "      <th>TransactionStartTimeIs_quarter_end</th>\n",
       "      <th>TransactionStartTimeIs_quarter_start</th>\n",
       "      <th>TransactionStartTimeIs_year_end</th>\n",
       "      <th>TransactionStartTimeIs_year_start</th>\n",
       "      <th>TransactionStartTimeElapsed</th>\n",
       "    </tr>\n",
       "  </thead>\n",
       "  <tbody>\n",
       "    <tr>\n",
       "      <th>0</th>\n",
       "      <td>0</td>\n",
       "      <td>0</td>\n",
       "      <td>1</td>\n",
       "      <td>0</td>\n",
       "      <td>1</td>\n",
       "      <td>1</td>\n",
       "      <td>0</td>\n",
       "      <td>1</td>\n",
       "      <td>1</td>\n",
       "      <td>1</td>\n",
       "      <td>...</td>\n",
       "      <td>15</td>\n",
       "      <td>3</td>\n",
       "      <td>319</td>\n",
       "      <td>False</td>\n",
       "      <td>False</td>\n",
       "      <td>False</td>\n",
       "      <td>False</td>\n",
       "      <td>False</td>\n",
       "      <td>False</td>\n",
       "      <td>1542248329</td>\n",
       "    </tr>\n",
       "    <tr>\n",
       "      <th>1</th>\n",
       "      <td>0</td>\n",
       "      <td>0</td>\n",
       "      <td>0</td>\n",
       "      <td>1</td>\n",
       "      <td>1</td>\n",
       "      <td>1</td>\n",
       "      <td>1</td>\n",
       "      <td>1</td>\n",
       "      <td>0</td>\n",
       "      <td>0</td>\n",
       "      <td>...</td>\n",
       "      <td>15</td>\n",
       "      <td>3</td>\n",
       "      <td>319</td>\n",
       "      <td>False</td>\n",
       "      <td>False</td>\n",
       "      <td>False</td>\n",
       "      <td>False</td>\n",
       "      <td>False</td>\n",
       "      <td>False</td>\n",
       "      <td>1542248348</td>\n",
       "    </tr>\n",
       "    <tr>\n",
       "      <th>2</th>\n",
       "      <td>0</td>\n",
       "      <td>0</td>\n",
       "      <td>1</td>\n",
       "      <td>1</td>\n",
       "      <td>1</td>\n",
       "      <td>0</td>\n",
       "      <td>1</td>\n",
       "      <td>0</td>\n",
       "      <td>1</td>\n",
       "      <td>1</td>\n",
       "      <td>...</td>\n",
       "      <td>15</td>\n",
       "      <td>3</td>\n",
       "      <td>319</td>\n",
       "      <td>False</td>\n",
       "      <td>False</td>\n",
       "      <td>False</td>\n",
       "      <td>False</td>\n",
       "      <td>False</td>\n",
       "      <td>False</td>\n",
       "      <td>1542249861</td>\n",
       "    </tr>\n",
       "    <tr>\n",
       "      <th>3</th>\n",
       "      <td>0</td>\n",
       "      <td>0</td>\n",
       "      <td>0</td>\n",
       "      <td>0</td>\n",
       "      <td>0</td>\n",
       "      <td>0</td>\n",
       "      <td>0</td>\n",
       "      <td>1</td>\n",
       "      <td>1</td>\n",
       "      <td>1</td>\n",
       "      <td>...</td>\n",
       "      <td>15</td>\n",
       "      <td>3</td>\n",
       "      <td>319</td>\n",
       "      <td>False</td>\n",
       "      <td>False</td>\n",
       "      <td>False</td>\n",
       "      <td>False</td>\n",
       "      <td>False</td>\n",
       "      <td>False</td>\n",
       "      <td>1542252775</td>\n",
       "    </tr>\n",
       "  </tbody>\n",
       "</table>\n",
       "<p>4 rows × 91 columns</p>\n",
       "</div>"
      ],
      "text/plain": [
       "   BatchId_0  BatchId_1  BatchId_2  BatchId_3  BatchId_4  BatchId_5  \\\n",
       "0          0          0          1          0          1          1   \n",
       "1          0          0          0          1          1          1   \n",
       "2          0          0          1          1          1          0   \n",
       "3          0          0          0          0          0          0   \n",
       "\n",
       "   BatchId_6  BatchId_7  BatchId_8  BatchId_9  ...  TransactionStartTimeDay  \\\n",
       "0          0          1          1          1  ...                       15   \n",
       "1          1          1          0          0  ...                       15   \n",
       "2          1          0          1          1  ...                       15   \n",
       "3          0          1          1          1  ...                       15   \n",
       "\n",
       "   TransactionStartTimeDayofweek  TransactionStartTimeDayofyear  \\\n",
       "0                              3                            319   \n",
       "1                              3                            319   \n",
       "2                              3                            319   \n",
       "3                              3                            319   \n",
       "\n",
       "   TransactionStartTimeIs_month_end  TransactionStartTimeIs_month_start  \\\n",
       "0                             False                               False   \n",
       "1                             False                               False   \n",
       "2                             False                               False   \n",
       "3                             False                               False   \n",
       "\n",
       "   TransactionStartTimeIs_quarter_end  TransactionStartTimeIs_quarter_start  \\\n",
       "0                               False                                 False   \n",
       "1                               False                                 False   \n",
       "2                               False                                 False   \n",
       "3                               False                                 False   \n",
       "\n",
       "   TransactionStartTimeIs_year_end  TransactionStartTimeIs_year_start  \\\n",
       "0                            False                              False   \n",
       "1                            False                              False   \n",
       "2                            False                              False   \n",
       "3                            False                              False   \n",
       "\n",
       "   TransactionStartTimeElapsed  \n",
       "0                   1542248329  \n",
       "1                   1542248348  \n",
       "2                   1542249861  \n",
       "3                   1542252775  \n",
       "\n",
       "[4 rows x 91 columns]"
      ]
     },
     "execution_count": 27,
     "metadata": {},
     "output_type": "execute_result"
    }
   ],
   "source": [
    "#let's have a look at the dataframe now and see how its looks like after we add the datetime variables\n",
    "train.head(4)"
   ]
  },
  {
   "cell_type": "code",
   "execution_count": 28,
   "metadata": {},
   "outputs": [],
   "source": [
    "#let's remove the identifier columns so that we have only the features we need to use otherwise we will have problems.\n",
    "train = train.drop(columns='Identifier')\n",
    "test = test.drop(columns='Identifier')"
   ]
  },
  {
   "cell_type": "code",
   "execution_count": 29,
   "metadata": {},
   "outputs": [
    {
     "data": {
      "text/html": [
       "<div>\n",
       "<style scoped>\n",
       "    .dataframe tbody tr th:only-of-type {\n",
       "        vertical-align: middle;\n",
       "    }\n",
       "\n",
       "    .dataframe tbody tr th {\n",
       "        vertical-align: top;\n",
       "    }\n",
       "\n",
       "    .dataframe thead th {\n",
       "        text-align: right;\n",
       "    }\n",
       "</style>\n",
       "<table border=\"1\" class=\"dataframe\">\n",
       "  <thead>\n",
       "    <tr style=\"text-align: right;\">\n",
       "      <th></th>\n",
       "      <th>BatchId_0</th>\n",
       "      <th>BatchId_1</th>\n",
       "      <th>BatchId_2</th>\n",
       "      <th>BatchId_3</th>\n",
       "      <th>BatchId_4</th>\n",
       "      <th>BatchId_5</th>\n",
       "      <th>BatchId_6</th>\n",
       "      <th>BatchId_7</th>\n",
       "      <th>BatchId_8</th>\n",
       "      <th>BatchId_9</th>\n",
       "      <th>...</th>\n",
       "      <th>TransactionStartTimeDay</th>\n",
       "      <th>TransactionStartTimeDayofweek</th>\n",
       "      <th>TransactionStartTimeDayofyear</th>\n",
       "      <th>TransactionStartTimeIs_month_end</th>\n",
       "      <th>TransactionStartTimeIs_month_start</th>\n",
       "      <th>TransactionStartTimeIs_quarter_end</th>\n",
       "      <th>TransactionStartTimeIs_quarter_start</th>\n",
       "      <th>TransactionStartTimeIs_year_end</th>\n",
       "      <th>TransactionStartTimeIs_year_start</th>\n",
       "      <th>TransactionStartTimeElapsed</th>\n",
       "    </tr>\n",
       "  </thead>\n",
       "  <tbody>\n",
       "    <tr>\n",
       "      <th>0</th>\n",
       "      <td>0</td>\n",
       "      <td>0</td>\n",
       "      <td>1</td>\n",
       "      <td>0</td>\n",
       "      <td>1</td>\n",
       "      <td>1</td>\n",
       "      <td>0</td>\n",
       "      <td>1</td>\n",
       "      <td>1</td>\n",
       "      <td>1</td>\n",
       "      <td>...</td>\n",
       "      <td>15</td>\n",
       "      <td>3</td>\n",
       "      <td>319</td>\n",
       "      <td>False</td>\n",
       "      <td>False</td>\n",
       "      <td>False</td>\n",
       "      <td>False</td>\n",
       "      <td>False</td>\n",
       "      <td>False</td>\n",
       "      <td>1542248329</td>\n",
       "    </tr>\n",
       "    <tr>\n",
       "      <th>1</th>\n",
       "      <td>0</td>\n",
       "      <td>0</td>\n",
       "      <td>0</td>\n",
       "      <td>1</td>\n",
       "      <td>1</td>\n",
       "      <td>1</td>\n",
       "      <td>1</td>\n",
       "      <td>1</td>\n",
       "      <td>0</td>\n",
       "      <td>0</td>\n",
       "      <td>...</td>\n",
       "      <td>15</td>\n",
       "      <td>3</td>\n",
       "      <td>319</td>\n",
       "      <td>False</td>\n",
       "      <td>False</td>\n",
       "      <td>False</td>\n",
       "      <td>False</td>\n",
       "      <td>False</td>\n",
       "      <td>False</td>\n",
       "      <td>1542248348</td>\n",
       "    </tr>\n",
       "    <tr>\n",
       "      <th>2</th>\n",
       "      <td>0</td>\n",
       "      <td>0</td>\n",
       "      <td>1</td>\n",
       "      <td>1</td>\n",
       "      <td>1</td>\n",
       "      <td>0</td>\n",
       "      <td>1</td>\n",
       "      <td>0</td>\n",
       "      <td>1</td>\n",
       "      <td>1</td>\n",
       "      <td>...</td>\n",
       "      <td>15</td>\n",
       "      <td>3</td>\n",
       "      <td>319</td>\n",
       "      <td>False</td>\n",
       "      <td>False</td>\n",
       "      <td>False</td>\n",
       "      <td>False</td>\n",
       "      <td>False</td>\n",
       "      <td>False</td>\n",
       "      <td>1542249861</td>\n",
       "    </tr>\n",
       "    <tr>\n",
       "      <th>3</th>\n",
       "      <td>0</td>\n",
       "      <td>0</td>\n",
       "      <td>0</td>\n",
       "      <td>0</td>\n",
       "      <td>0</td>\n",
       "      <td>0</td>\n",
       "      <td>0</td>\n",
       "      <td>1</td>\n",
       "      <td>1</td>\n",
       "      <td>1</td>\n",
       "      <td>...</td>\n",
       "      <td>15</td>\n",
       "      <td>3</td>\n",
       "      <td>319</td>\n",
       "      <td>False</td>\n",
       "      <td>False</td>\n",
       "      <td>False</td>\n",
       "      <td>False</td>\n",
       "      <td>False</td>\n",
       "      <td>False</td>\n",
       "      <td>1542252775</td>\n",
       "    </tr>\n",
       "  </tbody>\n",
       "</table>\n",
       "<p>4 rows × 90 columns</p>\n",
       "</div>"
      ],
      "text/plain": [
       "   BatchId_0  BatchId_1  BatchId_2  BatchId_3  BatchId_4  BatchId_5  \\\n",
       "0          0          0          1          0          1          1   \n",
       "1          0          0          0          1          1          1   \n",
       "2          0          0          1          1          1          0   \n",
       "3          0          0          0          0          0          0   \n",
       "\n",
       "   BatchId_6  BatchId_7  BatchId_8  BatchId_9  ...  TransactionStartTimeDay  \\\n",
       "0          0          1          1          1  ...                       15   \n",
       "1          1          1          0          0  ...                       15   \n",
       "2          1          0          1          1  ...                       15   \n",
       "3          0          1          1          1  ...                       15   \n",
       "\n",
       "   TransactionStartTimeDayofweek  TransactionStartTimeDayofyear  \\\n",
       "0                              3                            319   \n",
       "1                              3                            319   \n",
       "2                              3                            319   \n",
       "3                              3                            319   \n",
       "\n",
       "   TransactionStartTimeIs_month_end  TransactionStartTimeIs_month_start  \\\n",
       "0                             False                               False   \n",
       "1                             False                               False   \n",
       "2                             False                               False   \n",
       "3                             False                               False   \n",
       "\n",
       "   TransactionStartTimeIs_quarter_end  TransactionStartTimeIs_quarter_start  \\\n",
       "0                               False                                 False   \n",
       "1                               False                                 False   \n",
       "2                               False                                 False   \n",
       "3                               False                                 False   \n",
       "\n",
       "   TransactionStartTimeIs_year_end  TransactionStartTimeIs_year_start  \\\n",
       "0                            False                              False   \n",
       "1                            False                              False   \n",
       "2                            False                              False   \n",
       "3                            False                              False   \n",
       "\n",
       "   TransactionStartTimeElapsed  \n",
       "0                   1542248329  \n",
       "1                   1542248348  \n",
       "2                   1542249861  \n",
       "3                   1542252775  \n",
       "\n",
       "[4 rows x 90 columns]"
      ]
     },
     "execution_count": 29,
     "metadata": {},
     "output_type": "execute_result"
    }
   ],
   "source": [
    "train.head(4)"
   ]
  },
  {
   "cell_type": "code",
   "execution_count": 30,
   "metadata": {},
   "outputs": [],
   "source": [
    "#plot graph of feature importances for better visualization\n",
    "#plt.figure(figsize=(7,7))\n",
    "#feat_importances = pd.Series(rm_clf.feature_importances_, index=train.columns)\n",
    "#feat_importances.nlargest(10).plot(kind='bar')\n",
    "#plt.show()"
   ]
  },
  {
   "cell_type": "code",
   "execution_count": 30,
   "metadata": {},
   "outputs": [
    {
     "data": {
      "text/plain": [
       "((95662, 90), (45019, 90))"
      ]
     },
     "execution_count": 30,
     "metadata": {},
     "output_type": "execute_result"
    }
   ],
   "source": [
    "#let's see the shapes of the data now\n",
    "train.shape, test.shape"
   ]
  },
  {
   "cell_type": "code",
   "execution_count": 31,
   "metadata": {},
   "outputs": [
    {
     "name": "stdout",
     "output_type": "stream",
     "text": [
      "Most Positive Correlations:\n",
      " SubscriptionId_2     0.033930\n",
      "ChannelId_2          0.034272\n",
      "ProductId_3          0.035686\n",
      "ProductId_5          0.045169\n",
      "ProductId_4          0.049997\n",
      "ProviderId_3         0.074962\n",
      "Value                0.566739\n",
      "FraudResult          1.000000\n",
      "BatchId_0                 NaN\n",
      "AccountId_0               NaN\n",
      "SubscriptionId_0          NaN\n",
      "CustomerId_0              NaN\n",
      "ProviderId_0              NaN\n",
      "ProductId_0               NaN\n",
      "ProductCategory_0         NaN\n",
      "Name: FraudResult, dtype: float64\n",
      "\n",
      "Most Negative Correlations:\n",
      " ProviderId_1                    -0.083548\n",
      "ProductId_1                     -0.049321\n",
      "PricingStrategy                 -0.033821\n",
      "SubscriptionId_1                -0.029144\n",
      "SubscriptionId_4                -0.028527\n",
      "AccountId_2                     -0.023884\n",
      "AccountId_10                    -0.021586\n",
      "CustomerId_7                    -0.014871\n",
      "SubscriptionId_11               -0.010745\n",
      "CustomerId_10                   -0.010288\n",
      "CustomerId_2                    -0.010247\n",
      "SubscriptionId_8                -0.009600\n",
      "SubscriptionId_7                -0.009546\n",
      "TransactionStartTimeDayofyear   -0.009241\n",
      "TransactionStartTimeMonth       -0.008887\n",
      "Name: FraudResult, dtype: float64\n"
     ]
    }
   ],
   "source": [
    "#let's attach the y column to find correlations and after remove\n",
    "train['FraudResult']= y\n",
    "# Find correlations with the target and sort\n",
    "correlations = train.corr()['FraudResult'].sort_values()\n",
    "\n",
    "# Display correlations\n",
    "print('Most Positive Correlations:\\n', correlations.tail(15))\n",
    "print('\\nMost Negative Correlations:\\n', correlations.head(15))\n"
   ]
  },
  {
   "cell_type": "code",
   "execution_count": 32,
   "metadata": {},
   "outputs": [],
   "source": [
    "#I really don't have much issue with correlation\n",
    "y = train['FraudResult']\n",
    "train = train.drop(columns='FraudResult')"
   ]
  },
  {
   "cell_type": "code",
   "execution_count": null,
   "metadata": {},
   "outputs": [],
   "source": []
  },
  {
   "cell_type": "code",
   "execution_count": null,
   "metadata": {},
   "outputs": [],
   "source": []
  },
  {
   "cell_type": "markdown",
   "metadata": {},
   "source": [
    "## Creating a Validation set\n",
    "\n",
    "We are going to take the last 20,000 values and keep them for validation. We want to use this information to make sure we are checkin properly if our models are doing well on out of sample data."
   ]
  },
  {
   "cell_type": "code",
   "execution_count": 33,
   "metadata": {},
   "outputs": [],
   "source": [
    "#lets first mix the train and lable\n",
    "train['FraudResult']= y\n",
    "\n",
    "#choose the last 20k rows to be kept aside\n",
    "valid = train.tail(20000)\n",
    "\n",
    "#bread the validation set into X and y\n",
    "y_valid = valid['FraudResult']\n",
    "X_valid = valid.drop(columns='FraudResult')"
   ]
  },
  {
   "cell_type": "code",
   "execution_count": 34,
   "metadata": {},
   "outputs": [
    {
     "data": {
      "text/html": [
       "<div>\n",
       "<style scoped>\n",
       "    .dataframe tbody tr th:only-of-type {\n",
       "        vertical-align: middle;\n",
       "    }\n",
       "\n",
       "    .dataframe tbody tr th {\n",
       "        vertical-align: top;\n",
       "    }\n",
       "\n",
       "    .dataframe thead th {\n",
       "        text-align: right;\n",
       "    }\n",
       "</style>\n",
       "<table border=\"1\" class=\"dataframe\">\n",
       "  <thead>\n",
       "    <tr style=\"text-align: right;\">\n",
       "      <th></th>\n",
       "      <th>BatchId_0</th>\n",
       "      <th>BatchId_1</th>\n",
       "      <th>BatchId_2</th>\n",
       "      <th>BatchId_3</th>\n",
       "      <th>BatchId_4</th>\n",
       "      <th>BatchId_5</th>\n",
       "      <th>BatchId_6</th>\n",
       "      <th>BatchId_7</th>\n",
       "      <th>BatchId_8</th>\n",
       "      <th>BatchId_9</th>\n",
       "      <th>...</th>\n",
       "      <th>TransactionStartTimeDayofweek</th>\n",
       "      <th>TransactionStartTimeDayofyear</th>\n",
       "      <th>TransactionStartTimeIs_month_end</th>\n",
       "      <th>TransactionStartTimeIs_month_start</th>\n",
       "      <th>TransactionStartTimeIs_quarter_end</th>\n",
       "      <th>TransactionStartTimeIs_quarter_start</th>\n",
       "      <th>TransactionStartTimeIs_year_end</th>\n",
       "      <th>TransactionStartTimeIs_year_start</th>\n",
       "      <th>TransactionStartTimeElapsed</th>\n",
       "      <th>FraudResult</th>\n",
       "    </tr>\n",
       "  </thead>\n",
       "  <tbody>\n",
       "    <tr>\n",
       "      <th>75662</th>\n",
       "      <td>0</td>\n",
       "      <td>0</td>\n",
       "      <td>0</td>\n",
       "      <td>0</td>\n",
       "      <td>0</td>\n",
       "      <td>1</td>\n",
       "      <td>1</td>\n",
       "      <td>0</td>\n",
       "      <td>0</td>\n",
       "      <td>1</td>\n",
       "      <td>...</td>\n",
       "      <td>0</td>\n",
       "      <td>28</td>\n",
       "      <td>False</td>\n",
       "      <td>False</td>\n",
       "      <td>False</td>\n",
       "      <td>False</td>\n",
       "      <td>False</td>\n",
       "      <td>False</td>\n",
       "      <td>1548656268</td>\n",
       "      <td>0</td>\n",
       "    </tr>\n",
       "    <tr>\n",
       "      <th>75663</th>\n",
       "      <td>0</td>\n",
       "      <td>0</td>\n",
       "      <td>0</td>\n",
       "      <td>0</td>\n",
       "      <td>0</td>\n",
       "      <td>1</td>\n",
       "      <td>0</td>\n",
       "      <td>0</td>\n",
       "      <td>0</td>\n",
       "      <td>1</td>\n",
       "      <td>...</td>\n",
       "      <td>0</td>\n",
       "      <td>28</td>\n",
       "      <td>False</td>\n",
       "      <td>False</td>\n",
       "      <td>False</td>\n",
       "      <td>False</td>\n",
       "      <td>False</td>\n",
       "      <td>False</td>\n",
       "      <td>1548656287</td>\n",
       "      <td>0</td>\n",
       "    </tr>\n",
       "    <tr>\n",
       "      <th>75664</th>\n",
       "      <td>0</td>\n",
       "      <td>0</td>\n",
       "      <td>0</td>\n",
       "      <td>1</td>\n",
       "      <td>0</td>\n",
       "      <td>1</td>\n",
       "      <td>1</td>\n",
       "      <td>0</td>\n",
       "      <td>1</td>\n",
       "      <td>1</td>\n",
       "      <td>...</td>\n",
       "      <td>0</td>\n",
       "      <td>28</td>\n",
       "      <td>False</td>\n",
       "      <td>False</td>\n",
       "      <td>False</td>\n",
       "      <td>False</td>\n",
       "      <td>False</td>\n",
       "      <td>False</td>\n",
       "      <td>1548656326</td>\n",
       "      <td>0</td>\n",
       "    </tr>\n",
       "    <tr>\n",
       "      <th>75665</th>\n",
       "      <td>0</td>\n",
       "      <td>0</td>\n",
       "      <td>0</td>\n",
       "      <td>1</td>\n",
       "      <td>0</td>\n",
       "      <td>1</td>\n",
       "      <td>0</td>\n",
       "      <td>0</td>\n",
       "      <td>1</td>\n",
       "      <td>0</td>\n",
       "      <td>...</td>\n",
       "      <td>0</td>\n",
       "      <td>28</td>\n",
       "      <td>False</td>\n",
       "      <td>False</td>\n",
       "      <td>False</td>\n",
       "      <td>False</td>\n",
       "      <td>False</td>\n",
       "      <td>False</td>\n",
       "      <td>1548656337</td>\n",
       "      <td>0</td>\n",
       "    </tr>\n",
       "  </tbody>\n",
       "</table>\n",
       "<p>4 rows × 91 columns</p>\n",
       "</div>"
      ],
      "text/plain": [
       "       BatchId_0  BatchId_1  BatchId_2  BatchId_3  BatchId_4  BatchId_5  \\\n",
       "75662          0          0          0          0          0          1   \n",
       "75663          0          0          0          0          0          1   \n",
       "75664          0          0          0          1          0          1   \n",
       "75665          0          0          0          1          0          1   \n",
       "\n",
       "       BatchId_6  BatchId_7  BatchId_8  BatchId_9  ...  \\\n",
       "75662          1          0          0          1  ...   \n",
       "75663          0          0          0          1  ...   \n",
       "75664          1          0          1          1  ...   \n",
       "75665          0          0          1          0  ...   \n",
       "\n",
       "       TransactionStartTimeDayofweek  TransactionStartTimeDayofyear  \\\n",
       "75662                              0                             28   \n",
       "75663                              0                             28   \n",
       "75664                              0                             28   \n",
       "75665                              0                             28   \n",
       "\n",
       "       TransactionStartTimeIs_month_end  TransactionStartTimeIs_month_start  \\\n",
       "75662                             False                               False   \n",
       "75663                             False                               False   \n",
       "75664                             False                               False   \n",
       "75665                             False                               False   \n",
       "\n",
       "       TransactionStartTimeIs_quarter_end  \\\n",
       "75662                               False   \n",
       "75663                               False   \n",
       "75664                               False   \n",
       "75665                               False   \n",
       "\n",
       "       TransactionStartTimeIs_quarter_start  TransactionStartTimeIs_year_end  \\\n",
       "75662                                 False                            False   \n",
       "75663                                 False                            False   \n",
       "75664                                 False                            False   \n",
       "75665                                 False                            False   \n",
       "\n",
       "       TransactionStartTimeIs_year_start  TransactionStartTimeElapsed  \\\n",
       "75662                              False                   1548656268   \n",
       "75663                              False                   1548656287   \n",
       "75664                              False                   1548656326   \n",
       "75665                              False                   1548656337   \n",
       "\n",
       "       FraudResult  \n",
       "75662            0  \n",
       "75663            0  \n",
       "75664            0  \n",
       "75665            0  \n",
       "\n",
       "[4 rows x 91 columns]"
      ]
     },
     "execution_count": 34,
     "metadata": {},
     "output_type": "execute_result"
    }
   ],
   "source": [
    "valid.head(4)"
   ]
  },
  {
   "cell_type": "code",
   "execution_count": 35,
   "metadata": {},
   "outputs": [
    {
     "data": {
      "text/plain": [
       "(20000, 91)"
      ]
     },
     "execution_count": 35,
     "metadata": {},
     "output_type": "execute_result"
    }
   ],
   "source": [
    "valid.shape"
   ]
  },
  {
   "cell_type": "code",
   "execution_count": 36,
   "metadata": {},
   "outputs": [
    {
     "data": {
      "text/plain": [
       "False"
      ]
     },
     "execution_count": 36,
     "metadata": {},
     "output_type": "execute_result"
    }
   ],
   "source": [
    "'FraudResult' in X_valid.columns"
   ]
  },
  {
   "cell_type": "code",
   "execution_count": 37,
   "metadata": {},
   "outputs": [],
   "source": [
    "#lets now take the ones for validation out of the major dataset\n",
    "\n",
    "train  = train.iloc[0:75662, ]\n",
    "\n",
    "y = train['FraudResult']\n",
    "train = train.drop(columns='FraudResult')"
   ]
  },
  {
   "cell_type": "code",
   "execution_count": 38,
   "metadata": {},
   "outputs": [
    {
     "data": {
      "text/plain": [
       "((75662, 90), (20000, 90))"
      ]
     },
     "execution_count": 38,
     "metadata": {},
     "output_type": "execute_result"
    }
   ],
   "source": [
    "train.shape, X_valid.shape\n"
   ]
  },
  {
   "cell_type": "markdown",
   "metadata": {},
   "source": [
    "### Imbalance in data:\n",
    "There is a problem we have with the target variable, we have more of one result than the other, that is we have less fraud cases than the where there was actually fraud.\n",
    "\n",
    "We have to handle this data in a different way."
   ]
  },
  {
   "cell_type": "code",
   "execution_count": 39,
   "metadata": {},
   "outputs": [
    {
     "data": {
      "text/plain": [
       "Text(0.5, 1.0, 'Target variable count')"
      ]
     },
     "execution_count": 39,
     "metadata": {},
     "output_type": "execute_result"
    },
    {
     "data": {
      "image/png": "[encoded data removed]",
      "text/plain": [
       "<Figure size 432x288 with 1 Axes>"
      ]
     },
     "metadata": {
      "needs_background": "light"
     },
     "output_type": "display_data"
    }
   ],
   "source": [
    "#i want to visualize the imbalance in the target variable\n",
    "x=y.value_counts().values\n",
    "sns.barplot([0,1],x)\n",
    "plt.title('Target variable count')"
   ]
  },
  {
   "cell_type": "markdown",
   "metadata": {},
   "source": [
    "## Smote: Oversampling data:\n",
    "\n",
    "`SMOTE (Synthetic Minority Oversampling TEchnique)` consists of synthesizing elements for the minority class, based on those that already exist. It works randomly picking a point from the minority class and computing the k-nearest neighbors for this point. The synthetic points are added between the chosen point and its neighbors."
   ]
  },
  {
   "cell_type": "code",
   "execution_count": 40,
   "metadata": {},
   "outputs": [
    {
     "data": {
      "text/plain": [
       "((60529, 90), (15133, 90), (60529,), (15133,))"
      ]
     },
     "execution_count": 40,
     "metadata": {},
     "output_type": "execute_result"
    }
   ],
   "source": [
    "#First we are going to separate the target variable from the rest of the observations and split the data\n",
    "from sklearn.model_selection import train_test_split\n",
    "\n",
    "x = train\n",
    "\n",
    "#split the data to prevent overfitting\n",
    "X_train,X_test,y_train,y_test=train_test_split(x,y,test_size=.2,random_state=1)\n",
    "\n",
    "#let's see the shape of the data\n",
    "X_train.shape,X_test.shape,y_train.shape,y_test.shape"
   ]
  },
  {
   "cell_type": "code",
   "execution_count": 41,
   "metadata": {},
   "outputs": [],
   "source": [
    "#%pip install imblearn"
   ]
  },
  {
   "cell_type": "code",
   "execution_count": 42,
   "metadata": {},
   "outputs": [],
   "source": [
    "#first we are going to filter out the different results from the label in the main label\n",
    "\n",
    "from imblearn.over_sampling import SMOTE\n",
    "\n",
    "smote = SMOTE(random_state=27,ratio='minority')\n",
    "X_train, y_train = smote.fit_sample(X_train, y_train)"
   ]
  },
  {
   "cell_type": "code",
   "execution_count": 43,
   "metadata": {},
   "outputs": [
    {
     "data": {
      "text/plain": [
       "((120846, 90), (120846,))"
      ]
     },
     "execution_count": 43,
     "metadata": {},
     "output_type": "execute_result"
    }
   ],
   "source": [
    "#Let's see the shape\n",
    "X_train.shape, y_train.shape"
   ]
  },
  {
   "cell_type": "code",
   "execution_count": 44,
   "metadata": {},
   "outputs": [
    {
     "name": "stdout",
     "output_type": "stream",
     "text": [
      "After OverSampling, the shape of train_X: (120846, 90)\n",
      "After OverSampling, the shape of train_y: (120846,) \n",
      "\n",
      "After OverSampling, counts of label '1': 60423\n",
      "After OverSampling, counts of label '0': 60423\n"
     ]
    }
   ],
   "source": [
    "#let's check and see the number of os and ones\n",
    "print('After OverSampling, the shape of train_X: {}'.format(X_train.shape))\n",
    "print('After OverSampling, the shape of train_y: {} \\n'.format(y_train.shape))\n",
    "\n",
    "print(\"After OverSampling, counts of label '1': {}\".format(sum(y_train==1)))\n",
    "print(\"After OverSampling, counts of label '0': {}\".format(sum(y_train==0)))"
   ]
  },
  {
   "cell_type": "markdown",
   "metadata": {},
   "source": [
    "## Scaling the data"
   ]
  },
  {
   "cell_type": "code",
   "execution_count": 45,
   "metadata": {},
   "outputs": [],
   "source": [
    "from sklearn.preprocessing import StandardScaler, MinMaxScaler\n",
    "scaler = StandardScaler()\n",
    "maxscaler = MinMaxScaler()\n",
    "\n",
    "#let's scale the data with Standard Scaler\n",
    "X_train = scaler.fit_transform(X_train)\n",
    "X_test  = scaler.fit_transform(X_test)\n",
    "\n",
    "#let's make all the data be in the range of 0-1 so the scales are balanced.\n",
    "X_train = maxscaler.fit_transform(X_train)\n",
    "X_test = maxscaler.fit_transform(X_test)"
   ]
  },
  {
   "cell_type": "code",
   "execution_count": 46,
   "metadata": {},
   "outputs": [
    {
     "name": "stderr",
     "output_type": "stream",
     "text": [
      "/home/jupyter/.local/lib/python3.5/site-packages/sklearn/ensemble/forest.py:245: FutureWarning: The default value of n_estimators will change from 10 in version 0.20 to 100 in 0.22.\n",
      "  \"10 in version 0.20 to 100 in 0.22.\", FutureWarning)\n"
     ]
    },
    {
     "data": {
      "text/plain": [
       "0.9999751750161362"
      ]
     },
     "execution_count": 46,
     "metadata": {},
     "output_type": "execute_result"
    }
   ],
   "source": [
    "#now we have something to put in the model\n",
    "m = RandomForestClassifier(n_jobs=-1)\n",
    "m.fit(X_train, y_train)\n",
    "m.score(X_train, y_train)"
   ]
  },
  {
   "cell_type": "markdown",
   "metadata": {},
   "source": [
    "## Feature Engineering\n",
    "\n",
    "### Feature Importances and Selection\n",
    "\n",
    "We want to know the best features in our model and how to harness them, this is important, and to find our more please read this [Article](https://towardsdatascience.com/feature-selection-techniques-in-machine-learning-with-python-f24e7da3f36e)\n",
    "\n",
    "- What we want to do is use those features instead of the many useless, because I have noticed I get a good score on my F1 here but on the leader board it goes low, so I am overfitting\n",
    "\n",
    "- [Great Article Here on Feature Selection and Importance methods](https://www.kaggle.com/kanncaa1/feature-selection-and-data-visualization)\n",
    "- [Will Koerhsen on Feature Importances e.t.c](https://www.kaggle.com/willkoehrsen/introduction-to-feature-selection)\n",
    "- [Manual Feature Engineering](https://www.kaggle.com/willkoehrsen/introduction-to-manual-feature-engineering)\n",
    "- [Part Two of Feature Engineering](https://www.kaggle.com/willkoehrsen/introduction-to-manual-feature-engineering-p2)\n",
    "\n",
    "### Univariate feature selection and random forest classification"
   ]
  },
  {
   "cell_type": "code",
   "execution_count": 50,
   "metadata": {},
   "outputs": [],
   "source": [
    "#from sklearn.feature_selection import SelectKBest\n",
    "#from sklearn.feature_selection import chi2\n",
    "# find best scored 10 features\n",
    "#select_feature = SelectKBest(chi2, k=10).fit(X_train, y_train)"
   ]
  },
  {
   "cell_type": "code",
   "execution_count": 51,
   "metadata": {},
   "outputs": [],
   "source": [
    "#let's print the selected features\n",
    "#print('Score list:', select_feature.scores_)"
   ]
  },
  {
   "cell_type": "code",
   "execution_count": 52,
   "metadata": {},
   "outputs": [],
   "source": [
    "#let's take those features and transform the data we have\n",
    "#x_train = select_feature.transform(X_train)\n",
    "#x_test = select_feature.transform(X_test)"
   ]
  },
  {
   "cell_type": "code",
   "execution_count": null,
   "metadata": {},
   "outputs": [],
   "source": []
  },
  {
   "cell_type": "markdown",
   "metadata": {},
   "source": [
    "### Score Function"
   ]
  },
  {
   "cell_type": "code",
   "execution_count": 47,
   "metadata": {},
   "outputs": [],
   "source": [
    "#I want to write a function that I will call to evaluate my model, I am going to evaluate based on ROC_AUC and score.\n",
    "\n",
    "#when you build a model you want to know how it is functioning. And there are functions that are pre_built in scikit learn \n",
    "#to help you evaluate the model, so I built these in the functions below\n",
    "\n",
    "def print_score(m,md):\n",
    "    \n",
    "    # Used to ignore warnings generated from StackingCVClassifier\n",
    "    import warnings\n",
    "    warnings.simplefilter('ignore')\n",
    "\n",
    "    #Call the classification metrics we want to use\n",
    "    from sklearn.metrics import roc_auc_score,auc,f1_score,roc_curve\n",
    "    \n",
    "    \n",
    "    false_positive_rate, true_positive_rate, thresholds = roc_curve(y_test, m)\n",
    "    roc_auc = auc(false_positive_rate, true_positive_rate)\n",
    "    \n",
    "    f1 = f1_score(y_test,m)\n",
    "    roc = roc_auc_score(y_test,m)\n",
    "    #oob = md.oob_score_ #I added the oob score\n",
    "    \n",
    "    #let's see how the model does on validation data\n",
    "    pred = md.predict(X_valid)\n",
    "    f2 = f1_score(y_valid,pred)\n",
    "    \n",
    "    pred_3 = md.predict(X_train)\n",
    "    f3 = f1_score(y_train,pred_3)\n",
    "    \n",
    "    res = [\"roc_auc-->\",roc_auc,\"F1_score-->\",f1,\"roc_auc_score-->\",roc]\n",
    "    print(res)\n",
    "    print('\\n')\n",
    "    \n",
    "    print(\"Model Performance on out of sample data\")\n",
    "    \n",
    "    valid = ['Valid_data_F1_score-->',f2]\n",
    "    \n",
    "    print(valid)\n",
    "    \n",
    "    print('\\n')\n",
    "    \n",
    "    print(\"Model Performance on train data\")\n",
    "    \n",
    "    train_ = ['Train_data_F1_score-->',f3]\n",
    "    \n",
    "    print(train_)\n",
    "    \n",
    "    \n",
    "    print('\\n')\n",
    "    print('--'*10)\n",
    "    print('Scores on the Validation Data according to the Confusion_matrix')\n",
    "    \n",
    "    from sklearn.metrics import confusion_matrix\n",
    "    tn, fp, fn, tp = confusion_matrix(y_valid,pred).ravel()\n",
    "    \n",
    "    # Error rate : \n",
    "    err_rate = (fp + fn) / (tp + tn + fn + fp)\n",
    "    print(\"Error rate  : \", err_rate)\n",
    "\n",
    "    # Accuracy : \n",
    "    acc_ = (tp + tn) / (tp + tn + fn + fp)\n",
    "    print(\"Accuracy  : \", acc_)\n",
    "    \n",
    "    \n",
    "    #precision\n",
    "    preci_ = tp / (tp + fp)\n",
    "    print(\"Precision  : \", preci_)\n",
    "\n",
    "    # Sensitivity : \n",
    "    sens_ = tp / (tp + fn)\n",
    "    print(\"Recall  : \", sens_)\n",
    "\n",
    "    # Specificity \n",
    "    sp_ = tn / (tn + fp)\n",
    "    print(\"Specificity  : \", sens_)\n",
    "\n",
    "    # False positive rate (FPR)\n",
    "    FPR = fp / (tn + fp)\n",
    "    print(\"False positive rate  : \", FPR)\n",
    "    \n",
    "    # False positive rate (FPR)\n",
    "    TPR = tp / (tp + fn)\n",
    "    print(\"True positive rate  : \", TPR)\n",
    "    \n",
    "    print('--'*10)\n",
    "    \n",
    "    \n",
    "    print('\\n')\n",
    "    print('Drawing the Confusion Matrix on Out_of_sample_data')\n",
    "    #from sklearn.metrics import confusion_matrix\n",
    "    \n",
    "    plt.figure(figsize=(7,7))\n",
    "    cm_2 = confusion_matrix(y_valid,pred)\n",
    "    sns.heatmap(cm_2,annot=True,fmt=\"d\")\n",
    "   "
   ]
  },
  {
   "cell_type": "code",
   "execution_count": 49,
   "metadata": {},
   "outputs": [
    {
     "name": "stdout",
     "output_type": "stream",
     "text": [
      "CPU times: user 2min 3s, sys: 12 ms, total: 2min 3s\n",
      "Wall time: 17 s\n",
      "['roc_auc-->', 0.9277773576344248, 'F1_score-->', 0.5714285714285714, 'roc_auc_score-->', 0.9277773576344248]\n",
      "\n",
      "\n",
      "Model Performance on out of sample data\n",
      "['Valid_data_F1_score-->', 0.003026951510565225]\n",
      "\n",
      "\n",
      "Model Performance on train data\n",
      "['Train_data_F1_score-->', 0.9998924277404033]\n",
      "\n",
      "\n",
      "--------------------\n",
      "Scores on the Validation Data according to the Confusion_matrix\n",
      "Error rate  :  0.85635\n",
      "Accuracy  :  0.14365\n",
      "Precision  :  0.0015193128031321219\n",
      "Recall  :  0.3939393939393939\n",
      "Specificity  :  0.3939393939393939\n",
      "False positive rate  :  0.8571786896759306\n",
      "True positive rate  :  0.3939393939393939\n",
      "--------------------\n",
      "\n",
      "\n",
      "Drawing the Confusion Matrix on Out_of_sample_data\n"
     ]
    },
    {
     "data": {
      "image/png": "[encoded data removed]",
      "text/plain": [
       "<Figure size 504x504 with 2 Axes>"
      ]
     },
     "metadata": {
      "needs_background": "light"
     },
     "output_type": "display_data"
    }
   ],
   "source": [
    "ml = RandomForestClassifier(n_jobs=-1, n_estimators=60, min_samples_leaf=3, max_features=0.5,bootstrap=True,oob_score =True)\n",
    "%time ml.fit(X_train, y_train)\n",
    "pred_d = ml.predict(X_test)\n",
    "print_score(pred_d,ml)"
   ]
  },
  {
   "cell_type": "markdown",
   "metadata": {},
   "source": [
    "## Feature Importances\n",
    "\n",
    "```Python\n",
    "#The difference between standard Pearson's correlation is that this one first transforms variables into ranks and only then runs Pearson's correlation on the ranks.\n",
    "\n",
    "from rfpimp import plot_corr_heatmap\n",
    "viz = plot_corr_heatmap(X_train, figsize=(15,10))\n",
    "viz.view()\n",
    "\n",
    "#use this to overcome the bias in feature importances for all \n",
    "\n",
    "\n",
    "from sklearn.metrics import r2_score\n",
    "from rfpimp import permutation_importances\n",
    "\n",
    "def r2(rf, X_train, y_train):\n",
    "    return r2_score(y_train, rf.predict(X_train))\n",
    "\n",
    "perm_imp_rfpimp = permutation_importances(rf, X_train, y_train, r2)\n",
    "perm_imp_rfpimp.reset_index(drop = False, inplace = True)\n",
    "\n",
    "```"
   ]
  },
  {
   "cell_type": "code",
   "execution_count": 50,
   "metadata": {},
   "outputs": [
    {
     "data": {
      "image/png": "[encoded data removed]",
      "text/plain": [
       "<Figure size 504x504 with 1 Axes>"
      ]
     },
     "metadata": {
      "needs_background": "light"
     },
     "output_type": "display_data"
    }
   ],
   "source": [
    "#plot graph of feature importances for better visualization\n",
    "plt.figure(figsize=(7,7))\n",
    "feat_importances = pd.Series(ml.feature_importances_, index=train.columns)\n",
    "feat_importances.nlargest(10).plot(kind='barh')\n",
    "plt.show()"
   ]
  },
  {
   "cell_type": "markdown",
   "metadata": {},
   "source": [
    "### Feature Importances Study\n",
    "\n",
    "I have been doing some study and I have found that using the default clasiffier feature importance maybe biased. There are other ways, I want to try them and see if I get the same results as the ones I get above."
   ]
  },
  {
   "cell_type": "code",
   "execution_count": 53,
   "metadata": {},
   "outputs": [],
   "source": [
    "#X_train_bi.shape, y_train_bi.shape"
   ]
  },
  {
   "cell_type": "code",
   "execution_count": 54,
   "metadata": {},
   "outputs": [],
   "source": [
    "#I need to fit the new data and predict from that..."
   ]
  },
  {
   "cell_type": "markdown",
   "metadata": {},
   "source": [
    "## Tuning Different Classifiers\n",
    "\n",
    "I have got a high score by stacking up classifiers, these classifiers were not really tuned well enough to better their functionality.\n",
    "\n",
    "My goal is to make better these classifiers and then stack them up again. The process involved takes a lot of time and computational space, to the extent that I can tune only about three models a day.\n",
    "\n",
    "- [A great article on overfitting](https://medium.com/machine-learning-intuition/overfitting-what-they-are-regularization-e950c2d66d50)\n",
    "- [Another article](https://www.gormanalysis.com/blog/magic-behind-constructing-a-decision-tree/)\n",
    "- [A cook notebook to help](https://github.com/erykml/medium_articles/blob/master/feature_importance.ipynb)\n",
    "- [OOB_Evaluation](http://cican17.com/machine-learning-with-tree-based-models-ii/)"
   ]
  },
  {
   "cell_type": "code",
   "execution_count": 51,
   "metadata": {},
   "outputs": [],
   "source": [
    "#classifiers\n",
    "from sklearn.linear_model import LogisticRegression\n",
    "from sklearn.neighbors import KNeighborsClassifier\n",
    "from sklearn.naive_bayes import GaussianNB \n",
    "from sklearn.ensemble import RandomForestClassifier\n",
    "from sklearn.svm import SVC\n",
    "\n",
    "#stack\n",
    "#from mlxtend.classifier import StackingClassifier\n",
    "\n",
    "#i will use this after the stack and see what happens\n",
    "from sklearn.ensemble import AdaBoostClassifier\n",
    "\n",
    "# Used to ignore warnings generated from StackingCVClassifier\n",
    "import warnings\n",
    "warnings.simplefilter('ignore')\n",
    "\n",
    "from sklearn.model_selection import train_test_split, GridSearchCV\n",
    "from sklearn.metrics import roc_curve, auc\n"
   ]
  },
  {
   "cell_type": "markdown",
   "metadata": {},
   "source": [
    "## Random Forest Classifier Tunning\n",
    "\n",
    "When you tune a model you need to know how the model is doig and in order to find that out you have to evaluate the model, this can be based on which model you have because different models have different evaluations.\n",
    "- [This article explain it well](https://towardsdatascience.com/common-classification-model-evaluation-metrics-2ba0a7a7436e)\n",
    "- [Article 2](https://towardsdatascience.com/metrics-to-evaluate-your-machine-learning-algorithm-f10ba6e38234)\n",
    "-[Ada Boost Article](https://www.datacamp.com/community/tutorials/adaboost-classifier-python)\n",
    "\n",
    "-This article on Cross Validation is great, take some time to read it: It mentions the different types of Cross Validation for better understanding.[Cross Validation](https://towardsdatascience.com/cross-validation-in-machine-learning-72924a69872f)\n",
    "\n",
    "Articles on RForestClassifier\n",
    "-[Article One] (https://chrisalbon.com/machine_learning/trees_and_forests/random_forest_classifier_example/)\n",
    "-[Article Two]()\n"
   ]
  },
  {
   "cell_type": "code",
   "execution_count": 52,
   "metadata": {},
   "outputs": [
    {
     "data": {
      "text/plain": [
       "'\\'rm_clf = RandomForestClassifier()\\n\\n\\n# Define parameter grid \\nparams = {\\n    #\\'C\\' :list(range(2,15))\\n    #\\'kernel\\':[\\'linear\\', \\'poly\\', \\'rbf\\', \\'sigmoid\\', \\'precomputed\\'],\\n    #\\'degree\\' : list(range(2,20)),\\n    #\\'gamma\\' : [\\'rbf\\', \\'poly\\' ,\\'sigmoid\\',\\'auto\\'],\\n    #\\'probability\\' : [False,True]\\n    \\n   \\'n_estimators\\':[147],\\n    \\'criterion\\':[\\'entropy\\'],\\n    #\\'max_features\\':[\\'auto\\',\\'sqrt\\',\\'log2\\',\\'None\\'],\\n    #\\'min_samples_leaf\\': list(range(10,200))\\n}\\n\\n\\n# Initialize GridSearchCV\\ngrid = GridSearchCV(estimator = rm_clf, \\n                    param_grid = params, \\n                    cv = 3,\\n                    scoring = \"roc_auc\",\\n                    verbose = 1,\\n                    n_jobs = -1)\\n\\n# Fit GridSearchCV\\n%time\\ngrid.fit(X_train, y_train)\\n\\n\\ny_pred = grid.predict(X_test)\\n\\nfalse_positive_rate, true_positive_rate, thresholds = roc_curve(y_test, y_pred)\\nroc_auc = auc(false_positive_rate, true_positive_rate)\\nf1 = f1_score(y_test,y_pred)\\n\\n# Print results\\nprint(f\"The ROC of the tuned classifier is {roc_auc:.3f}\")\\nprint(f\"The F1 of the tuned classifier is {f1:.3f}\")\\n\\nprint(grid.best_params_)'"
      ]
     },
     "execution_count": 52,
     "metadata": {},
     "output_type": "execute_result"
    }
   ],
   "source": [
    "''''rm_clf = RandomForestClassifier()\n",
    "\n",
    "\n",
    "# Define parameter grid \n",
    "params = {\n",
    "    #'C' :list(range(2,15))\n",
    "    #'kernel':['linear', 'poly', 'rbf', 'sigmoid', 'precomputed'],\n",
    "    #'degree' : list(range(2,20)),\n",
    "    #'gamma' : ['rbf', 'poly' ,'sigmoid','auto'],\n",
    "    #'probability' : [False,True]\n",
    "    \n",
    "   'n_estimators':[147],\n",
    "    'criterion':['entropy'],\n",
    "    #'max_features':['auto','sqrt','log2','None'],\n",
    "    #'min_samples_leaf': list(range(10,200))\n",
    "}\n",
    "\n",
    "\n",
    "# Initialize GridSearchCV\n",
    "grid = GridSearchCV(estimator = rm_clf, \n",
    "                    param_grid = params, \n",
    "                    cv = 3,\n",
    "                    scoring = \"roc_auc\",\n",
    "                    verbose = 1,\n",
    "                    n_jobs = -1)\n",
    "\n",
    "# Fit GridSearchCV\n",
    "%time\n",
    "grid.fit(X_train, y_train)\n",
    "\n",
    "\n",
    "y_pred = grid.predict(X_test)\n",
    "\n",
    "false_positive_rate, true_positive_rate, thresholds = roc_curve(y_test, y_pred)\n",
    "roc_auc = auc(false_positive_rate, true_positive_rate)\n",
    "f1 = f1_score(y_test,y_pred)\n",
    "\n",
    "# Print results\n",
    "print(f\"The ROC of the tuned classifier is {roc_auc:.3f}\")\n",
    "print(f\"The F1 of the tuned classifier is {f1:.3f}\")\n",
    "\n",
    "print(grid.best_params_)'''"
   ]
  },
  {
   "cell_type": "code",
   "execution_count": 53,
   "metadata": {},
   "outputs": [],
   "source": [
    "#grid.best_params_"
   ]
  },
  {
   "cell_type": "markdown",
   "metadata": {},
   "source": [
    "### Randomized Search\n",
    "\n",
    "I want to compare the two search algorithms and see the one that does the best.\n",
    "\n",
    "- I  have read that the randomize search can do the same work that the GridSearch can but in a shorter period of time and time is one thing I would like to save.\n",
    "\n",
    "I have been having some hard time implementing the grid search algo, I have borrowed some ideas from Koerhsen on handing this in a good way. Let's implement them here."
   ]
  },
  {
   "cell_type": "code",
   "execution_count": null,
   "metadata": {},
   "outputs": [],
   "source": []
  },
  {
   "cell_type": "code",
   "execution_count": null,
   "metadata": {},
   "outputs": [],
   "source": []
  },
  {
   "cell_type": "code",
   "execution_count": null,
   "metadata": {},
   "outputs": [],
   "source": []
  },
  {
   "cell_type": "markdown",
   "metadata": {},
   "source": [
    "## Frome here ***Research\n",
    "\n",
    "To implement this I have decided to try using the LGBClassifier first.\n",
    "\n",
    "Here below is a function that is borrowed from fastai that is going to help us samplea number of rows so we can do rapid prototyping"
   ]
  },
  {
   "cell_type": "code",
   "execution_count": 54,
   "metadata": {},
   "outputs": [],
   "source": [
    "def get_sample(df,n):\n",
    "    \"\"\" Gets a random sample of n rows from df, without replacement.\n",
    "\n",
    "    Parameters:\n",
    "    -----------\n",
    "    df: A pandas data frame, that you wish to sample from.\n",
    "    n: The number of rows you wish to sample.\n",
    "\n",
    "    Returns:\n",
    "    --------\n",
    "    return value: A random sample of n rows of df.\n",
    "\n",
    "    Examples:\n",
    "    ---------\n",
    "    >>> df = pd.DataFrame({'col1' : [1, 2, 3], 'col2' : ['a', 'b', 'a']})\n",
    "    >>> df\n",
    "       col1 col2\n",
    "    0     1    a\n",
    "    1     2    b\n",
    "    2     3    a\n",
    "\n",
    "    >>> get_sample(df, 2)\n",
    "       col1 col2\n",
    "    1     2    b\n",
    "    2     3    a\n",
    "    \"\"\"\n",
    "    idxs = sorted(np.random.permutation(len(df))[:n])\n",
    "    return df.iloc[idxs].copy()"
   ]
  },
  {
   "cell_type": "code",
   "execution_count": 59,
   "metadata": {},
   "outputs": [],
   "source": [
    "#we now take samples of the whole dataset without replacing\n",
    "X_train_sample = get_sample(pd.DataFrame(X_train), 15000)\n",
    "y_train_sample = get_sample(pd.DataFrame(y_train), 15000)"
   ]
  },
  {
   "cell_type": "code",
   "execution_count": 69,
   "metadata": {},
   "outputs": [],
   "source": [
    "#%pip install setuptools wheel numpy scipy scikit-learn -U\n",
    "#%pip install lightgbm"
   ]
  },
  {
   "cell_type": "code",
   "execution_count": 60,
   "metadata": {},
   "outputs": [],
   "source": [
    "#let's have a look at the hyper parameters\n",
    "from sklearn.model_selection import cross_val_score\n",
    "\n",
    "# Modeling\n",
    "import lightgbm as lgb\n",
    "\n",
    "# Evaluation of the model\n",
    "from sklearn.model_selection import KFold\n",
    "\n",
    "from sklearn.metrics import roc_auc_score\n",
    "from timeit import default_timer as timer\n",
    "\n",
    "model = lgb.LGBMClassifier()\n"
   ]
  },
  {
   "cell_type": "code",
   "execution_count": 61,
   "metadata": {},
   "outputs": [
    {
     "data": {
      "text/plain": [
       "LGBMClassifier(boosting_type='gbdt', class_weight=None, colsample_bytree=1.0,\n",
       "               importance_type='split', learning_rate=0.1, max_depth=-1,\n",
       "               min_child_samples=20, min_child_weight=0.001, min_split_gain=0.0,\n",
       "               n_estimators=100, n_jobs=-1, num_leaves=31, objective=None,\n",
       "               random_state=None, reg_alpha=0.0, reg_lambda=0.0, silent=True,\n",
       "               subsample=1.0, subsample_for_bin=200000, subsample_freq=0)"
      ]
     },
     "execution_count": 61,
     "metadata": {},
     "output_type": "execute_result"
    }
   ],
   "source": [
    "#list of \n",
    "model"
   ]
  },
  {
   "cell_type": "code",
   "execution_count": 62,
   "metadata": {},
   "outputs": [],
   "source": [
    "\n",
    "# Hyperparameter grid\n",
    "param_grid = {\n",
    "    'class_weight': [None, 'balanced'],\n",
    "    'boosting_type': ['gbdt', 'goss', 'dart'],\n",
    "    'num_leaves': list(range(30, 150)),\n",
    "    'learning_rate': list(np.logspace(np.log(0.005), np.log(0.2), base = np.exp(1), num = 1000)),\n",
    "    'subsample_for_bin': list(range(20000, 300000, 20000)),\n",
    "    'min_child_samples': list(range(20, 500, 5)),\n",
    "    'reg_alpha': list(np.linspace(0, 1)),\n",
    "    'reg_lambda': list(np.linspace(0, 1)),\n",
    "    'colsample_bytree': list(np.linspace(0.6, 1, 10))\n",
    "}\n",
    "\n",
    "# Subsampling (only applicable with 'goss')\n",
    "subsample_dist = list(np.linspace(0.5, 1, 100))"
   ]
  },
  {
   "cell_type": "code",
   "execution_count": 63,
   "metadata": {},
   "outputs": [
    {
     "data": {
      "text/plain": [
       "{'boosting_type': 'gbdt',\n",
       " 'class_weight': 'balanced',\n",
       " 'colsample_bytree': 0.7333333333333333,\n",
       " 'learning_rate': 0.01814047354852268,\n",
       " 'min_child_samples': 70,\n",
       " 'num_leaves': 104,\n",
       " 'reg_alpha': 0.4081632653061224,\n",
       " 'reg_lambda': 0.7959183673469387,\n",
       " 'subsample_for_bin': 240000}"
      ]
     },
     "execution_count": 63,
     "metadata": {},
     "output_type": "execute_result"
    }
   ],
   "source": [
    "#since we will have many spaces to sample from let's subset the hyper parameters and work with a few at a time\n",
    "import random\n",
    "\n",
    "params = {key: random.sample(value, 1)[0] for key, value in param_grid.items()}\n",
    "params"
   ]
  },
  {
   "cell_type": "code",
   "execution_count": 64,
   "metadata": {},
   "outputs": [
    {
     "data": {
      "text/plain": [
       "{'boosting_type': 'gbdt',\n",
       " 'class_weight': 'balanced',\n",
       " 'colsample_bytree': 0.7333333333333333,\n",
       " 'learning_rate': 0.01814047354852268,\n",
       " 'min_child_samples': 70,\n",
       " 'num_leaves': 104,\n",
       " 'reg_alpha': 0.4081632653061224,\n",
       " 'reg_lambda': 0.7959183673469387,\n",
       " 'subsample': 0.5151515151515151,\n",
       " 'subsample_for_bin': 240000}"
      ]
     },
     "execution_count": 64,
     "metadata": {},
     "output_type": "execute_result"
    }
   ],
   "source": [
    "params['subsample'] = random.sample(subsample_dist, 1)[0] if params['boosting_type'] != 'goss' else 1.0\n",
    "params"
   ]
  },
  {
   "cell_type": "code",
   "execution_count": 65,
   "metadata": {},
   "outputs": [],
   "source": [
    "# Create a lgb dataset\n",
    "train_set = lgb.Dataset(X_train_sample, label = y_train_sample)"
   ]
  },
  {
   "cell_type": "code",
   "execution_count": 66,
   "metadata": {},
   "outputs": [
    {
     "name": "stdout",
     "output_type": "stream",
     "text": [
      "The maximium ROC AUC on the validation set was 0.99803 with std of 0.00120.\n",
      "The ideal number of iterations was 28.\n"
     ]
    }
   ],
   "source": [
    "# Perform cross validation with 10 folds\n",
    "r = lgb.cv(params, train_set, num_boost_round = 10000, nfold = 10, metrics = 'auc', \n",
    "           early_stopping_rounds = 100, verbose_eval = False, seed = 50)\n",
    "\n",
    "# Highest score\n",
    "r_best = np.max(r['auc-mean'])\n",
    "\n",
    "# Standard deviation of best score\n",
    "r_best_std = r['auc-stdv'][np.argmax(r['auc-mean'])]\n",
    "\n",
    "print('The maximium ROC AUC on the validation set was {:.5f} with std of {:.5f}.'.format(r_best, r_best_std))\n",
    "print('The ideal number of iterations was {}.'.format(np.argmax(r['auc-mean']) + 1))"
   ]
  },
  {
   "cell_type": "code",
   "execution_count": null,
   "metadata": {},
   "outputs": [],
   "source": []
  },
  {
   "cell_type": "code",
   "execution_count": 67,
   "metadata": {},
   "outputs": [],
   "source": [
    "MAX_EVALS = 10\n",
    "N_FOLDS = 5\n",
    "\n",
    "# Dataframe to hold cv results\n",
    "random_results = pd.DataFrame(columns = ['loss', 'params', 'iteration', 'estimators', 'time'],\n",
    "                       index = list(range(MAX_EVALS)))"
   ]
  },
  {
   "cell_type": "code",
   "execution_count": null,
   "metadata": {},
   "outputs": [],
   "source": []
  },
  {
   "cell_type": "code",
   "execution_count": 68,
   "metadata": {},
   "outputs": [],
   "source": [
    "def random_objective(params, iteration, n_folds = N_FOLDS):\n",
    "    \"\"\"Random search objective function. Takes in hyperparameters\n",
    "       and returns a list of results to be saved.\"\"\"\n",
    "\n",
    "    start = timer()\n",
    "    \n",
    "    # Perform n_folds cross validation\n",
    "    cv_results = lgb.cv(params, train_set, num_boost_round = 10000, nfold = n_folds, \n",
    "                        early_stopping_rounds = 100, metrics = 'auc', seed = 50)\n",
    "    end = timer()\n",
    "    best_score = np.max(cv_results['auc-mean'])\n",
    "    \n",
    "    # Loss must be minimized\n",
    "    loss = 1 - best_score\n",
    "    \n",
    "    # Boosting rounds that returned the highest cv score\n",
    "    n_estimators = int(np.argmax(cv_results['auc-mean']) + 1)\n",
    "    \n",
    "    # Return list of results\n",
    "    return [loss, params, iteration, n_estimators, end - start]"
   ]
  },
  {
   "cell_type": "code",
   "execution_count": null,
   "metadata": {},
   "outputs": [],
   "source": []
  },
  {
   "cell_type": "code",
   "execution_count": 69,
   "metadata": {},
   "outputs": [],
   "source": [
    "%%capture\n",
    "\n",
    "random.seed(50)\n",
    "\n",
    "# Iterate through the specified number of evaluations\n",
    "for i in range(MAX_EVALS):\n",
    "    \n",
    "    # Randomly sample parameters for gbm\n",
    "    params = {key: random.sample(value, 1)[0] for key, value in param_grid.items()}\n",
    "    \n",
    "    print(params)\n",
    "    \n",
    "    if params['boosting_type'] == 'goss':\n",
    "        # Cannot subsample with goss\n",
    "        params['subsample'] = 1.0\n",
    "    else:\n",
    "        # Subsample supported for gdbt and dart\n",
    "        params['subsample'] = random.sample(subsample_dist, 1)[0]\n",
    "        \n",
    "        \n",
    "    results_list = random_objective(params, i)\n",
    "    \n",
    "    # Add results to next row in dataframe\n",
    "    random_results.loc[i, :] = results_list"
   ]
  },
  {
   "cell_type": "code",
   "execution_count": null,
   "metadata": {},
   "outputs": [],
   "source": []
  },
  {
   "cell_type": "code",
   "execution_count": 70,
   "metadata": {},
   "outputs": [
    {
     "data": {
      "text/html": [
       "<div>\n",
       "<style scoped>\n",
       "    .dataframe tbody tr th:only-of-type {\n",
       "        vertical-align: middle;\n",
       "    }\n",
       "\n",
       "    .dataframe tbody tr th {\n",
       "        vertical-align: top;\n",
       "    }\n",
       "\n",
       "    .dataframe thead th {\n",
       "        text-align: right;\n",
       "    }\n",
       "</style>\n",
       "<table border=\"1\" class=\"dataframe\">\n",
       "  <thead>\n",
       "    <tr style=\"text-align: right;\">\n",
       "      <th></th>\n",
       "      <th>loss</th>\n",
       "      <th>params</th>\n",
       "      <th>iteration</th>\n",
       "      <th>estimators</th>\n",
       "      <th>time</th>\n",
       "    </tr>\n",
       "  </thead>\n",
       "  <tbody>\n",
       "    <tr>\n",
       "      <th>0</th>\n",
       "      <td>0.00127925</td>\n",
       "      <td>{'reg_lambda': 0.3469387755102041, 'subsample_...</td>\n",
       "      <td>5</td>\n",
       "      <td>465</td>\n",
       "      <td>713.923</td>\n",
       "    </tr>\n",
       "    <tr>\n",
       "      <th>1</th>\n",
       "      <td>0.00135814</td>\n",
       "      <td>{'reg_lambda': 0.8163265306122448, 'subsample_...</td>\n",
       "      <td>6</td>\n",
       "      <td>1573</td>\n",
       "      <td>711.426</td>\n",
       "    </tr>\n",
       "    <tr>\n",
       "      <th>2</th>\n",
       "      <td>0.0013786</td>\n",
       "      <td>{'reg_lambda': 0.3469387755102041, 'subsample_...</td>\n",
       "      <td>0</td>\n",
       "      <td>4894</td>\n",
       "      <td>637.141</td>\n",
       "    </tr>\n",
       "    <tr>\n",
       "      <th>3</th>\n",
       "      <td>0.00144347</td>\n",
       "      <td>{'reg_lambda': 0.8979591836734693, 'subsample_...</td>\n",
       "      <td>4</td>\n",
       "      <td>2880</td>\n",
       "      <td>655.919</td>\n",
       "    </tr>\n",
       "    <tr>\n",
       "      <th>4</th>\n",
       "      <td>0.00150414</td>\n",
       "      <td>{'reg_lambda': 0.6938775510204082, 'subsample_...</td>\n",
       "      <td>9</td>\n",
       "      <td>314</td>\n",
       "      <td>6.60128</td>\n",
       "    </tr>\n",
       "  </tbody>\n",
       "</table>\n",
       "</div>"
      ],
      "text/plain": [
       "         loss                                             params iteration  \\\n",
       "0  0.00127925  {'reg_lambda': 0.3469387755102041, 'subsample_...         5   \n",
       "1  0.00135814  {'reg_lambda': 0.8163265306122448, 'subsample_...         6   \n",
       "2   0.0013786  {'reg_lambda': 0.3469387755102041, 'subsample_...         0   \n",
       "3  0.00144347  {'reg_lambda': 0.8979591836734693, 'subsample_...         4   \n",
       "4  0.00150414  {'reg_lambda': 0.6938775510204082, 'subsample_...         9   \n",
       "\n",
       "  estimators     time  \n",
       "0        465  713.923  \n",
       "1       1573  711.426  \n",
       "2       4894  637.141  \n",
       "3       2880  655.919  \n",
       "4        314  6.60128  "
      ]
     },
     "execution_count": 70,
     "metadata": {},
     "output_type": "execute_result"
    }
   ],
   "source": [
    "# Sort results by best validation score\n",
    "random_results.sort_values('loss', ascending = True, inplace = True)\n",
    "random_results.reset_index(inplace = True, drop = True)\n",
    "random_results.head()"
   ]
  },
  {
   "cell_type": "code",
   "execution_count": 79,
   "metadata": {},
   "outputs": [
    {
     "data": {
      "text/plain": [
       "{'boosting_type': 'dart',\n",
       " 'class_weight': None,\n",
       " 'colsample_bytree': 0.7333333333333333,\n",
       " 'learning_rate': 0.14451322534564692,\n",
       " 'min_child_samples': 280,\n",
       " 'num_leaves': 117,\n",
       " 'reg_alpha': 0.16326530612244897,\n",
       " 'reg_lambda': 0.3469387755102041,\n",
       " 'subsample': 0.9494949494949496,\n",
       " 'subsample_for_bin': 200000}"
      ]
     },
     "execution_count": 79,
     "metadata": {},
     "output_type": "execute_result"
    }
   ],
   "source": [
    "random_results.loc[0, 'params']"
   ]
  },
  {
   "cell_type": "code",
   "execution_count": null,
   "metadata": {},
   "outputs": [],
   "source": []
  },
  {
   "cell_type": "code",
   "execution_count": null,
   "metadata": {},
   "outputs": [],
   "source": []
  },
  {
   "cell_type": "code",
   "execution_count": null,
   "metadata": {},
   "outputs": [],
   "source": []
  },
  {
   "cell_type": "code",
   "execution_count": null,
   "metadata": {},
   "outputs": [],
   "source": []
  },
  {
   "cell_type": "markdown",
   "metadata": {},
   "source": [
    "Random and grid search are uninformed methods that do not use the past history, but we still need the history so we can find out which hyperparameters worked the best!\n",
    "\n",
    "A dataframe is a useful data structure to hold the results."
   ]
  },
  {
   "cell_type": "code",
   "execution_count": 52,
   "metadata": {},
   "outputs": [],
   "source": [
    "MAX_EVALS = 100\n",
    "N_FOLDS = 5\n",
    "\n",
    "# Dataframes for random and grid search\n",
    "random_results = pd.DataFrame(columns = ['score', 'params', 'iteration'],\n",
    "                              index = list(range(MAX_EVALS)))\n",
    "\n",
    "grid_results = pd.DataFrame(columns = ['score', 'params', 'iteration'],\n",
    "                              index = list(range(MAX_EVALS)))"
   ]
  },
  {
   "cell_type": "code",
   "execution_count": 79,
   "metadata": {},
   "outputs": [],
   "source": [
    "import itertools\n",
    "\n",
    "def grid_search(param_grid, max_evals = MAX_EVALS):\n",
    "    \"\"\"Grid search algorithm (with limit on max evals)\"\"\"\n",
    "    \n",
    "    # Dataframe to store results\n",
    "    results = pd.DataFrame(columns = ['score', 'params', 'iteration'],\n",
    "                              index = list(range(MAX_EVALS)))\n",
    "    \n",
    "    # https://codereview.stackexchange.com/questions/171173/list-all-possible-permutations-from-a-python-dictionary-of-lists\n",
    "    keys, values = zip(*param_grid.items())\n",
    "    \n",
    "    i = 0\n",
    "    \n",
    "    # Iterate through every possible combination of hyperparameters\n",
    "    for v in itertools.product(*values):\n",
    "        \n",
    "        # Create a hyperparameter dictionary\n",
    "        hyperparameters = dict(zip(keys, v))\n",
    "        \n",
    "        # Evalute the hyperparameters\n",
    "        eval_results = objective(hyperparameters, i)\n",
    "        \n",
    "        results.loc[i, :] = eval_results\n",
    "        \n",
    "        i += 1\n",
    "        \n",
    "        # Normally would not limit iterations\n",
    "        if i > MAX_EVALS:\n",
    "            break\n",
    "       \n",
    "    # Sort with best score on top\n",
    "    results.sort_values('score', ascending = False, inplace = True)\n",
    "    results.reset_index(inplace = True)\n",
    "    \n",
    "    return results    "
   ]
  },
  {
   "cell_type": "code",
   "execution_count": 100,
   "metadata": {},
   "outputs": [],
   "source": [
    "def objective(hyperparameters, iteration):\n",
    "    \"\"\"Objective function for grid and random search. Returns\n",
    "       the cross validation score from a set of hyperparameters.\"\"\"\n",
    "    \n",
    "    \n",
    "    # Number of estimators will be found using early stopping\n",
    "    if 'n_estimators' in hyperparameters.keys():\n",
    "        del hyperparameters['n_estimators']\n",
    "    \n",
    "     # Perform n_folds cross validation\n",
    "    cv_results = cross_val_score(rm_clf, X_train,y_train, cv=5)\n",
    "    \n",
    "    # results to retun\n",
    "    score = [cv_results]\n",
    "    estimators = len(cv_results)\n",
    "    hyperparameters['n_estimators'] = estimators \n",
    "    \n",
    "    return [score, hyperparameters, iteration]"
   ]
  },
  {
   "cell_type": "code",
   "execution_count": 101,
   "metadata": {},
   "outputs": [
    {
     "ename": "ValueError",
     "evalue": "The truth value of an array with more than one element is ambiguous. Use a.any() or a.all()",
     "output_type": "error",
     "traceback": [
      "\u001b[0;31m---------------------------------------------------------------------------\u001b[0m",
      "\u001b[0;31mValueError\u001b[0m                                Traceback (most recent call last)",
      "\u001b[0;32m<ipython-input-101-0858923369cd>\u001b[0m in \u001b[0;36m<module>\u001b[0;34m\u001b[0m\n\u001b[1;32m      3\u001b[0m \u001b[0;34m\u001b[0m\u001b[0m\n\u001b[1;32m      4\u001b[0m \u001b[0;34m\u001b[0m\u001b[0m\n\u001b[0;32m----> 5\u001b[0;31m \u001b[0mgrid_results\u001b[0m \u001b[0;34m=\u001b[0m \u001b[0mgrid_search\u001b[0m\u001b[0;34m(\u001b[0m\u001b[0mparam_grid\u001b[0m\u001b[0;34m)\u001b[0m\u001b[0;34m\u001b[0m\u001b[0m\n\u001b[0m\u001b[1;32m      6\u001b[0m \u001b[0;34m\u001b[0m\u001b[0m\n\u001b[1;32m      7\u001b[0m \u001b[0mprint\u001b[0m\u001b[0;34m(\u001b[0m\u001b[0;34m'The best validation score was {:.5f}'\u001b[0m\u001b[0;34m.\u001b[0m\u001b[0mformat\u001b[0m\u001b[0;34m(\u001b[0m\u001b[0mgrid_results\u001b[0m\u001b[0;34m.\u001b[0m\u001b[0mloc\u001b[0m\u001b[0;34m[\u001b[0m\u001b[0;36m0\u001b[0m\u001b[0;34m,\u001b[0m \u001b[0;34m'score'\u001b[0m\u001b[0;34m]\u001b[0m\u001b[0;34m)\u001b[0m\u001b[0;34m)\u001b[0m\u001b[0;34m\u001b[0m\u001b[0m\n",
      "\u001b[0;32m<ipython-input-79-79ddd004e55f>\u001b[0m in \u001b[0;36mgrid_search\u001b[0;34m(param_grid, max_evals)\u001b[0m\n\u001b[1;32m     31\u001b[0m \u001b[0;34m\u001b[0m\u001b[0m\n\u001b[1;32m     32\u001b[0m     \u001b[0;31m# Sort with best score on top\u001b[0m\u001b[0;34m\u001b[0m\u001b[0;34m\u001b[0m\u001b[0m\n\u001b[0;32m---> 33\u001b[0;31m     \u001b[0mresults\u001b[0m\u001b[0;34m.\u001b[0m\u001b[0msort_values\u001b[0m\u001b[0;34m(\u001b[0m\u001b[0;34m'score'\u001b[0m\u001b[0;34m,\u001b[0m \u001b[0mascending\u001b[0m \u001b[0;34m=\u001b[0m \u001b[0;32mFalse\u001b[0m\u001b[0;34m,\u001b[0m \u001b[0minplace\u001b[0m \u001b[0;34m=\u001b[0m \u001b[0;32mTrue\u001b[0m\u001b[0;34m)\u001b[0m\u001b[0;34m\u001b[0m\u001b[0m\n\u001b[0m\u001b[1;32m     34\u001b[0m     \u001b[0mresults\u001b[0m\u001b[0;34m.\u001b[0m\u001b[0mreset_index\u001b[0m\u001b[0;34m(\u001b[0m\u001b[0minplace\u001b[0m \u001b[0;34m=\u001b[0m \u001b[0;32mTrue\u001b[0m\u001b[0;34m)\u001b[0m\u001b[0;34m\u001b[0m\u001b[0m\n\u001b[1;32m     35\u001b[0m \u001b[0;34m\u001b[0m\u001b[0m\n",
      "\u001b[0;32m/usr/local/lib/python3.5/dist-packages/pandas/core/frame.py\u001b[0m in \u001b[0;36msort_values\u001b[0;34m(self, by, axis, ascending, inplace, kind, na_position)\u001b[0m\n\u001b[1;32m   4992\u001b[0m \u001b[0;34m\u001b[0m\u001b[0m\n\u001b[1;32m   4993\u001b[0m             indexer = nargsort(\n\u001b[0;32m-> 4994\u001b[0;31m                 \u001b[0mk\u001b[0m\u001b[0;34m,\u001b[0m \u001b[0mkind\u001b[0m\u001b[0;34m=\u001b[0m\u001b[0mkind\u001b[0m\u001b[0;34m,\u001b[0m \u001b[0mascending\u001b[0m\u001b[0;34m=\u001b[0m\u001b[0mascending\u001b[0m\u001b[0;34m,\u001b[0m \u001b[0mna_position\u001b[0m\u001b[0;34m=\u001b[0m\u001b[0mna_position\u001b[0m\u001b[0;34m\u001b[0m\u001b[0m\n\u001b[0m\u001b[1;32m   4995\u001b[0m             )\n\u001b[1;32m   4996\u001b[0m \u001b[0;34m\u001b[0m\u001b[0m\n",
      "\u001b[0;32m/usr/local/lib/python3.5/dist-packages/pandas/core/sorting.py\u001b[0m in \u001b[0;36mnargsort\u001b[0;34m(items, kind, ascending, na_position)\u001b[0m\n\u001b[1;32m    258\u001b[0m         \u001b[0mnon_nans\u001b[0m \u001b[0;34m=\u001b[0m \u001b[0mnon_nans\u001b[0m\u001b[0;34m[\u001b[0m\u001b[0;34m:\u001b[0m\u001b[0;34m:\u001b[0m\u001b[0;34m-\u001b[0m\u001b[0;36m1\u001b[0m\u001b[0;34m]\u001b[0m\u001b[0;34m\u001b[0m\u001b[0m\n\u001b[1;32m    259\u001b[0m         \u001b[0mnon_nan_idx\u001b[0m \u001b[0;34m=\u001b[0m \u001b[0mnon_nan_idx\u001b[0m\u001b[0;34m[\u001b[0m\u001b[0;34m:\u001b[0m\u001b[0;34m:\u001b[0m\u001b[0;34m-\u001b[0m\u001b[0;36m1\u001b[0m\u001b[0;34m]\u001b[0m\u001b[0;34m\u001b[0m\u001b[0m\n\u001b[0;32m--> 260\u001b[0;31m     \u001b[0mindexer\u001b[0m \u001b[0;34m=\u001b[0m \u001b[0mnon_nan_idx\u001b[0m\u001b[0;34m[\u001b[0m\u001b[0mnon_nans\u001b[0m\u001b[0;34m.\u001b[0m\u001b[0margsort\u001b[0m\u001b[0;34m(\u001b[0m\u001b[0mkind\u001b[0m\u001b[0;34m=\u001b[0m\u001b[0mkind\u001b[0m\u001b[0;34m)\u001b[0m\u001b[0;34m]\u001b[0m\u001b[0;34m\u001b[0m\u001b[0m\n\u001b[0m\u001b[1;32m    261\u001b[0m     \u001b[0;32mif\u001b[0m \u001b[0;32mnot\u001b[0m \u001b[0mascending\u001b[0m\u001b[0;34m:\u001b[0m\u001b[0;34m\u001b[0m\u001b[0m\n\u001b[1;32m    262\u001b[0m         \u001b[0mindexer\u001b[0m \u001b[0;34m=\u001b[0m \u001b[0mindexer\u001b[0m\u001b[0;34m[\u001b[0m\u001b[0;34m:\u001b[0m\u001b[0;34m:\u001b[0m\u001b[0;34m-\u001b[0m\u001b[0;36m1\u001b[0m\u001b[0;34m]\u001b[0m\u001b[0;34m\u001b[0m\u001b[0m\n",
      "\u001b[0;31mValueError\u001b[0m: The truth value of an array with more than one element is ambiguous. Use a.any() or a.all()"
     ]
    }
   ],
   "source": [
    "from sklearn.model_selection import GridSearchCV\n",
    "\n",
    "\n",
    "\n",
    "grid_results = grid_search(param_grid)\n",
    "\n",
    "print('The best validation score was {:.5f}'.format(grid_results.loc[0, 'score']))\n",
    "print('\\nThe best hyperparameters were:')\n",
    "\n",
    "import pprint\n",
    "pprint.pprint(grid_results.loc[0, 'params'])"
   ]
  },
  {
   "cell_type": "code",
   "execution_count": null,
   "metadata": {},
   "outputs": [],
   "source": []
  },
  {
   "cell_type": "code",
   "execution_count": null,
   "metadata": {},
   "outputs": [],
   "source": []
  },
  {
   "cell_type": "markdown",
   "metadata": {},
   "source": [
    "## To here **Research\n",
    "I want to rewrite the functions above by example so that I can implement cross validation well on the classifiers I want to use."
   ]
  },
  {
   "cell_type": "code",
   "execution_count": null,
   "metadata": {},
   "outputs": [],
   "source": []
  },
  {
   "cell_type": "code",
   "execution_count": null,
   "metadata": {},
   "outputs": [],
   "source": []
  },
  {
   "cell_type": "code",
   "execution_count": 74,
   "metadata": {},
   "outputs": [
    {
     "data": {
      "text/plain": [
       "'\"from sklearn.model_selection import GridSearchCV , RandomSearchCV\\nrm_clf = RandomForestClassifier()\\n\\n\\n# Define parameter grid \\nparams = {\\n    #\\'C\\' : [1,5,9,10,11,15,18,20,25,28,30,35,36,40,47,48,55,60,63,65,70,75,80,81,84,85,90,95,100],\\n    #\\'kernel\\':[\\'linear\\', \\'poly\\', \\'rbf\\', \\'sigmoid\\', \\'precomputed\\'],\\n    #\\'degree\\' : [2,3,4,5,6,7,8,9,10,11,12,13,14,15,16,17,18,19,20],\\n    #\\'gamma\\' : [\\'rbf\\', \\'poly\\' ,\\'sigmoid\\',\\'auto\\'],\\n    #\\'probability\\' : [False,True]\\n    \\n   \\'n_estimators\\':list(range(300, 800)),\\n    #\\'max_depth\\' : [25, 30,35,40,45,50,60,100],\\n    #\\'min_samples_split\\' : [2, 3, 4, 5, 6, 7,8, 10],\\n    #\\'criterion\\':[\\'entropy\\'],\\n    #\\'max_features\\':[\\'auto\\'],\\n    #\\'min_samples_leaf\\': list(range(9,16)),\\n    #\\'bootstrap\\':[True],\\n    #\\'oob_score\\':[True]\\n}\\n\\n\\n# Initialize GridSearchCV\\ngrid = RandomSearchCV(estimator = rm_clf, \\n                    param_grid = params, \\n                    cv = 3,\\n                    scoring = \"f1\",\\n                    verbose = 2,\\n                    n_iter=4,\\n                    n_jobs = -1)\\n\\n# Fit GridSearchCV\\n%time\\ngrid.fit(X_train, y_train)\\n\\n\\ny_pred = grid.predict(X_test)\\n\\nfalse_positive_rate, true_positive_rate, thresholds = roc_curve(y_test, y_pred)\\nroc_auc = auc(false_positive_rate, true_positive_rate)\\n\\n\\n# Print results\\nprint(\"The ROC of the tuned classifier is\",roc_auc)\\n\\n\\nprint(grid.best_params_)'"
      ]
     },
     "execution_count": 74,
     "metadata": {},
     "output_type": "execute_result"
    }
   ],
   "source": [
    "\"\"\"\"from sklearn.model_selection import GridSearchCV , RandomSearchCV\n",
    "rm_clf = RandomForestClassifier()\n",
    "\n",
    "\n",
    "# Define parameter grid \n",
    "params = {\n",
    "    #'C' : [1,5,9,10,11,15,18,20,25,28,30,35,36,40,47,48,55,60,63,65,70,75,80,81,84,85,90,95,100],\n",
    "    #'kernel':['linear', 'poly', 'rbf', 'sigmoid', 'precomputed'],\n",
    "    #'degree' : [2,3,4,5,6,7,8,9,10,11,12,13,14,15,16,17,18,19,20],\n",
    "    #'gamma' : ['rbf', 'poly' ,'sigmoid','auto'],\n",
    "    #'probability' : [False,True]\n",
    "    \n",
    "   'n_estimators':list(range(300, 800)),\n",
    "    #'max_depth' : [25, 30,35,40,45,50,60,100],\n",
    "    #'min_samples_split' : [2, 3, 4, 5, 6, 7,8, 10],\n",
    "    #'criterion':['entropy'],\n",
    "    #'max_features':['auto'],\n",
    "    #'min_samples_leaf': list(range(9,16)),\n",
    "    #'bootstrap':[True],\n",
    "    #'oob_score':[True]\n",
    "}\n",
    "\n",
    "\n",
    "# Initialize GridSearchCV\n",
    "grid = RandomSearchCV(estimator = rm_clf, \n",
    "                    param_grid = params, \n",
    "                    cv = 3,\n",
    "                    scoring = \"f1\",\n",
    "                    verbose = 2,\n",
    "                    n_iter=4,\n",
    "                    n_jobs = -1)\n",
    "\n",
    "# Fit GridSearchCV\n",
    "%time\n",
    "grid.fit(X_train, y_train)\n",
    "\n",
    "\n",
    "y_pred = grid.predict(X_test)\n",
    "\n",
    "false_positive_rate, true_positive_rate, thresholds = roc_curve(y_test, y_pred)\n",
    "roc_auc = auc(false_positive_rate, true_positive_rate)\n",
    "\n",
    "\n",
    "# Print results\n",
    "print(\"The ROC of the tuned classifier is\",roc_auc)\n",
    "\n",
    "\n",
    "print(grid.best_params_)\"\"\""
   ]
  },
  {
   "cell_type": "code",
   "execution_count": null,
   "metadata": {},
   "outputs": [],
   "source": []
  },
  {
   "cell_type": "code",
   "execution_count": null,
   "metadata": {},
   "outputs": [],
   "source": []
  },
  {
   "cell_type": "code",
   "execution_count": 73,
   "metadata": {},
   "outputs": [
    {
     "name": "stdout",
     "output_type": "stream",
     "text": [
      "['roc_auc-->', 0.809259119211475, 'F1_score-->', 0.6190476190476191, 'roc_auc_score-->', 0.809259119211475]\n",
      "\n",
      "\n",
      "Model Performance on out of sample data\n",
      "['Valid_data_F1_score-->', 0.0]\n",
      "\n",
      "\n",
      "Model Performance on train data\n",
      "['Train_data_F1_score-->', 1.0]\n",
      "\n",
      "\n",
      "--------------------\n",
      "Scores on the Validation Data according to the Confusion_matrix\n",
      "Error rate  :  0.00355\n",
      "Accuracy  :  0.99645\n",
      "Precision  :  0.0\n",
      "Recall  :  0.0\n",
      "Specificity  :  0.0\n",
      "False positive rate  :  0.0002508277315139962\n",
      "True positive rate  :  0.0\n",
      "--------------------\n",
      "\n",
      "\n",
      "Drawing the Confusion Matrix on Out_of_sample_data\n"
     ]
    },
    {
     "data": {
      "image/png": "[encoded data removed]",
      "text/plain": [
       "<Figure size 504x504 with 2 Axes>"
      ]
     },
     "metadata": {
      "needs_background": "light"
     },
     "output_type": "display_data"
    }
   ],
   "source": [
    "latest = RandomForestClassifier(n_estimators= 1000)#, min_samples_leaf= 9, min_samples_split=2, max_depth=25, max_features='auto', criterion= 'entropy',bootstrap=True,oob_score =True)\n",
    "latest.fit(X_train, y_train)\n",
    "pred_latest = latest.predict(X_test)\n",
    "print_score(pred_latest,latest)"
   ]
  },
  {
   "cell_type": "code",
   "execution_count": 53,
   "metadata": {},
   "outputs": [
    {
     "data": {
      "image/png": "[encoded data removed]",
      "text/plain": [
       "<Figure size 504x504 with 1 Axes>"
      ]
     },
     "metadata": {
      "needs_background": "light"
     },
     "output_type": "display_data"
    }
   ],
   "source": [
    "#let's see the feature importances\n",
    "plt.figure(figsize=(7,7))\n",
    "feat_importances = pd.Series(latest.feature_importances_, index=train.columns)\n",
    "feat_importances.nlargest(15).plot(kind='barh')\n",
    "plt.show()"
   ]
  },
  {
   "cell_type": "code",
   "execution_count": 54,
   "metadata": {},
   "outputs": [
    {
     "data": {
      "text/plain": [
       "Value                0.231963\n",
       "ProviderId_1         0.092479\n",
       "ProviderId_3         0.084861\n",
       "AccountId_2          0.046184\n",
       "ProductId_3          0.045509\n",
       "ProductId_4          0.042175\n",
       "ProductId_1          0.038053\n",
       "ProductCategory_3    0.037571\n",
       "ProductId_5          0.033220\n",
       "SubscriptionId_6     0.024726\n",
       "AccountId_7          0.024056\n",
       "AccountId_4          0.018465\n",
       "CustomerId_10        0.018218\n",
       "PricingStrategy      0.015821\n",
       "ChannelId_2          0.013839\n",
       "dtype: float64"
      ]
     },
     "execution_count": 54,
     "metadata": {},
     "output_type": "execute_result"
    }
   ],
   "source": [
    "feat_importances.nlargest(15)"
   ]
  },
  {
   "cell_type": "markdown",
   "metadata": {},
   "source": [
    "We are going to modify the X_train set and X_test test to make sure we get out only the useful features and work with those.\n",
    "\n",
    "### Important Features\n",
    "\n",
    "Let's use the most important features in the model and see if our scores increase\n",
    "\n",
    "This [Link](https://chrisalbon.com/machine_learning/trees_and_forests/feature_selection_using_random_forest/) is very important to read for this part it helps you see how to do the feature selection\n",
    "\n",
    "- [Another Article](https://towardsdatascience.com/feature-selection-using-random-forest-26d7b747597f)"
   ]
  },
  {
   "cell_type": "code",
   "execution_count": 55,
   "metadata": {},
   "outputs": [],
   "source": [
    "#let's use the most important features\n",
    "from sklearn.feature_selection import SelectFromModel\n",
    "\n",
    "#identify the features that have importance more than\n",
    "sfm = SelectFromModel(latest)\n"
   ]
  },
  {
   "cell_type": "code",
   "execution_count": 56,
   "metadata": {},
   "outputs": [
    {
     "data": {
      "text/plain": [
       "SelectFromModel(estimator=RandomForestClassifier(bootstrap=True,\n",
       "                                                 class_weight=None,\n",
       "                                                 criterion='entropy',\n",
       "                                                 max_depth=25,\n",
       "                                                 max_features='auto',\n",
       "                                                 max_leaf_nodes=None,\n",
       "                                                 min_impurity_decrease=0.0,\n",
       "                                                 min_impurity_split=None,\n",
       "                                                 min_samples_leaf=9,\n",
       "                                                 min_samples_split=2,\n",
       "                                                 min_weight_fraction_leaf=0.0,\n",
       "                                                 n_estimators=300, n_jobs=None,\n",
       "                                                 oob_score=True,\n",
       "                                                 random_state=None, verbose=0,\n",
       "                                                 warm_start=False),\n",
       "                max_features=None, norm_order=1, prefit=False, threshold=None)"
      ]
     },
     "execution_count": 56,
     "metadata": {},
     "output_type": "execute_result"
    }
   ],
   "source": [
    "# Train the selector\n",
    "sfm.fit(X_train, y_train)\n"
   ]
  },
  {
   "cell_type": "code",
   "execution_count": 57,
   "metadata": {},
   "outputs": [
    {
     "data": {
      "text/plain": [
       "0.011111111111111112"
      ]
     },
     "execution_count": 57,
     "metadata": {},
     "output_type": "execute_result"
    }
   ],
   "source": [
    "#we find the threshold to use when choosing out features\n",
    "sfm.threshold_"
   ]
  },
  {
   "cell_type": "code",
   "execution_count": 58,
   "metadata": {},
   "outputs": [
    {
     "data": {
      "text/plain": [
       "array([[1.     , 0.     , 0.     , ..., 0.     , 0.     , 0.     ],\n",
       "       [0.     , 0.     , 1.     , ..., 1.     , 0.00023, 1.     ],\n",
       "       [1.     , 0.     , 0.     , ..., 0.     , 0.     , 0.5    ],\n",
       "       ...,\n",
       "       [0.     , 1.     , 1.     , ..., 1.     , 0.05814, 0.39237],\n",
       "       [0.     , 1.     , 1.     , ..., 1.     , 0.05814, 0.24197],\n",
       "       [0.46698, 0.53302, 0.46698, ..., 1.     , 0.05814, 0.5    ]])"
      ]
     },
     "execution_count": 58,
     "metadata": {},
     "output_type": "execute_result"
    }
   ],
   "source": [
    "#get the features in the data that fit this threshold\n",
    "xfm = SelectFromModel(latest,threshold = 0.011)\n",
    "\n",
    "xfm.fit_transform(X_train, y_train)"
   ]
  },
  {
   "cell_type": "code",
   "execution_count": 59,
   "metadata": {},
   "outputs": [
    {
     "name": "stdout",
     "output_type": "stream",
     "text": [
      "AccountId_2\n",
      "AccountId_4\n",
      "AccountId_7\n",
      "SubscriptionId_6\n",
      "CustomerId_2\n",
      "CustomerId_10\n",
      "ProviderId_1\n",
      "ProviderId_3\n",
      "ProductId_1\n",
      "ProductId_3\n",
      "ProductId_4\n",
      "ProductId_5\n",
      "ProductCategory_3\n",
      "Value\n",
      "PricingStrategy\n"
     ]
    }
   ],
   "source": [
    "#print the features with the most importance\n",
    "feat_labels = [col for col in train.columns]\n",
    "\n",
    "for feature_list_index in sfm.get_support(indices=True):\n",
    "    print(feat_labels[feature_list_index])"
   ]
  },
  {
   "cell_type": "code",
   "execution_count": 60,
   "metadata": {},
   "outputs": [
    {
     "data": {
      "text/plain": [
       "((120846, 16), (15133, 16))"
      ]
     },
     "execution_count": 60,
     "metadata": {},
     "output_type": "execute_result"
    }
   ],
   "source": [
    "#let's put the most important fetures into a new data set\n",
    "X_imp_train = xfm.transform(X_train)\n",
    "X_imp_test = xfm.transform(X_test)\n",
    "\n",
    "X_imp_train.shape, X_imp_test.shape"
   ]
  },
  {
   "cell_type": "code",
   "execution_count": 61,
   "metadata": {},
   "outputs": [
    {
     "data": {
      "text/html": [
       "<div>\n",
       "<style scoped>\n",
       "    .dataframe tbody tr th:only-of-type {\n",
       "        vertical-align: middle;\n",
       "    }\n",
       "\n",
       "    .dataframe tbody tr th {\n",
       "        vertical-align: top;\n",
       "    }\n",
       "\n",
       "    .dataframe thead th {\n",
       "        text-align: right;\n",
       "    }\n",
       "</style>\n",
       "<table border=\"1\" class=\"dataframe\">\n",
       "  <thead>\n",
       "    <tr style=\"text-align: right;\">\n",
       "      <th></th>\n",
       "      <th>0</th>\n",
       "      <th>1</th>\n",
       "      <th>2</th>\n",
       "      <th>3</th>\n",
       "      <th>4</th>\n",
       "      <th>5</th>\n",
       "      <th>6</th>\n",
       "      <th>7</th>\n",
       "      <th>8</th>\n",
       "      <th>9</th>\n",
       "      <th>10</th>\n",
       "      <th>11</th>\n",
       "      <th>12</th>\n",
       "      <th>13</th>\n",
       "      <th>14</th>\n",
       "      <th>15</th>\n",
       "    </tr>\n",
       "  </thead>\n",
       "  <tbody>\n",
       "    <tr>\n",
       "      <th>0</th>\n",
       "      <td>1.0</td>\n",
       "      <td>0.0</td>\n",
       "      <td>0.0</td>\n",
       "      <td>0.0</td>\n",
       "      <td>0.0</td>\n",
       "      <td>1.0</td>\n",
       "      <td>1.0</td>\n",
       "      <td>0.0</td>\n",
       "      <td>1.0</td>\n",
       "      <td>1.0</td>\n",
       "      <td>0.0</td>\n",
       "      <td>0.0</td>\n",
       "      <td>1.0</td>\n",
       "      <td>0.0</td>\n",
       "      <td>0.000002</td>\n",
       "      <td>0.0</td>\n",
       "    </tr>\n",
       "    <tr>\n",
       "      <th>1</th>\n",
       "      <td>0.0</td>\n",
       "      <td>0.0</td>\n",
       "      <td>1.0</td>\n",
       "      <td>0.0</td>\n",
       "      <td>0.0</td>\n",
       "      <td>0.0</td>\n",
       "      <td>1.0</td>\n",
       "      <td>1.0</td>\n",
       "      <td>1.0</td>\n",
       "      <td>0.0</td>\n",
       "      <td>0.0</td>\n",
       "      <td>1.0</td>\n",
       "      <td>0.0</td>\n",
       "      <td>1.0</td>\n",
       "      <td>0.000232</td>\n",
       "      <td>1.0</td>\n",
       "    </tr>\n",
       "    <tr>\n",
       "      <th>2</th>\n",
       "      <td>1.0</td>\n",
       "      <td>0.0</td>\n",
       "      <td>0.0</td>\n",
       "      <td>0.0</td>\n",
       "      <td>1.0</td>\n",
       "      <td>0.0</td>\n",
       "      <td>1.0</td>\n",
       "      <td>0.0</td>\n",
       "      <td>1.0</td>\n",
       "      <td>1.0</td>\n",
       "      <td>0.0</td>\n",
       "      <td>0.0</td>\n",
       "      <td>1.0</td>\n",
       "      <td>0.0</td>\n",
       "      <td>0.000004</td>\n",
       "      <td>0.5</td>\n",
       "    </tr>\n",
       "    <tr>\n",
       "      <th>3</th>\n",
       "      <td>1.0</td>\n",
       "      <td>0.0</td>\n",
       "      <td>1.0</td>\n",
       "      <td>0.0</td>\n",
       "      <td>1.0</td>\n",
       "      <td>1.0</td>\n",
       "      <td>1.0</td>\n",
       "      <td>0.0</td>\n",
       "      <td>1.0</td>\n",
       "      <td>0.0</td>\n",
       "      <td>0.0</td>\n",
       "      <td>1.0</td>\n",
       "      <td>0.0</td>\n",
       "      <td>1.0</td>\n",
       "      <td>0.000116</td>\n",
       "      <td>0.5</td>\n",
       "    </tr>\n",
       "  </tbody>\n",
       "</table>\n",
       "</div>"
      ],
      "text/plain": [
       "     0    1    2    3    4    5    6    7    8    9   10   11   12   13  \\\n",
       "0  1.0  0.0  0.0  0.0  0.0  1.0  1.0  0.0  1.0  1.0  0.0  0.0  1.0  0.0   \n",
       "1  0.0  0.0  1.0  0.0  0.0  0.0  1.0  1.0  1.0  0.0  0.0  1.0  0.0  1.0   \n",
       "2  1.0  0.0  0.0  0.0  1.0  0.0  1.0  0.0  1.0  1.0  0.0  0.0  1.0  0.0   \n",
       "3  1.0  0.0  1.0  0.0  1.0  1.0  1.0  0.0  1.0  0.0  0.0  1.0  0.0  1.0   \n",
       "\n",
       "         14   15  \n",
       "0  0.000002  0.0  \n",
       "1  0.000232  1.0  \n",
       "2  0.000004  0.5  \n",
       "3  0.000116  0.5  "
      ]
     },
     "execution_count": 61,
     "metadata": {},
     "output_type": "execute_result"
    }
   ],
   "source": [
    "pd.DataFrame(X_imp_train).head(4)"
   ]
  },
  {
   "cell_type": "code",
   "execution_count": null,
   "metadata": {},
   "outputs": [],
   "source": []
  },
  {
   "cell_type": "code",
   "execution_count": 62,
   "metadata": {},
   "outputs": [
    {
     "data": {
      "text/plain": [
       "RandomForestClassifier(bootstrap=True, class_weight=None, criterion='gini',\n",
       "                       max_depth=None, max_features='auto', max_leaf_nodes=None,\n",
       "                       min_impurity_decrease=0.0, min_impurity_split=None,\n",
       "                       min_samples_leaf=1, min_samples_split=2,\n",
       "                       min_weight_fraction_leaf=0.0, n_estimators=1000,\n",
       "                       n_jobs=-1, oob_score=False, random_state=None, verbose=0,\n",
       "                       warm_start=False)"
      ]
     },
     "execution_count": 62,
     "metadata": {},
     "output_type": "execute_result"
    }
   ],
   "source": [
    "#now let's run it with the best features only\n",
    "latest_c = RandomForestClassifier(n_estimators= 1000,n_jobs=-1,bootstrap=True )\n",
    "\n",
    "#fit the model\n",
    "latest_c.fit(X_imp_train, y_train)\n",
    "\n"
   ]
  },
  {
   "cell_type": "code",
   "execution_count": 63,
   "metadata": {},
   "outputs": [
    {
     "ename": "ValueError",
     "evalue": "Number of features of the model must match the input. Model n_features is 16 and input n_features is 90 ",
     "output_type": "error",
     "traceback": [
      "\u001b[0;31m---------------------------------------------------------------------------\u001b[0m",
      "\u001b[0;31mValueError\u001b[0m                                Traceback (most recent call last)",
      "\u001b[0;32m<ipython-input-63-53422b4aa63f>\u001b[0m in \u001b[0;36m<module>\u001b[0;34m\u001b[0m\n\u001b[1;32m      3\u001b[0m \u001b[0;34m\u001b[0m\u001b[0m\n\u001b[1;32m      4\u001b[0m \u001b[0;31m#print the score with the scoring function.\u001b[0m\u001b[0;34m\u001b[0m\u001b[0;34m\u001b[0m\u001b[0m\n\u001b[0;32m----> 5\u001b[0;31m \u001b[0mprint_score\u001b[0m\u001b[0;34m(\u001b[0m\u001b[0mpred_latest\u001b[0m\u001b[0;34m,\u001b[0m\u001b[0mlatest_c\u001b[0m\u001b[0;34m)\u001b[0m\u001b[0;34m\u001b[0m\u001b[0m\n\u001b[0m",
      "\u001b[0;32m<ipython-input-50-488ea39d66b4>\u001b[0m in \u001b[0;36mprint_score\u001b[0;34m(m, md)\u001b[0m\n\u001b[1;32m     22\u001b[0m \u001b[0;34m\u001b[0m\u001b[0m\n\u001b[1;32m     23\u001b[0m     \u001b[0;31m#let's see how the model does on validation data\u001b[0m\u001b[0;34m\u001b[0m\u001b[0;34m\u001b[0m\u001b[0m\n\u001b[0;32m---> 24\u001b[0;31m     \u001b[0mpred\u001b[0m \u001b[0;34m=\u001b[0m \u001b[0mmd\u001b[0m\u001b[0;34m.\u001b[0m\u001b[0mpredict\u001b[0m\u001b[0;34m(\u001b[0m\u001b[0mX_valid\u001b[0m\u001b[0;34m)\u001b[0m\u001b[0;34m\u001b[0m\u001b[0m\n\u001b[0m\u001b[1;32m     25\u001b[0m     \u001b[0mf2\u001b[0m \u001b[0;34m=\u001b[0m \u001b[0mf1_score\u001b[0m\u001b[0;34m(\u001b[0m\u001b[0my_valid\u001b[0m\u001b[0;34m,\u001b[0m\u001b[0mpred\u001b[0m\u001b[0;34m)\u001b[0m\u001b[0;34m\u001b[0m\u001b[0m\n\u001b[1;32m     26\u001b[0m \u001b[0;34m\u001b[0m\u001b[0m\n",
      "\u001b[0;32m~/.local/lib/python3.5/site-packages/sklearn/ensemble/forest.py\u001b[0m in \u001b[0;36mpredict\u001b[0;34m(self, X)\u001b[0m\n\u001b[1;32m    543\u001b[0m             \u001b[0mThe\u001b[0m \u001b[0mpredicted\u001b[0m \u001b[0mclasses\u001b[0m\u001b[0;34m.\u001b[0m\u001b[0;34m\u001b[0m\u001b[0m\n\u001b[1;32m    544\u001b[0m         \"\"\"\n\u001b[0;32m--> 545\u001b[0;31m         \u001b[0mproba\u001b[0m \u001b[0;34m=\u001b[0m \u001b[0mself\u001b[0m\u001b[0;34m.\u001b[0m\u001b[0mpredict_proba\u001b[0m\u001b[0;34m(\u001b[0m\u001b[0mX\u001b[0m\u001b[0;34m)\u001b[0m\u001b[0;34m\u001b[0m\u001b[0m\n\u001b[0m\u001b[1;32m    546\u001b[0m \u001b[0;34m\u001b[0m\u001b[0m\n\u001b[1;32m    547\u001b[0m         \u001b[0;32mif\u001b[0m \u001b[0mself\u001b[0m\u001b[0;34m.\u001b[0m\u001b[0mn_outputs_\u001b[0m \u001b[0;34m==\u001b[0m \u001b[0;36m1\u001b[0m\u001b[0;34m:\u001b[0m\u001b[0;34m\u001b[0m\u001b[0m\n",
      "\u001b[0;32m~/.local/lib/python3.5/site-packages/sklearn/ensemble/forest.py\u001b[0m in \u001b[0;36mpredict_proba\u001b[0;34m(self, X)\u001b[0m\n\u001b[1;32m    586\u001b[0m         \u001b[0mcheck_is_fitted\u001b[0m\u001b[0;34m(\u001b[0m\u001b[0mself\u001b[0m\u001b[0;34m,\u001b[0m \u001b[0;34m'estimators_'\u001b[0m\u001b[0;34m)\u001b[0m\u001b[0;34m\u001b[0m\u001b[0m\n\u001b[1;32m    587\u001b[0m         \u001b[0;31m# Check data\u001b[0m\u001b[0;34m\u001b[0m\u001b[0;34m\u001b[0m\u001b[0m\n\u001b[0;32m--> 588\u001b[0;31m         \u001b[0mX\u001b[0m \u001b[0;34m=\u001b[0m \u001b[0mself\u001b[0m\u001b[0;34m.\u001b[0m\u001b[0m_validate_X_predict\u001b[0m\u001b[0;34m(\u001b[0m\u001b[0mX\u001b[0m\u001b[0;34m)\u001b[0m\u001b[0;34m\u001b[0m\u001b[0m\n\u001b[0m\u001b[1;32m    589\u001b[0m \u001b[0;34m\u001b[0m\u001b[0m\n\u001b[1;32m    590\u001b[0m         \u001b[0;31m# Assign chunk of trees to jobs\u001b[0m\u001b[0;34m\u001b[0m\u001b[0;34m\u001b[0m\u001b[0m\n",
      "\u001b[0;32m~/.local/lib/python3.5/site-packages/sklearn/ensemble/forest.py\u001b[0m in \u001b[0;36m_validate_X_predict\u001b[0;34m(self, X)\u001b[0m\n\u001b[1;32m    357\u001b[0m                                  \"call `fit` before exploiting the model.\")\n\u001b[1;32m    358\u001b[0m \u001b[0;34m\u001b[0m\u001b[0m\n\u001b[0;32m--> 359\u001b[0;31m         \u001b[0;32mreturn\u001b[0m \u001b[0mself\u001b[0m\u001b[0;34m.\u001b[0m\u001b[0mestimators_\u001b[0m\u001b[0;34m[\u001b[0m\u001b[0;36m0\u001b[0m\u001b[0;34m]\u001b[0m\u001b[0;34m.\u001b[0m\u001b[0m_validate_X_predict\u001b[0m\u001b[0;34m(\u001b[0m\u001b[0mX\u001b[0m\u001b[0;34m,\u001b[0m \u001b[0mcheck_input\u001b[0m\u001b[0;34m=\u001b[0m\u001b[0;32mTrue\u001b[0m\u001b[0;34m)\u001b[0m\u001b[0;34m\u001b[0m\u001b[0m\n\u001b[0m\u001b[1;32m    360\u001b[0m \u001b[0;34m\u001b[0m\u001b[0m\n\u001b[1;32m    361\u001b[0m     \u001b[0;34m@\u001b[0m\u001b[0mproperty\u001b[0m\u001b[0;34m\u001b[0m\u001b[0m\n",
      "\u001b[0;32m~/.local/lib/python3.5/site-packages/sklearn/tree/tree.py\u001b[0m in \u001b[0;36m_validate_X_predict\u001b[0;34m(self, X, check_input)\u001b[0m\n\u001b[1;32m    400\u001b[0m                              \u001b[0;34m\"match the input. Model n_features is %s and \"\u001b[0m\u001b[0;34m\u001b[0m\u001b[0m\n\u001b[1;32m    401\u001b[0m                              \u001b[0;34m\"input n_features is %s \"\u001b[0m\u001b[0;34m\u001b[0m\u001b[0m\n\u001b[0;32m--> 402\u001b[0;31m                              % (self.n_features_, n_features))\n\u001b[0m\u001b[1;32m    403\u001b[0m \u001b[0;34m\u001b[0m\u001b[0m\n\u001b[1;32m    404\u001b[0m         \u001b[0;32mreturn\u001b[0m \u001b[0mX\u001b[0m\u001b[0;34m\u001b[0m\u001b[0m\n",
      "\u001b[0;31mValueError\u001b[0m: Number of features of the model must match the input. Model n_features is 16 and input n_features is 90 "
     ]
    }
   ],
   "source": [
    "#predict from the model\n",
    "pred_latest = latest_c.predict(X_imp_test)\n",
    "\n",
    "#print the score with the scoring function.\n",
    "print_score(pred_latest,latest_c)"
   ]
  },
  {
   "cell_type": "code",
   "execution_count": 60,
   "metadata": {},
   "outputs": [],
   "source": [
    "#bst_params = grid.best_params_\n",
    "#bst_params"
   ]
  },
  {
   "cell_type": "code",
   "execution_count": 61,
   "metadata": {},
   "outputs": [],
   "source": [
    "#test_2 = select_feature.transform(test)\n",
    "#pred_new_2 = rm_clf_new.predict(test_2)"
   ]
  },
  {
   "cell_type": "markdown",
   "metadata": {},
   "source": [
    "These are the best parameters after the recent run of RandomSearchCV\n",
    "{'n_estimators': 215,\n",
    " 'min_samples_leaf': 25,\n",
    " 'max_features': 'sqrt',\n",
    " 'criterion': 'entropy'}"
   ]
  },
  {
   "cell_type": "code",
   "execution_count": 62,
   "metadata": {},
   "outputs": [],
   "source": [
    "#the functional Classifier\n",
    "#rm_clf = RandomForestClassifier( n_estimators=64,max_depth =10,min_samples_split=0.2,min_samples_leaf=0.1,max_features=14)\n",
    "#knn_clf = KNeighborsClassifier(n_neighbors=5,algorithm='auto')\n",
    "#lgs_cls = LogisticRegression(penalty='l2', dual=True, max_iter=30)#87%\n",
    "#gsn_cls= GaussianNB(priors=None, var_smoothing=1e-09)\n",
    "#svc_cls= SVC()\n",
    "#ada_cls= AdaBoostClassifier(n_estimators=10,learning_rate=1,algorithm='SAMME.R') #this takes a base estimator and corrects its issues"
   ]
  },
  {
   "cell_type": "markdown",
   "metadata": {},
   "source": [
    "![](http://)### Feature Importance for Random Forest  Classifier\n",
    "\n",
    "- I want to know which of the features are affecting the model in a good way and which ones are not important at all. \n",
    "- When I find the important ones I remove the 0: importance features and then work with those that are important. \n",
    "- I will use the classifier to help me make these decisions."
   ]
  },
  {
   "cell_type": "code",
   "execution_count": 63,
   "metadata": {},
   "outputs": [],
   "source": [
    "#fin_pred = rm_clf.predict(test)"
   ]
  },
  {
   "cell_type": "code",
   "execution_count": 64,
   "metadata": {},
   "outputs": [
    {
     "ename": "SyntaxError",
     "evalue": "EOF while scanning triple-quoted string literal (<ipython-input-64-8cf861e71257>, line 4)",
     "output_type": "error",
     "traceback": [
      "\u001b[0;36m  File \u001b[0;32m\"<ipython-input-64-8cf861e71257>\"\u001b[0;36m, line \u001b[0;32m4\u001b[0m\n\u001b[0;31m    })'''\u001b[0m\n\u001b[0m         \n^\u001b[0m\n\u001b[0;31mSyntaxError\u001b[0m\u001b[0;31m:\u001b[0m EOF while scanning triple-quoted string literal\n"
     ]
    }
   ],
   "source": [
    "\"\"\"\"Sub = pd.DataFrame({\n",
    "    'TransactionId':fin_Id,\n",
    "    'FraudResult':pred_new_2\n",
    "})'''"
   ]
  },
  {
   "cell_type": "code",
   "execution_count": 65,
   "metadata": {},
   "outputs": [],
   "source": [
    "#Sub.to_csv('EnsembleTrain_3.csv',index=False)"
   ]
  },
  {
   "cell_type": "markdown",
   "metadata": {},
   "source": [
    "### Subset the Data\n",
    "\n",
    "For rapid prototyping of the models, we are going to chop the data into small bits so that we can do it quickly"
   ]
  },
  {
   "cell_type": "code",
   "execution_count": 63,
   "metadata": {},
   "outputs": [],
   "source": [
    "#X__train = X_train[:40000,]\n",
    "#y__train = y_train[:40000]\n",
    "#X__test = X_test[:40000,]\n",
    "#y__test = y_test[:40000]"
   ]
  },
  {
   "cell_type": "markdown",
   "metadata": {},
   "source": [
    "### KNeighbour Classifier"
   ]
  },
  {
   "cell_type": "code",
   "execution_count": null,
   "metadata": {},
   "outputs": [
    {
     "name": "stdout",
     "output_type": "stream",
     "text": [
      "CPU times: user 0 ns, sys: 0 ns, total: 0 ns\n",
      "Wall time: 6.91 µs\n",
      "Fitting 3 folds for each of 30 candidates, totalling 90 fits\n"
     ]
    },
    {
     "name": "stderr",
     "output_type": "stream",
     "text": [
      "[Parallel(n_jobs=-1)]: Using backend LokyBackend with 8 concurrent workers.\n"
     ]
    }
   ],
   "source": [
    "\"\"\"\"from sklearn.neighbors import KNeighborsClassifier\n",
    "from sklearn.model_selection import GridSearchCV \n",
    "rm_clf = KNeighborsClassifier()\n",
    "\n",
    "\n",
    "# Define parameter grid \n",
    "params = {\n",
    "    \n",
    "    'n_neighbors':list(range(1,6)),\n",
    "    #'weights':['uniform','distance'],\n",
    "    #'algorithm':['auto','ball_tree','kd_tree','brute'],\n",
    "    'leaf_size':list(range(1,7)),\n",
    "    #'p':[1,2,3,4,5],\n",
    "    'metric':['minkowski'],\n",
    "    'metric_params':[None],\n",
    "    'n_jobs':[-1],\n",
    "    \n",
    "}\n",
    "\n",
    "\n",
    "# Initialize GridSearchCV\n",
    "grid = GridSearchCV(estimator = rm_clf, \n",
    "                    param_grid = params, \n",
    "                    cv = 3,\n",
    "                    scoring = \"f1\",\n",
    "                    verbose = 1,\n",
    "                    #n_iter=20,\n",
    "                    n_jobs = -1)\n",
    "\n",
    "# Fit GridSearchCV\n",
    "%time\n",
    "grid.fit(X__train, y__train)\n",
    "\n",
    "\n",
    "y_pred = grid.predict(X__test)\n",
    "\n",
    "false_positive_rate, true_positive_rate, thresholds = roc_curve(y__test, y_pred)\n",
    "roc_auc = auc(false_positive_rate, true_positive_rate)\n",
    "\n",
    "\n",
    "# Print results\n",
    "print(\"The ROC of the tuned classifier is\", roc_auc)\n",
    "\n",
    "\n",
    "print(grid.best_params_)\"\"\""
   ]
  },
  {
   "cell_type": "code",
   "execution_count": null,
   "metadata": {},
   "outputs": [],
   "source": []
  },
  {
   "cell_type": "code",
   "execution_count": null,
   "metadata": {},
   "outputs": [],
   "source": []
  },
  {
   "cell_type": "code",
   "execution_count": 68,
   "metadata": {},
   "outputs": [
    {
     "name": "stdout",
     "output_type": "stream",
     "text": [
      "['roc_auc-->', 0.8544534145050291, 'F1_score-->', 0.009457329430308489, 'roc_auc_score-->', 0.8544534145050291]\n",
      "\n",
      "\n",
      "Model Performance on out of sample data\n",
      "['Valid_data_F1_score-->', 0.0]\n",
      "\n",
      "\n",
      "Model Performance on train data\n",
      "['Train_data_F1_score-->', 1.0]\n",
      "\n",
      "\n",
      "--------------------\n",
      "Scores on the Validation Data according to the Confusion_matrix\n",
      "Error rate  :  0.0033\n",
      "Accuracy  :  0.9967\n",
      "Precision  :  nan\n",
      "Sensitivity  :  0.0\n",
      "Specificity  :  0.0\n",
      "False positive rate  :  0.0\n",
      "True positive rate  :  0.0\n",
      "--------------------\n",
      "\n",
      "\n",
      "Drawing the Confusion Matrix on Out_of_sample_data\n"
     ]
    },
    {
     "data": {
      "image/png": "[encoded data removed]",
      "text/plain": [
       "<Figure size 504x504 with 2 Axes>"
      ]
     },
     "metadata": {
      "needs_background": "light"
     },
     "output_type": "display_data"
    }
   ],
   "source": [
    "\"\"\"\"kn_1 = KNeighborsClassifier(weights='distance', p=5, n_neighbors=5, n_jobs=-1, metric_params=None, metric= 'minkowski', leaf_size= 3, algorithm= 'auto')\n",
    "kn_1.fit(X_train, y_train)\n",
    "pred_kn = kn_1.predict(X_test)\n",
    "print_score(pred_kn,kn_1)\"\"\""
   ]
  },
  {
   "cell_type": "code",
   "execution_count": null,
   "metadata": {},
   "outputs": [],
   "source": []
  }
 ],
 "metadata": {
  "kernelspec": {
   "display_name": "Python 3",
   "language": "python",
   "name": "python3"
  },
  "language_info": {
   "codemirror_mode": {
    "name": "ipython",
    "version": 3
   },
   "file_extension": ".py",
   "mimetype": "text/x-python",
   "name": "python",
   "nbconvert_exporter": "python",
   "pygments_lexer": "ipython3",
   "version": "3.5.3"
  }
 },
 "nbformat": 4,
 "nbformat_minor": 2
}
