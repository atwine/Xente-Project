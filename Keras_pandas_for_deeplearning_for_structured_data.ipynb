{
  "nbformat": 4,
  "nbformat_minor": 0,
  "metadata": {
    "colab": {
      "name": "Keras_pandas_for_deeplearning_for_structured data.ipynb",
      "version": "0.3.2",
      "provenance": [],
      "collapsed_sections": [],
      "include_colab_link": true
    },
    "kernelspec": {
      "name": "python3",
      "display_name": "Python 3"
    },
    "accelerator": "GPU"
  },
  "cells": [
    {
      "cell_type": "markdown",
      "metadata": {
        "id": "view-in-github",
        "colab_type": "text"
      },
      "source": [
        "<a href=\"https://colab.research.google.com/github/atwine/Xente-Project/blob/master/Keras_pandas_for_deeplearning_for_structured_data.ipynb\" target=\"_parent\"><img src=\"https://colab.research.google.com/assets/colab-badge.svg\" alt=\"Open In Colab\"/></a>"
      ]
    },
    {
      "cell_type": "markdown",
      "metadata": {
        "id": "j12fUKXZr36g",
        "colab_type": "text"
      },
      "source": [
        "# Keras-Pandas\n",
        "\n",
        "There is this issue, I have had trying to use deep learning to work on structured data.\n",
        "\n",
        "I have made some mistakes before thinking this is straight forward as just inserting in the data and let the neural nets do the rest.\n",
        "\n",
        "However I have discovered that I have to transform the data especially the categorical variables through entity embedding in order for the neural nets to receive the data well.\n",
        "\n",
        "This module Keras Pandas assist in doing this and below is an example of how to accomplish this using the dataset of Titanic.\n",
        "\n",
        "For more information and documentation on how this library works one can look at this [repository of keras-pandas](https://github.com/bjherger/keras-pandas)"
      ]
    },
    {
      "cell_type": "code",
      "metadata": {
        "id": "xtpMFL6HpKEb",
        "colab_type": "code",
        "outputId": "36e86749-b4ad-47b2-c9f5-dfe9717800ee",
        "colab": {
          "base_uri": "https://localhost:8080/",
          "height": 1000
        }
      },
      "source": [
        "#let's install the library\n",
        "!pip install -U keras-pandas"
      ],
      "execution_count": 1,
      "outputs": [
        {
          "output_type": "stream",
          "text": [
            "Collecting keras-pandas\n",
            "\u001b[?25l  Downloading https://files.pythonhosted.org/packages/07/f9/e42beb3eb9833853c6512906d2707d44868c8b360472241491269ac7e270/keras_pandas-3.1.0-py2.py3-none-any.whl (40kB)\n",
            "\r\u001b[K     |████████▏                       | 10kB 16.3MB/s eta 0:00:01\r\u001b[K     |████████████████▎               | 20kB 4.6MB/s eta 0:00:01\r\u001b[K     |████████████████████████▌       | 30kB 6.6MB/s eta 0:00:01\r\u001b[K     |████████████████████████████████| 40kB 6.9MB/s \n",
            "\u001b[?25hCollecting scikit-learn==0.20.0 (from keras-pandas)\n",
            "\u001b[?25l  Downloading https://files.pythonhosted.org/packages/0c/b2/05be9b6da9ae4a4c54f537be22e95833f722742a02b1e355fdc09363877c/scikit_learn-0.20.0-cp36-cp36m-manylinux1_x86_64.whl (5.3MB)\n",
            "\u001b[K     |████████████████████████████████| 5.3MB 18.9MB/s \n",
            "\u001b[?25hRequirement already satisfied, skipping upgrade: xlrd==1.1.0 in /usr/local/lib/python3.6/dist-packages (from keras-pandas) (1.1.0)\n",
            "Collecting numpy==1.15.2 (from keras-pandas)\n",
            "\u001b[?25l  Downloading https://files.pythonhosted.org/packages/22/02/bae88c4aaea4256d890adbf3f7cf33e59a443f9985cf91cd08a35656676a/numpy-1.15.2-cp36-cp36m-manylinux1_x86_64.whl (13.9MB)\n",
            "\u001b[K     |████████████████████████████████| 13.9MB 31.3MB/s \n",
            "\u001b[?25hCollecting pandas==0.23.4 (from keras-pandas)\n",
            "\u001b[?25l  Downloading https://files.pythonhosted.org/packages/e1/d8/feeb346d41f181e83fba45224ab14a8d8af019b48af742e047f3845d8cff/pandas-0.23.4-cp36-cp36m-manylinux1_x86_64.whl (8.9MB)\n",
            "\u001b[K     |████████████████████████████████| 8.9MB 35.6MB/s \n",
            "\u001b[?25hRequirement already satisfied, skipping upgrade: h5py==2.8.0 in /usr/local/lib/python3.6/dist-packages (from keras-pandas) (2.8.0)\n",
            "Requirement already satisfied, skipping upgrade: gensim==3.6.0 in /usr/local/lib/python3.6/dist-packages (from keras-pandas) (3.6.0)\n",
            "Collecting Keras==2.2.4 (from keras-pandas)\n",
            "\u001b[?25l  Downloading https://files.pythonhosted.org/packages/5e/10/aa32dad071ce52b5502266b5c659451cfd6ffcbf14e6c8c4f16c0ff5aaab/Keras-2.2.4-py2.py3-none-any.whl (312kB)\n",
            "\u001b[K     |████████████████████████████████| 317kB 30.0MB/s \n",
            "\u001b[?25hCollecting tensorflow==1.11.0 (from keras-pandas)\n",
            "\u001b[?25l  Downloading https://files.pythonhosted.org/packages/ce/d5/38cd4543401708e64c9ee6afa664b936860f4630dd93a49ab863f9998cd2/tensorflow-1.11.0-cp36-cp36m-manylinux1_x86_64.whl (63.0MB)\n",
            "\u001b[K     |████████████████████████████████| 63.0MB 794kB/s \n",
            "\u001b[?25hCollecting sklearn-pandas==1.7.0 (from keras-pandas)\n",
            "  Downloading https://files.pythonhosted.org/packages/7e/9c/c94f46b40b86d2c77c46c4c1b858fc66c117b4390665eca28f2e0812db45/sklearn_pandas-1.7.0-py2.py3-none-any.whl\n",
            "Collecting requests==2.20.1 (from keras-pandas)\n",
            "\u001b[?25l  Downloading https://files.pythonhosted.org/packages/ff/17/5cbb026005115301a8fb2f9b0e3e8d32313142fe8b617070e7baad20554f/requests-2.20.1-py2.py3-none-any.whl (57kB)\n",
            "\u001b[K     |████████████████████████████████| 61kB 14.1MB/s \n",
            "\u001b[?25hCollecting m2r==0.2.1 (from keras-pandas)\n",
            "  Downloading https://files.pythonhosted.org/packages/39/e7/9fae11a45f5e1a3a21d8a98d02948e597c4afd7848a0dbe1a1ebd235f13e/m2r-0.2.1.tar.gz\n",
            "Requirement already satisfied, skipping upgrade: scipy>=0.13.3 in /usr/local/lib/python3.6/dist-packages (from scikit-learn==0.20.0->keras-pandas) (1.3.1)\n",
            "Requirement already satisfied, skipping upgrade: pytz>=2011k in /usr/local/lib/python3.6/dist-packages (from pandas==0.23.4->keras-pandas) (2018.9)\n",
            "Requirement already satisfied, skipping upgrade: python-dateutil>=2.5.0 in /usr/local/lib/python3.6/dist-packages (from pandas==0.23.4->keras-pandas) (2.5.3)\n",
            "Requirement already satisfied, skipping upgrade: six in /usr/local/lib/python3.6/dist-packages (from h5py==2.8.0->keras-pandas) (1.12.0)\n",
            "Requirement already satisfied, skipping upgrade: smart-open>=1.2.1 in /usr/local/lib/python3.6/dist-packages (from gensim==3.6.0->keras-pandas) (1.8.4)\n",
            "Requirement already satisfied, skipping upgrade: keras-applications>=1.0.6 in /usr/local/lib/python3.6/dist-packages (from Keras==2.2.4->keras-pandas) (1.0.8)\n",
            "Requirement already satisfied, skipping upgrade: pyyaml in /usr/local/lib/python3.6/dist-packages (from Keras==2.2.4->keras-pandas) (3.13)\n",
            "Requirement already satisfied, skipping upgrade: keras-preprocessing>=1.0.5 in /usr/local/lib/python3.6/dist-packages (from Keras==2.2.4->keras-pandas) (1.1.0)\n",
            "Requirement already satisfied, skipping upgrade: astor>=0.6.0 in /usr/local/lib/python3.6/dist-packages (from tensorflow==1.11.0->keras-pandas) (0.8.0)\n",
            "Requirement already satisfied, skipping upgrade: protobuf>=3.6.0 in /usr/local/lib/python3.6/dist-packages (from tensorflow==1.11.0->keras-pandas) (3.7.1)\n",
            "Collecting setuptools<=39.1.0 (from tensorflow==1.11.0->keras-pandas)\n",
            "\u001b[?25l  Downloading https://files.pythonhosted.org/packages/8c/10/79282747f9169f21c053c562a0baa21815a8c7879be97abd930dbcf862e8/setuptools-39.1.0-py2.py3-none-any.whl (566kB)\n",
            "\u001b[K     |████████████████████████████████| 573kB 33.8MB/s \n",
            "\u001b[?25hRequirement already satisfied, skipping upgrade: grpcio>=1.8.6 in /usr/local/lib/python3.6/dist-packages (from tensorflow==1.11.0->keras-pandas) (1.15.0)\n",
            "Requirement already satisfied, skipping upgrade: absl-py>=0.1.6 in /usr/local/lib/python3.6/dist-packages (from tensorflow==1.11.0->keras-pandas) (0.8.0)\n",
            "Requirement already satisfied, skipping upgrade: wheel>=0.26 in /usr/local/lib/python3.6/dist-packages (from tensorflow==1.11.0->keras-pandas) (0.33.6)\n",
            "Collecting tensorboard<1.12.0,>=1.11.0 (from tensorflow==1.11.0->keras-pandas)\n",
            "\u001b[?25l  Downloading https://files.pythonhosted.org/packages/9b/2f/4d788919b1feef04624d63ed6ea45a49d1d1c834199ec50716edb5d310f4/tensorboard-1.11.0-py3-none-any.whl (3.0MB)\n",
            "\u001b[K     |████████████████████████████████| 3.0MB 33.5MB/s \n",
            "\u001b[?25hRequirement already satisfied, skipping upgrade: gast>=0.2.0 in /usr/local/lib/python3.6/dist-packages (from tensorflow==1.11.0->keras-pandas) (0.2.2)\n",
            "Requirement already satisfied, skipping upgrade: termcolor>=1.1.0 in /usr/local/lib/python3.6/dist-packages (from tensorflow==1.11.0->keras-pandas) (1.1.0)\n",
            "Requirement already satisfied, skipping upgrade: urllib3<1.25,>=1.21.1 in /usr/local/lib/python3.6/dist-packages (from requests==2.20.1->keras-pandas) (1.24.3)\n",
            "Requirement already satisfied, skipping upgrade: certifi>=2017.4.17 in /usr/local/lib/python3.6/dist-packages (from requests==2.20.1->keras-pandas) (2019.6.16)\n",
            "Requirement already satisfied, skipping upgrade: chardet<3.1.0,>=3.0.2 in /usr/local/lib/python3.6/dist-packages (from requests==2.20.1->keras-pandas) (3.0.4)\n",
            "Collecting idna<2.8,>=2.5 (from requests==2.20.1->keras-pandas)\n",
            "\u001b[?25l  Downloading https://files.pythonhosted.org/packages/4b/2a/0276479a4b3caeb8a8c1af2f8e4355746a97fab05a372e4a2c6a6b876165/idna-2.7-py2.py3-none-any.whl (58kB)\n",
            "\u001b[K     |████████████████████████████████| 61kB 22.0MB/s \n",
            "\u001b[?25hRequirement already satisfied, skipping upgrade: mistune in /usr/local/lib/python3.6/dist-packages (from m2r==0.2.1->keras-pandas) (0.8.4)\n",
            "Requirement already satisfied, skipping upgrade: docutils in /usr/local/lib/python3.6/dist-packages (from m2r==0.2.1->keras-pandas) (0.15.2)\n",
            "Requirement already satisfied, skipping upgrade: boto>=2.32 in /usr/local/lib/python3.6/dist-packages (from smart-open>=1.2.1->gensim==3.6.0->keras-pandas) (2.49.0)\n",
            "Requirement already satisfied, skipping upgrade: boto3 in /usr/local/lib/python3.6/dist-packages (from smart-open>=1.2.1->gensim==3.6.0->keras-pandas) (1.9.220)\n",
            "Requirement already satisfied, skipping upgrade: markdown>=2.6.8 in /usr/local/lib/python3.6/dist-packages (from tensorboard<1.12.0,>=1.11.0->tensorflow==1.11.0->keras-pandas) (3.1.1)\n",
            "Requirement already satisfied, skipping upgrade: werkzeug>=0.11.10 in /usr/local/lib/python3.6/dist-packages (from tensorboard<1.12.0,>=1.11.0->tensorflow==1.11.0->keras-pandas) (0.15.5)\n",
            "Requirement already satisfied, skipping upgrade: botocore<1.13.0,>=1.12.220 in /usr/local/lib/python3.6/dist-packages (from boto3->smart-open>=1.2.1->gensim==3.6.0->keras-pandas) (1.12.220)\n",
            "Requirement already satisfied, skipping upgrade: jmespath<1.0.0,>=0.7.1 in /usr/local/lib/python3.6/dist-packages (from boto3->smart-open>=1.2.1->gensim==3.6.0->keras-pandas) (0.9.4)\n",
            "Requirement already satisfied, skipping upgrade: s3transfer<0.3.0,>=0.2.0 in /usr/local/lib/python3.6/dist-packages (from boto3->smart-open>=1.2.1->gensim==3.6.0->keras-pandas) (0.2.1)\n",
            "Building wheels for collected packages: m2r\n",
            "  Building wheel for m2r (setup.py) ... \u001b[?25l\u001b[?25hdone\n",
            "  Created wheel for m2r: filename=m2r-0.2.1-cp36-none-any.whl size=10538 sha256=1dcb269ef2177ee7043f11014f9b7310b1f202f0c6491f883fd020b70588a7f5\n",
            "  Stored in directory: /root/.cache/pip/wheels/47/f8/dc/80f56bc4abf785834d422c2f5c864a14bf34576612aeb03492\n",
            "Successfully built m2r\n",
            "\u001b[31mERROR: magenta 0.3.19 has requirement tensorflow>=1.12.0, but you'll have tensorflow 1.11.0 which is incompatible.\u001b[0m\n",
            "\u001b[31mERROR: google-colab 1.0.0 has requirement pandas~=0.24.0, but you'll have pandas 0.23.4 which is incompatible.\u001b[0m\n",
            "\u001b[31mERROR: google-colab 1.0.0 has requirement requests~=2.21.0, but you'll have requests 2.20.1 which is incompatible.\u001b[0m\n",
            "\u001b[31mERROR: datascience 0.10.6 has requirement folium==0.2.1, but you'll have folium 0.8.3 which is incompatible.\u001b[0m\n",
            "\u001b[31mERROR: albumentations 0.1.12 has requirement imgaug<0.2.7,>=0.2.5, but you'll have imgaug 0.2.9 which is incompatible.\u001b[0m\n",
            "Installing collected packages: numpy, scikit-learn, pandas, Keras, setuptools, tensorboard, tensorflow, sklearn-pandas, idna, requests, m2r, keras-pandas\n",
            "  Found existing installation: numpy 1.16.5\n",
            "    Uninstalling numpy-1.16.5:\n",
            "      Successfully uninstalled numpy-1.16.5\n",
            "  Found existing installation: scikit-learn 0.21.3\n",
            "    Uninstalling scikit-learn-0.21.3:\n",
            "      Successfully uninstalled scikit-learn-0.21.3\n",
            "  Found existing installation: pandas 0.24.2\n",
            "    Uninstalling pandas-0.24.2:\n",
            "      Successfully uninstalled pandas-0.24.2\n",
            "  Found existing installation: Keras 2.2.5\n",
            "    Uninstalling Keras-2.2.5:\n",
            "      Successfully uninstalled Keras-2.2.5\n",
            "  Found existing installation: setuptools 41.2.0\n",
            "    Uninstalling setuptools-41.2.0:\n",
            "      Successfully uninstalled setuptools-41.2.0\n",
            "  Found existing installation: tensorboard 1.14.0\n",
            "    Uninstalling tensorboard-1.14.0:\n",
            "      Successfully uninstalled tensorboard-1.14.0\n",
            "  Found existing installation: tensorflow 1.14.0\n",
            "    Uninstalling tensorflow-1.14.0:\n",
            "      Successfully uninstalled tensorflow-1.14.0\n",
            "  Found existing installation: sklearn-pandas 1.8.0\n",
            "    Uninstalling sklearn-pandas-1.8.0:\n",
            "      Successfully uninstalled sklearn-pandas-1.8.0\n",
            "  Found existing installation: idna 2.8\n",
            "    Uninstalling idna-2.8:\n",
            "      Successfully uninstalled idna-2.8\n",
            "  Found existing installation: requests 2.21.0\n",
            "    Uninstalling requests-2.21.0:\n",
            "      Successfully uninstalled requests-2.21.0\n",
            "Successfully installed Keras-2.2.4 idna-2.7 keras-pandas-3.1.0 m2r-0.2.1 numpy-1.15.2 pandas-0.23.4 requests-2.20.1 scikit-learn-0.20.0 setuptools-39.1.0 sklearn-pandas-1.7.0 tensorboard-1.11.0 tensorflow-1.11.0\n"
          ],
          "name": "stdout"
        },
        {
          "output_type": "display_data",
          "data": {
            "application/vnd.colab-display-data+json": {
              "pip_warning": {
                "packages": [
                  "idna",
                  "numpy",
                  "pandas",
                  "pkg_resources",
                  "requests"
                ]
              }
            }
          },
          "metadata": {
            "tags": []
          }
        }
      ]
    },
    {
      "cell_type": "code",
      "metadata": {
        "id": "HG2xqmJiu7WA",
        "colab_type": "code",
        "colab": {}
      },
      "source": [
        ""
      ],
      "execution_count": 0,
      "outputs": []
    },
    {
      "cell_type": "code",
      "metadata": {
        "id": "hkgmM4QHpPOf",
        "colab_type": "code",
        "colab": {
          "base_uri": "https://localhost:8080/",
          "height": 35
        },
        "outputId": "8e876a38-3f1c-403a-ec4f-0d31c7f2ac44"
      },
      "source": [
        "#import other necessary libraries to help with the analysis\n",
        "import logging\n",
        "import os\n",
        "import pickle\n",
        "\n",
        "from keras import Model\n",
        "from keras.layers import Dense\n",
        "from sklearn.model_selection import train_test_split\n",
        "\n",
        "from keras_pandas import lib\n",
        "from keras_pandas.Automater import Automater"
      ],
      "execution_count": 2,
      "outputs": [
        {
          "output_type": "stream",
          "text": [
            "Using TensorFlow backend.\n"
          ],
          "name": "stderr"
        }
      ]
    },
    {
      "cell_type": "code",
      "metadata": {
        "id": "wlzyKtzJplWv",
        "colab_type": "code",
        "outputId": "2eec7d7b-4442-47b5-d037-57ffa37d9148",
        "colab": {
          "base_uri": "https://localhost:8080/",
          "height": 55
        }
      },
      "source": [
        "save_results = True\n",
        "# TODO Load data\n",
        "observations = lib.load_titanic()\n",
        "print('Observation columns: {}'.format(list(observations.columns)))"
      ],
      "execution_count": 3,
      "outputs": [
        {
          "output_type": "stream",
          "text": [
            "Observation columns: ['survived', 'pclass', 'name', 'sex', 'age', 'siblings_spouses_aboard', 'parents_children_aboard', 'fare']\n"
          ],
          "name": "stdout"
        }
      ]
    },
    {
      "cell_type": "code",
      "metadata": {
        "id": "U4qJAnyvqaDa",
        "colab_type": "code",
        "colab": {}
      },
      "source": [
        "# TODO Train /test split\n",
        "train_observations, test_observations = train_test_split(observations)\n",
        "train_observations = train_observations.copy()\n",
        "test_observations = test_observations.copy()"
      ],
      "execution_count": 0,
      "outputs": []
    },
    {
      "cell_type": "code",
      "metadata": {
        "id": "46rpGV6OqhrZ",
        "colab_type": "code",
        "colab": {}
      },
      "source": [
        "# TODO List out variable types\n",
        "\n",
        "data_type_dict = {'numerical': ['age', 'siblings_spouses_aboard', 'parents_children_aboard', 'fare'],\n",
        "                      'categorical': ['survived', 'pclass', 'sex'],\n",
        "                      'text': ['name'],\n",
        "                        'timeseries': []}\n",
        "output_var = 'survived'"
      ],
      "execution_count": 0,
      "outputs": []
    },
    {
      "cell_type": "code",
      "metadata": {
        "id": "GRS1BJN1qtF9",
        "colab_type": "code",
        "outputId": "1b824ab4-bfe9-48e3-cae0-0ae50196cbf6",
        "colab": {
          "base_uri": "https://localhost:8080/",
          "height": 296
        }
      },
      "source": [
        "# Create and fit Automater\n",
        "auto = Automater(data_type_dict=data_type_dict, output_var=output_var)\n",
        "auto.fit(train_observations)"
      ],
      "execution_count": 6,
      "outputs": [
        {
          "output_type": "stream",
          "text": [
            "/usr/local/lib/python3.6/dist-packages/sklearn/utils/deprecation.py:58: DeprecationWarning: Class Imputer is deprecated; Imputer was deprecated in version 0.20 and will be removed in 0.22. Import impute.SimpleImputer from sklearn instead.\n",
            "  warnings.warn(msg, category=DeprecationWarning)\n",
            "/usr/local/lib/python3.6/dist-packages/keras_pandas/transformations.py:357: DataConversionWarning: A column-vector y was passed when a 1d array was expected. Please change the shape of y to (n_samples, ), for example using ravel().\n",
            "  y = column_or_1d(y, warn=True)\n",
            "/usr/local/lib/python3.6/dist-packages/keras_pandas/transformations.py:393: DataConversionWarning: A column-vector y was passed when a 1d array was expected. Please change the shape of y to (n_samples, ), for example using ravel().\n",
            "  y = column_or_1d(y, warn=True)\n",
            "/usr/local/lib/python3.6/dist-packages/keras_pandas/data_types/Numerical.py:36: FutureWarning: Method .as_matrix will be removed in a future version. Use .values instead.\n",
            "  transformed = transformed_observations[variable].as_matrix()\n",
            "/usr/local/lib/python3.6/dist-packages/keras_pandas/data_types/Categorical.py:41: FutureWarning: Method .as_matrix will be removed in a future version. Use .values instead.\n",
            "  transformed = transformed_observations[variable].as_matrix()\n",
            "/usr/local/lib/python3.6/dist-packages/keras_pandas/data_types/Text.py:47: FutureWarning: Method .as_matrix will be removed in a future version. Use .values instead.\n",
            "  transformed = transformed_observations[variable_list].as_matrix()\n",
            "/usr/local/lib/python3.6/dist-packages/keras_pandas/transformations.py:357: DataConversionWarning: A column-vector y was passed when a 1d array was expected. Please change the shape of y to (n_samples, ), for example using ravel().\n",
            "  y = column_or_1d(y, warn=True)\n"
          ],
          "name": "stderr"
        },
        {
          "output_type": "execute_result",
          "data": {
            "text/plain": [
              "<keras_pandas.Automater.Automater at 0x7f2aac67c2b0>"
            ]
          },
          "metadata": {
            "tags": []
          },
          "execution_count": 6
        }
      ]
    },
    {
      "cell_type": "code",
      "metadata": {
        "id": "IdUG7tZPqw5y",
        "colab_type": "code",
        "outputId": "30d4102b-aeba-4061-fa1a-58061653096c",
        "colab": {
          "base_uri": "https://localhost:8080/",
          "height": 314
        }
      },
      "source": [
        "# Transform data\n",
        "train_X, train_y = auto.fit_transform(train_observations)\n",
        "test_X, test_y = auto.transform(test_observations)"
      ],
      "execution_count": 7,
      "outputs": [
        {
          "output_type": "stream",
          "text": [
            "/usr/local/lib/python3.6/dist-packages/keras_pandas/transformations.py:357: DataConversionWarning: A column-vector y was passed when a 1d array was expected. Please change the shape of y to (n_samples, ), for example using ravel().\n",
            "  y = column_or_1d(y, warn=True)\n",
            "/usr/local/lib/python3.6/dist-packages/keras_pandas/transformations.py:393: DataConversionWarning: A column-vector y was passed when a 1d array was expected. Please change the shape of y to (n_samples, ), for example using ravel().\n",
            "  y = column_or_1d(y, warn=True)\n",
            "/usr/local/lib/python3.6/dist-packages/keras_pandas/data_types/Numerical.py:36: FutureWarning: Method .as_matrix will be removed in a future version. Use .values instead.\n",
            "  transformed = transformed_observations[variable].as_matrix()\n",
            "/usr/local/lib/python3.6/dist-packages/keras_pandas/data_types/Categorical.py:41: FutureWarning: Method .as_matrix will be removed in a future version. Use .values instead.\n",
            "  transformed = transformed_observations[variable].as_matrix()\n",
            "/usr/local/lib/python3.6/dist-packages/keras_pandas/data_types/Text.py:47: FutureWarning: Method .as_matrix will be removed in a future version. Use .values instead.\n",
            "  transformed = transformed_observations[variable_list].as_matrix()\n",
            "/usr/local/lib/python3.6/dist-packages/keras_pandas/transformations.py:357: DataConversionWarning: A column-vector y was passed when a 1d array was expected. Please change the shape of y to (n_samples, ), for example using ravel().\n",
            "  y = column_or_1d(y, warn=True)\n",
            "/usr/local/lib/python3.6/dist-packages/keras_pandas/transformations.py:393: DataConversionWarning: A column-vector y was passed when a 1d array was expected. Please change the shape of y to (n_samples, ), for example using ravel().\n",
            "  y = column_or_1d(y, warn=True)\n",
            "/usr/local/lib/python3.6/dist-packages/keras_pandas/transformations.py:393: DataConversionWarning: A column-vector y was passed when a 1d array was expected. Please change the shape of y to (n_samples, ), for example using ravel().\n",
            "  y = column_or_1d(y, warn=True)\n"
          ],
          "name": "stderr"
        }
      ]
    },
    {
      "cell_type": "code",
      "metadata": {
        "id": "F1gx_PKIq77N",
        "colab_type": "code",
        "colab": {}
      },
      "source": [
        "# TODO Create and fit keras (deep learning) model.\n",
        "\n",
        "x = auto.input_nub\n",
        "x = Dense(32)(x)\n",
        "x = Dense(32)(x)\n",
        "x = auto.output_nub(x)"
      ],
      "execution_count": 0,
      "outputs": []
    },
    {
      "cell_type": "code",
      "metadata": {
        "id": "Wm42vyuorFPd",
        "colab_type": "code",
        "colab": {}
      },
      "source": [
        "model = Model(inputs=auto.input_layers, outputs=x)\n",
        "model.compile(optimizer='adam', loss=auto.suggest_loss())"
      ],
      "execution_count": 0,
      "outputs": []
    },
    {
      "cell_type": "code",
      "metadata": {
        "id": "Y8R04mJQrJl0",
        "colab_type": "code",
        "outputId": "449657df-99c0-4417-e9de-ebbefdcae00c",
        "colab": {
          "base_uri": "https://localhost:8080/",
          "height": 69
        }
      },
      "source": [
        "model.fit(train_X, train_y)"
      ],
      "execution_count": 10,
      "outputs": [
        {
          "output_type": "stream",
          "text": [
            "Epoch 1/1\n",
            "665/665 [==============================] - 2s 3ms/step - loss: 0.8595\n"
          ],
          "name": "stdout"
        },
        {
          "output_type": "execute_result",
          "data": {
            "text/plain": [
              "<keras.callbacks.History at 0x7f2aac67ccc0>"
            ]
          },
          "metadata": {
            "tags": []
          },
          "execution_count": 10
        }
      ]
    },
    {
      "cell_type": "code",
      "metadata": {
        "id": "mL4ZAxRirO68",
        "colab_type": "code",
        "outputId": "4fa8d933-ef7f-4d94-a2bb-c66288428b21",
        "colab": {
          "base_uri": "https://localhost:8080/",
          "height": 207
        }
      },
      "source": [
        "# Make model predictions and inverse transform model predictions, to get usable results\n",
        "pred_test_y = model.predict(test_X)\n",
        "auto.inverse_transform_output(pred_test_y)"
      ],
      "execution_count": 11,
      "outputs": [
        {
          "output_type": "execute_result",
          "data": {
            "text/plain": [
              "array([0, 0, 0, 0, 0, 0, 0, 0, 0, 0, 0, 0, 0, 0, 0, 0, 1, 0, 0, 0, 0, 0,\n",
              "       0, 0, 0, 0, 0, 0, 0, 0, 0, 0, 0, 0, 0, 0, 0, 0, 0, 0, 0, 0, 0, 0,\n",
              "       0, 0, 1, 0, 0, 0, 0, 0, 0, 0, 0, 0, 0, 0, 0, 0, 1, 0, 0, 0, 0, 0,\n",
              "       0, 0, 1, 0, 0, 1, 0, 0, 1, 0, 0, 0, 0, 0, 0, 0, 0, 0, 0, 0, 0, 0,\n",
              "       0, 0, 0, 0, 0, 0, 0, 0, 0, 0, 0, 0, 0, 1, 0, 0, 0, 0, 0, 0, 0, 0,\n",
              "       0, 0, 0, 0, 0, 0, 0, 0, 0, 0, 0, 0, 0, 0, 1, 0, 0, 0, 0, 0, 0, 1,\n",
              "       0, 0, 0, 0, 0, 0, 1, 0, 0, 0, 1, 1, 0, 0, 0, 0, 0, 0, 0, 0, 0, 0,\n",
              "       0, 0, 1, 0, 0, 0, 1, 0, 0, 0, 1, 0, 0, 0, 0, 0, 0, 0, 0, 0, 0, 0,\n",
              "       0, 0, 0, 0, 0, 1, 0, 0, 0, 0, 0, 0, 0, 0, 0, 0, 0, 0, 0, 0, 0, 0,\n",
              "       0, 0, 0, 0, 0, 0, 0, 0, 0, 0, 0, 0, 0, 0, 0, 1, 0, 0, 0, 0, 0, 0,\n",
              "       0, 0])"
            ]
          },
          "metadata": {
            "tags": []
          },
          "execution_count": 11
        }
      ]
    },
    {
      "cell_type": "code",
      "metadata": {
        "id": "xiEOZI6Urd8g",
        "colab_type": "code",
        "colab": {}
      },
      "source": [
        ""
      ],
      "execution_count": 0,
      "outputs": []
    }
  ]
}